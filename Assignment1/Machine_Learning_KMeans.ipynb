{
  "nbformat": 4,
  "nbformat_minor": 0,
  "metadata": {
    "colab": {
      "name": "Machine_Learning_KMeans.ipynb",
      "provenance": [],
      "collapsed_sections": [],
      "authorship_tag": "ABX9TyO0hN/dHGG5XPGnv8aTInfv",
      "include_colab_link": true
    },
    "kernelspec": {
      "name": "python3",
      "display_name": "Python 3"
    }
  },
  "cells": [
    {
      "cell_type": "markdown",
      "metadata": {
        "id": "view-in-github",
        "colab_type": "text"
      },
      "source": [
        "<a href=\"https://colab.research.google.com/github/raghavadevarajeurs/MachineLearning/blob/main/Assignment1/Machine_Learning_KMeans.ipynb\" target=\"_parent\"><img src=\"https://colab.research.google.com/assets/colab-badge.svg\" alt=\"Open In Colab\"/></a>"
      ]
    },
    {
      "cell_type": "markdown",
      "metadata": {
        "id": "c1IBsACbawE-"
      },
      "source": [
        "Assignment1 by Raghava Urs (015135653)\n",
        "\n"
      ]
    },
    {
      "cell_type": "code",
      "metadata": {
        "id": "wObo8jyrMGEH"
      },
      "source": [
        "import pandas as pd\n",
        "import numpy as np\n",
        "import requests\n",
        "import io\n",
        "import matplotlib.pyplot as plt\n",
        "import seaborn as sns\n",
        "from sklearn.preprocessing import StandardScaler\n",
        "from sklearn.cluster import KMeans"
      ],
      "execution_count": 2,
      "outputs": []
    },
    {
      "cell_type": "markdown",
      "metadata": {
        "id": "hC42-kTeVPPX"
      },
      "source": [
        "Various Data Set used below are extracted from [Macro Trends](https://www.macrotrends.net/countries/USA/)\n"
      ]
    },
    {
      "cell_type": "markdown",
      "metadata": {
        "id": "UVl9cUTt0iuZ"
      },
      "source": [
        "##GDP Data"
      ]
    },
    {
      "cell_type": "code",
      "metadata": {
        "id": "E1b52_aQML9m"
      },
      "source": [
        "url=\"https://raw.githubusercontent.com/raghavadevarajeurs/MachineLearning/main/Data/united-states-gdp_new.csv\"\n",
        "file=requests.get(url).content\n",
        "gdp_data=pd.read_csv(io.StringIO(file.decode('utf-8')),sep=',')"
      ],
      "execution_count": 3,
      "outputs": []
    },
    {
      "cell_type": "code",
      "metadata": {
        "id": "6IN6qnrbQ33R"
      },
      "source": [
        "gdp_data.rename(columns={'GDP':'gdp'}, inplace=True)"
      ],
      "execution_count": 4,
      "outputs": []
    },
    {
      "cell_type": "code",
      "metadata": {
        "colab": {
          "base_uri": "https://localhost:8080/",
          "height": 297
        },
        "id": "J-G4lL8OPsO2",
        "outputId": "1042a05e-9d69-4ad1-d94b-605446294771"
      },
      "source": [
        "gdp_data.describe()"
      ],
      "execution_count": 5,
      "outputs": [
        {
          "output_type": "execute_result",
          "data": {
            "text/html": [
              "<div>\n",
              "<style scoped>\n",
              "    .dataframe tbody tr th:only-of-type {\n",
              "        vertical-align: middle;\n",
              "    }\n",
              "\n",
              "    .dataframe tbody tr th {\n",
              "        vertical-align: top;\n",
              "    }\n",
              "\n",
              "    .dataframe thead th {\n",
              "        text-align: right;\n",
              "    }\n",
              "</style>\n",
              "<table border=\"1\" class=\"dataframe\">\n",
              "  <thead>\n",
              "    <tr style=\"text-align: right;\">\n",
              "      <th></th>\n",
              "      <th>gdp</th>\n",
              "      <th>percapita</th>\n",
              "    </tr>\n",
              "  </thead>\n",
              "  <tbody>\n",
              "    <tr>\n",
              "      <th>count</th>\n",
              "      <td>72.000000</td>\n",
              "      <td>72.000000</td>\n",
              "    </tr>\n",
              "    <tr>\n",
              "      <th>mean</th>\n",
              "      <td>23934.144486</td>\n",
              "      <td>21232.686715</td>\n",
              "    </tr>\n",
              "    <tr>\n",
              "      <th>std</th>\n",
              "      <td>24404.142750</td>\n",
              "      <td>18992.036213</td>\n",
              "    </tr>\n",
              "    <tr>\n",
              "      <th>min</th>\n",
              "      <td>998.462000</td>\n",
              "      <td>1719.223702</td>\n",
              "    </tr>\n",
              "    <tr>\n",
              "      <th>25%</th>\n",
              "      <td>2911.332250</td>\n",
              "      <td>3747.915454</td>\n",
              "    </tr>\n",
              "    <tr>\n",
              "      <th>50%</th>\n",
              "      <td>13955.651500</td>\n",
              "      <td>14966.072630</td>\n",
              "    </tr>\n",
              "    <tr>\n",
              "      <th>75%</th>\n",
              "      <td>41338.861750</td>\n",
              "      <td>36601.791682</td>\n",
              "    </tr>\n",
              "    <tr>\n",
              "      <th>max</th>\n",
              "      <td>82002.542000</td>\n",
              "      <td>62718.009410</td>\n",
              "    </tr>\n",
              "  </tbody>\n",
              "</table>\n",
              "</div>"
            ],
            "text/plain": [
              "                gdp     percapita\n",
              "count     72.000000     72.000000\n",
              "mean   23934.144486  21232.686715\n",
              "std    24404.142750  18992.036213\n",
              "min      998.462000   1719.223702\n",
              "25%     2911.332250   3747.915454\n",
              "50%    13955.651500  14966.072630\n",
              "75%    41338.861750  36601.791682\n",
              "max    82002.542000  62718.009410"
            ]
          },
          "metadata": {
            "tags": []
          },
          "execution_count": 5
        }
      ]
    },
    {
      "cell_type": "markdown",
      "metadata": {
        "id": "_JKQOiA80-_7"
      },
      "source": [
        "##GDP Growth Rate Data"
      ]
    },
    {
      "cell_type": "code",
      "metadata": {
        "id": "miCgFAlg4kwy"
      },
      "source": [
        "url=\"https://raw.githubusercontent.com/raghavadevarajeurs/MachineLearning/main/Data/united-states-gdp-growth-rate.csv\"\n",
        "file=requests.get(url).content\n",
        "gdp_growth_data=pd.read_csv(io.StringIO(file.decode('utf-8')),sep=',')"
      ],
      "execution_count": 6,
      "outputs": []
    },
    {
      "cell_type": "code",
      "metadata": {
        "colab": {
          "base_uri": "https://localhost:8080/",
          "height": 297
        },
        "id": "ehkKA6Z547-B",
        "outputId": "e8adb063-9c88-4b0a-8a25-f04926e670ee"
      },
      "source": [
        "gdp_growth_data.describe()"
      ],
      "execution_count": 7,
      "outputs": [
        {
          "output_type": "execute_result",
          "data": {
            "text/html": [
              "<div>\n",
              "<style scoped>\n",
              "    .dataframe tbody tr th:only-of-type {\n",
              "        vertical-align: middle;\n",
              "    }\n",
              "\n",
              "    .dataframe tbody tr th {\n",
              "        vertical-align: top;\n",
              "    }\n",
              "\n",
              "    .dataframe thead th {\n",
              "        text-align: right;\n",
              "    }\n",
              "</style>\n",
              "<table border=\"1\" class=\"dataframe\">\n",
              "  <thead>\n",
              "    <tr style=\"text-align: right;\">\n",
              "      <th></th>\n",
              "      <th>GDP_Growth_Percent</th>\n",
              "      <th>Growth_Annual_Change</th>\n",
              "    </tr>\n",
              "  </thead>\n",
              "  <tbody>\n",
              "    <tr>\n",
              "      <th>count</th>\n",
              "      <td>59.000000</td>\n",
              "      <td>59.000000</td>\n",
              "    </tr>\n",
              "    <tr>\n",
              "      <th>mean</th>\n",
              "      <td>3.034549</td>\n",
              "      <td>-0.002373</td>\n",
              "    </tr>\n",
              "    <tr>\n",
              "      <th>std</th>\n",
              "      <td>2.047946</td>\n",
              "      <td>2.377443</td>\n",
              "    </tr>\n",
              "    <tr>\n",
              "      <th>min</th>\n",
              "      <td>-2.536800</td>\n",
              "      <td>-6.190000</td>\n",
              "    </tr>\n",
              "    <tr>\n",
              "      <th>25%</th>\n",
              "      <td>2.023600</td>\n",
              "      <td>-1.305000</td>\n",
              "    </tr>\n",
              "    <tr>\n",
              "      <th>50%</th>\n",
              "      <td>3.100000</td>\n",
              "      <td>0.030000</td>\n",
              "    </tr>\n",
              "    <tr>\n",
              "      <th>75%</th>\n",
              "      <td>4.423600</td>\n",
              "      <td>0.925000</td>\n",
              "    </tr>\n",
              "    <tr>\n",
              "      <th>max</th>\n",
              "      <td>7.236600</td>\n",
              "      <td>6.390000</td>\n",
              "    </tr>\n",
              "  </tbody>\n",
              "</table>\n",
              "</div>"
            ],
            "text/plain": [
              "       GDP_Growth_Percent  Growth_Annual_Change\n",
              "count           59.000000             59.000000\n",
              "mean             3.034549             -0.002373\n",
              "std              2.047946              2.377443\n",
              "min             -2.536800             -6.190000\n",
              "25%              2.023600             -1.305000\n",
              "50%              3.100000              0.030000\n",
              "75%              4.423600              0.925000\n",
              "max              7.236600              6.390000"
            ]
          },
          "metadata": {
            "tags": []
          },
          "execution_count": 7
        }
      ]
    },
    {
      "cell_type": "markdown",
      "metadata": {
        "id": "wYq6Sohs1DKn"
      },
      "source": [
        "##Fossil Fuel Consumption Data"
      ]
    },
    {
      "cell_type": "code",
      "metadata": {
        "id": "2iYkXa4B5lBR"
      },
      "source": [
        "url=\"https://raw.githubusercontent.com/raghavadevarajeurs/MachineLearning/main/Data/united-states-fossil-fuel-consumption.csv\"\n",
        "file=requests.get(url).content\n",
        "fossil_fuel_data=pd.read_csv(io.StringIO(file.decode('utf-8')),sep=',')"
      ],
      "execution_count": 8,
      "outputs": []
    },
    {
      "cell_type": "code",
      "metadata": {
        "colab": {
          "base_uri": "https://localhost:8080/",
          "height": 297
        },
        "id": "D68WHKEG508f",
        "outputId": "24cb8a75-67c7-4d81-fdc2-c5c36095f325"
      },
      "source": [
        "fossil_fuel_data.describe()"
      ],
      "execution_count": 9,
      "outputs": [
        {
          "output_type": "execute_result",
          "data": {
            "text/html": [
              "<div>\n",
              "<style scoped>\n",
              "    .dataframe tbody tr th:only-of-type {\n",
              "        vertical-align: middle;\n",
              "    }\n",
              "\n",
              "    .dataframe tbody tr th {\n",
              "        vertical-align: top;\n",
              "    }\n",
              "\n",
              "    .dataframe thead th {\n",
              "        text-align: right;\n",
              "    }\n",
              "</style>\n",
              "<table border=\"1\" class=\"dataframe\">\n",
              "  <thead>\n",
              "    <tr style=\"text-align: right;\">\n",
              "      <th></th>\n",
              "      <th>Energy_Fossil_Use_Percent</th>\n",
              "      <th>Fossil_Enr_Annual_Change</th>\n",
              "    </tr>\n",
              "  </thead>\n",
              "  <tbody>\n",
              "    <tr>\n",
              "      <th>count</th>\n",
              "      <td>56.000000</td>\n",
              "      <td>56.000000</td>\n",
              "    </tr>\n",
              "    <tr>\n",
              "      <th>mean</th>\n",
              "      <td>89.289663</td>\n",
              "      <td>-0.233929</td>\n",
              "    </tr>\n",
              "    <tr>\n",
              "      <th>std</th>\n",
              "      <td>4.551425</td>\n",
              "      <td>0.375842</td>\n",
              "    </tr>\n",
              "    <tr>\n",
              "      <th>min</th>\n",
              "      <td>82.427800</td>\n",
              "      <td>-1.060000</td>\n",
              "    </tr>\n",
              "    <tr>\n",
              "      <th>25%</th>\n",
              "      <td>85.762125</td>\n",
              "      <td>-0.557500</td>\n",
              "    </tr>\n",
              "    <tr>\n",
              "      <th>50%</th>\n",
              "      <td>87.235550</td>\n",
              "      <td>-0.245000</td>\n",
              "    </tr>\n",
              "    <tr>\n",
              "      <th>75%</th>\n",
              "      <td>94.361675</td>\n",
              "      <td>0.030000</td>\n",
              "    </tr>\n",
              "    <tr>\n",
              "      <th>max</th>\n",
              "      <td>95.982200</td>\n",
              "      <td>0.950000</td>\n",
              "    </tr>\n",
              "  </tbody>\n",
              "</table>\n",
              "</div>"
            ],
            "text/plain": [
              "       Energy_Fossil_Use_Percent  Fossil_Enr_Annual_Change\n",
              "count                  56.000000                 56.000000\n",
              "mean                   89.289663                 -0.233929\n",
              "std                     4.551425                  0.375842\n",
              "min                    82.427800                 -1.060000\n",
              "25%                    85.762125                 -0.557500\n",
              "50%                    87.235550                 -0.245000\n",
              "75%                    94.361675                  0.030000\n",
              "max                    95.982200                  0.950000"
            ]
          },
          "metadata": {
            "tags": []
          },
          "execution_count": 9
        }
      ]
    },
    {
      "cell_type": "markdown",
      "metadata": {
        "id": "1QmGtG7o1KRK"
      },
      "source": [
        "##Coal Usage Consumption Data"
      ]
    },
    {
      "cell_type": "code",
      "metadata": {
        "id": "8ZptrfKc584T"
      },
      "source": [
        "url=\"https://raw.githubusercontent.com/raghavadevarajeurs/MachineLearning/main/Data/united-states-coal-usage-consumption.csv\"\n",
        "file=requests.get(url).content\n",
        "coal_usage_data=pd.read_csv(io.StringIO(file.decode('utf-8')),sep=',')"
      ],
      "execution_count": 10,
      "outputs": []
    },
    {
      "cell_type": "code",
      "metadata": {
        "colab": {
          "base_uri": "https://localhost:8080/",
          "height": 297
        },
        "id": "oERnRek_6FIC",
        "outputId": "9d27d4a5-63f5-44d8-b401-11eb40dd16b4"
      },
      "source": [
        "coal_usage_data.describe()"
      ],
      "execution_count": 11,
      "outputs": [
        {
          "output_type": "execute_result",
          "data": {
            "text/html": [
              "<div>\n",
              "<style scoped>\n",
              "    .dataframe tbody tr th:only-of-type {\n",
              "        vertical-align: middle;\n",
              "    }\n",
              "\n",
              "    .dataframe tbody tr th {\n",
              "        vertical-align: top;\n",
              "    }\n",
              "\n",
              "    .dataframe thead th {\n",
              "        text-align: right;\n",
              "    }\n",
              "</style>\n",
              "<table border=\"1\" class=\"dataframe\">\n",
              "  <thead>\n",
              "    <tr style=\"text-align: right;\">\n",
              "      <th></th>\n",
              "      <th>Elect_frm_Coal_Percent</th>\n",
              "      <th>Elect_Annual_Change</th>\n",
              "    </tr>\n",
              "  </thead>\n",
              "  <tbody>\n",
              "    <tr>\n",
              "      <th>count</th>\n",
              "      <td>56.000000</td>\n",
              "      <td>56.000000</td>\n",
              "    </tr>\n",
              "    <tr>\n",
              "      <th>mean</th>\n",
              "      <td>50.139952</td>\n",
              "      <td>-0.351607</td>\n",
              "    </tr>\n",
              "    <tr>\n",
              "      <th>std</th>\n",
              "      <td>5.086803</td>\n",
              "      <td>1.755471</td>\n",
              "    </tr>\n",
              "    <tr>\n",
              "      <th>min</th>\n",
              "      <td>34.232700</td>\n",
              "      <td>-5.420000</td>\n",
              "    </tr>\n",
              "    <tr>\n",
              "      <th>25%</th>\n",
              "      <td>46.169200</td>\n",
              "      <td>-1.050000</td>\n",
              "    </tr>\n",
              "    <tr>\n",
              "      <th>50%</th>\n",
              "      <td>51.846300</td>\n",
              "      <td>-0.255000</td>\n",
              "    </tr>\n",
              "    <tr>\n",
              "      <th>75%</th>\n",
              "      <td>53.692325</td>\n",
              "      <td>0.797500</td>\n",
              "    </tr>\n",
              "    <tr>\n",
              "      <th>max</th>\n",
              "      <td>57.679300</td>\n",
              "      <td>3.660000</td>\n",
              "    </tr>\n",
              "  </tbody>\n",
              "</table>\n",
              "</div>"
            ],
            "text/plain": [
              "       Elect_frm_Coal_Percent  Elect_Annual_Change\n",
              "count               56.000000            56.000000\n",
              "mean                50.139952            -0.351607\n",
              "std                  5.086803             1.755471\n",
              "min                 34.232700            -5.420000\n",
              "25%                 46.169200            -1.050000\n",
              "50%                 51.846300            -0.255000\n",
              "75%                 53.692325             0.797500\n",
              "max                 57.679300             3.660000"
            ]
          },
          "metadata": {
            "tags": []
          },
          "execution_count": 11
        }
      ]
    },
    {
      "cell_type": "markdown",
      "metadata": {
        "id": "LHk8bOaf1OqQ"
      },
      "source": [
        "##CO2 Emission Data"
      ]
    },
    {
      "cell_type": "code",
      "metadata": {
        "id": "OzqxIzZ46JBG"
      },
      "source": [
        "url=\"https://raw.githubusercontent.com/raghavadevarajeurs/MachineLearning/main/Data/united-states-carbon-co2-emissions.csv\"\n",
        "file=requests.get(url).content\n",
        "co2_emissions_data=pd.read_csv(io.StringIO(file.decode('utf-8')),sep=',')"
      ],
      "execution_count": 12,
      "outputs": []
    },
    {
      "cell_type": "code",
      "metadata": {
        "colab": {
          "base_uri": "https://localhost:8080/",
          "height": 297
        },
        "id": "3j-EGLrT6S_w",
        "outputId": "a98bace6-3d72-4407-df62-0fab85bbee21"
      },
      "source": [
        "co2_emissions_data.describe()"
      ],
      "execution_count": 13,
      "outputs": [
        {
          "output_type": "execute_result",
          "data": {
            "text/html": [
              "<div>\n",
              "<style scoped>\n",
              "    .dataframe tbody tr th:only-of-type {\n",
              "        vertical-align: middle;\n",
              "    }\n",
              "\n",
              "    .dataframe tbody tr th {\n",
              "        vertical-align: top;\n",
              "    }\n",
              "\n",
              "    .dataframe thead th {\n",
              "        text-align: right;\n",
              "    }\n",
              "</style>\n",
              "<table border=\"1\" class=\"dataframe\">\n",
              "  <thead>\n",
              "    <tr style=\"text-align: right;\">\n",
              "      <th></th>\n",
              "      <th>KT_CO2</th>\n",
              "      <th>Metric_TON_PerCapita</th>\n",
              "    </tr>\n",
              "  </thead>\n",
              "  <tbody>\n",
              "    <tr>\n",
              "      <th>count</th>\n",
              "      <td>5.700000e+01</td>\n",
              "      <td>57.000000</td>\n",
              "    </tr>\n",
              "    <tr>\n",
              "      <th>mean</th>\n",
              "      <td>4.734172e+06</td>\n",
              "      <td>19.012072</td>\n",
              "    </tr>\n",
              "    <tr>\n",
              "      <th>std</th>\n",
              "      <td>7.755318e+05</td>\n",
              "      <td>1.756330</td>\n",
              "    </tr>\n",
              "    <tr>\n",
              "      <th>min</th>\n",
              "      <td>2.880506e+06</td>\n",
              "      <td>15.502200</td>\n",
              "    </tr>\n",
              "    <tr>\n",
              "      <th>25%</th>\n",
              "      <td>4.406330e+06</td>\n",
              "      <td>18.121100</td>\n",
              "    </tr>\n",
              "    <tr>\n",
              "      <th>50%</th>\n",
              "      <td>4.890861e+06</td>\n",
              "      <td>19.322800</td>\n",
              "    </tr>\n",
              "    <tr>\n",
              "      <th>75%</th>\n",
              "      <td>5.263505e+06</td>\n",
              "      <td>19.857900</td>\n",
              "    </tr>\n",
              "    <tr>\n",
              "      <th>max</th>\n",
              "      <td>5.789727e+06</td>\n",
              "      <td>22.510600</td>\n",
              "    </tr>\n",
              "  </tbody>\n",
              "</table>\n",
              "</div>"
            ],
            "text/plain": [
              "             KT_CO2  Metric_TON_PerCapita\n",
              "count  5.700000e+01             57.000000\n",
              "mean   4.734172e+06             19.012072\n",
              "std    7.755318e+05              1.756330\n",
              "min    2.880506e+06             15.502200\n",
              "25%    4.406330e+06             18.121100\n",
              "50%    4.890861e+06             19.322800\n",
              "75%    5.263505e+06             19.857900\n",
              "max    5.789727e+06             22.510600"
            ]
          },
          "metadata": {
            "tags": []
          },
          "execution_count": 13
        }
      ]
    },
    {
      "cell_type": "markdown",
      "metadata": {
        "id": "pDndR3IZ1T9U"
      },
      "source": [
        "##Greenhouse Gase Emission Data\n"
      ]
    },
    {
      "cell_type": "code",
      "metadata": {
        "id": "7Y4QvU0c6XSe"
      },
      "source": [
        "url=\"https://raw.githubusercontent.com/raghavadevarajeurs/MachineLearning/main/Data/united-states-ghg-greenhouse-gas-emissions.csv\"\n",
        "file=requests.get(url).content\n",
        "greenhouse_data=pd.read_csv(io.StringIO(file.decode('utf-8')),sep=',')"
      ],
      "execution_count": 14,
      "outputs": []
    },
    {
      "cell_type": "code",
      "metadata": {
        "colab": {
          "base_uri": "https://localhost:8080/",
          "height": 297
        },
        "id": "6MIwSdkL6lQK",
        "outputId": "139b35aa-94f6-4b04-8f22-9984f95bace1"
      },
      "source": [
        "greenhouse_data.describe()"
      ],
      "execution_count": 15,
      "outputs": [
        {
          "output_type": "execute_result",
          "data": {
            "text/html": [
              "<div>\n",
              "<style scoped>\n",
              "    .dataframe tbody tr th:only-of-type {\n",
              "        vertical-align: middle;\n",
              "    }\n",
              "\n",
              "    .dataframe tbody tr th {\n",
              "        vertical-align: top;\n",
              "    }\n",
              "\n",
              "    .dataframe thead th {\n",
              "        text-align: right;\n",
              "    }\n",
              "</style>\n",
              "<table border=\"1\" class=\"dataframe\">\n",
              "  <thead>\n",
              "    <tr style=\"text-align: right;\">\n",
              "      <th></th>\n",
              "      <th>KT_CO2</th>\n",
              "      <th>CO2_Annual_Change</th>\n",
              "    </tr>\n",
              "  </thead>\n",
              "  <tbody>\n",
              "    <tr>\n",
              "      <th>count</th>\n",
              "      <td>4.300000e+01</td>\n",
              "      <td>43.000000</td>\n",
              "    </tr>\n",
              "    <tr>\n",
              "      <th>mean</th>\n",
              "      <td>6.267232e+06</td>\n",
              "      <td>0.416047</td>\n",
              "    </tr>\n",
              "    <tr>\n",
              "      <th>std</th>\n",
              "      <td>5.300390e+05</td>\n",
              "      <td>2.897572</td>\n",
              "    </tr>\n",
              "    <tr>\n",
              "      <th>min</th>\n",
              "      <td>5.400504e+06</td>\n",
              "      <td>-6.730000</td>\n",
              "    </tr>\n",
              "    <tr>\n",
              "      <th>25%</th>\n",
              "      <td>5.803574e+06</td>\n",
              "      <td>-1.070000</td>\n",
              "    </tr>\n",
              "    <tr>\n",
              "      <th>50%</th>\n",
              "      <td>6.185748e+06</td>\n",
              "      <td>0.270000</td>\n",
              "    </tr>\n",
              "    <tr>\n",
              "      <th>75%</th>\n",
              "      <td>6.718882e+06</td>\n",
              "      <td>2.290000</td>\n",
              "    </tr>\n",
              "    <tr>\n",
              "      <th>max</th>\n",
              "      <td>7.244272e+06</td>\n",
              "      <td>7.700000</td>\n",
              "    </tr>\n",
              "  </tbody>\n",
              "</table>\n",
              "</div>"
            ],
            "text/plain": [
              "             KT_CO2  CO2_Annual_Change \n",
              "count  4.300000e+01           43.000000\n",
              "mean   6.267232e+06            0.416047\n",
              "std    5.300390e+05            2.897572\n",
              "min    5.400504e+06           -6.730000\n",
              "25%    5.803574e+06           -1.070000\n",
              "50%    6.185748e+06            0.270000\n",
              "75%    6.718882e+06            2.290000\n",
              "max    7.244272e+06            7.700000"
            ]
          },
          "metadata": {
            "tags": []
          },
          "execution_count": 15
        }
      ]
    },
    {
      "cell_type": "markdown",
      "metadata": {
        "id": "hxLxCnUU1Yc7"
      },
      "source": [
        "##Poverty Rate Data"
      ]
    },
    {
      "cell_type": "code",
      "metadata": {
        "id": "Ib7dMYp46nf4"
      },
      "source": [
        "url=\"https://raw.githubusercontent.com/raghavadevarajeurs/MachineLearning/main/Data/united-states-poverty-rate.csv\"\n",
        "file=requests.get(url).content\n",
        "poverty_data=pd.read_csv(io.StringIO(file.decode('utf-8')),sep=',')"
      ],
      "execution_count": 16,
      "outputs": []
    },
    {
      "cell_type": "code",
      "metadata": {
        "colab": {
          "base_uri": "https://localhost:8080/",
          "height": 297
        },
        "id": "2sFYnNU36uEz",
        "outputId": "1433db5a-7658-4c1d-e187-aea59906829a"
      },
      "source": [
        "poverty_data.describe()"
      ],
      "execution_count": 17,
      "outputs": [
        {
          "output_type": "execute_result",
          "data": {
            "text/html": [
              "<div>\n",
              "<style scoped>\n",
              "    .dataframe tbody tr th:only-of-type {\n",
              "        vertical-align: middle;\n",
              "    }\n",
              "\n",
              "    .dataframe tbody tr th {\n",
              "        vertical-align: top;\n",
              "    }\n",
              "\n",
              "    .dataframe thead th {\n",
              "        text-align: right;\n",
              "    }\n",
              "</style>\n",
              "<table border=\"1\" class=\"dataframe\">\n",
              "  <thead>\n",
              "    <tr style=\"text-align: right;\">\n",
              "      <th></th>\n",
              "      <th>percentage_below_poverty</th>\n",
              "      <th>poverty_percent_Change</th>\n",
              "    </tr>\n",
              "  </thead>\n",
              "  <tbody>\n",
              "    <tr>\n",
              "      <th>count</th>\n",
              "      <td>12.000000</td>\n",
              "      <td>12.000000</td>\n",
              "    </tr>\n",
              "    <tr>\n",
              "      <th>mean</th>\n",
              "      <td>1.458333</td>\n",
              "      <td>0.000000</td>\n",
              "    </tr>\n",
              "    <tr>\n",
              "      <th>std</th>\n",
              "      <td>0.239159</td>\n",
              "      <td>0.262851</td>\n",
              "    </tr>\n",
              "    <tr>\n",
              "      <th>min</th>\n",
              "      <td>1.200000</td>\n",
              "      <td>-0.500000</td>\n",
              "    </tr>\n",
              "    <tr>\n",
              "      <th>25%</th>\n",
              "      <td>1.200000</td>\n",
              "      <td>-0.050000</td>\n",
              "    </tr>\n",
              "    <tr>\n",
              "      <th>50%</th>\n",
              "      <td>1.500000</td>\n",
              "      <td>0.000000</td>\n",
              "    </tr>\n",
              "    <tr>\n",
              "      <th>75%</th>\n",
              "      <td>1.700000</td>\n",
              "      <td>0.050000</td>\n",
              "    </tr>\n",
              "    <tr>\n",
              "      <th>max</th>\n",
              "      <td>1.700000</td>\n",
              "      <td>0.500000</td>\n",
              "    </tr>\n",
              "  </tbody>\n",
              "</table>\n",
              "</div>"
            ],
            "text/plain": [
              "       percentage_below_poverty  poverty_percent_Change\n",
              "count                 12.000000               12.000000\n",
              "mean                   1.458333                0.000000\n",
              "std                    0.239159                0.262851\n",
              "min                    1.200000               -0.500000\n",
              "25%                    1.200000               -0.050000\n",
              "50%                    1.500000                0.000000\n",
              "75%                    1.700000                0.050000\n",
              "max                    1.700000                0.500000"
            ]
          },
          "metadata": {
            "tags": []
          },
          "execution_count": 17
        }
      ]
    },
    {
      "cell_type": "markdown",
      "metadata": {
        "id": "cWKAicPj1bXP"
      },
      "source": [
        "##Unemployment Rate Data"
      ]
    },
    {
      "cell_type": "code",
      "metadata": {
        "id": "v3jWEuvh6wVA"
      },
      "source": [
        "url=\"https://raw.githubusercontent.com/raghavadevarajeurs/MachineLearning/main/Data/united-states-unemployment-rate.csv\"\n",
        "file=requests.get(url).content\n",
        "unemployment_data=pd.read_csv(io.StringIO(file.decode('utf-8')),sep=',')"
      ],
      "execution_count": 18,
      "outputs": []
    },
    {
      "cell_type": "code",
      "metadata": {
        "colab": {
          "base_uri": "https://localhost:8080/",
          "height": 297
        },
        "id": "UTrb4nv263aH",
        "outputId": "f0170fb3-1937-440a-95b4-8f8b93da8a82"
      },
      "source": [
        "unemployment_data.describe()"
      ],
      "execution_count": 19,
      "outputs": [
        {
          "output_type": "execute_result",
          "data": {
            "text/html": [
              "<div>\n",
              "<style scoped>\n",
              "    .dataframe tbody tr th:only-of-type {\n",
              "        vertical-align: middle;\n",
              "    }\n",
              "\n",
              "    .dataframe tbody tr th {\n",
              "        vertical-align: top;\n",
              "    }\n",
              "\n",
              "    .dataframe thead th {\n",
              "        text-align: right;\n",
              "    }\n",
              "</style>\n",
              "<table border=\"1\" class=\"dataframe\">\n",
              "  <thead>\n",
              "    <tr style=\"text-align: right;\">\n",
              "      <th></th>\n",
              "      <th>Unemployment_Rate</th>\n",
              "      <th>Unemployment_Annual_Change</th>\n",
              "    </tr>\n",
              "  </thead>\n",
              "  <tbody>\n",
              "    <tr>\n",
              "      <th>count</th>\n",
              "      <td>29.000000</td>\n",
              "      <td>29.000000</td>\n",
              "    </tr>\n",
              "    <tr>\n",
              "      <th>mean</th>\n",
              "      <td>5.855690</td>\n",
              "      <td>-0.107241</td>\n",
              "    </tr>\n",
              "    <tr>\n",
              "      <th>std</th>\n",
              "      <td>1.620264</td>\n",
              "      <td>0.895807</td>\n",
              "    </tr>\n",
              "    <tr>\n",
              "      <th>min</th>\n",
              "      <td>3.682000</td>\n",
              "      <td>-1.210000</td>\n",
              "    </tr>\n",
              "    <tr>\n",
              "      <th>25%</th>\n",
              "      <td>4.623000</td>\n",
              "      <td>-0.510000</td>\n",
              "    </tr>\n",
              "    <tr>\n",
              "      <th>50%</th>\n",
              "      <td>5.529000</td>\n",
              "      <td>-0.450000</td>\n",
              "    </tr>\n",
              "    <tr>\n",
              "      <th>75%</th>\n",
              "      <td>6.800000</td>\n",
              "      <td>0.000000</td>\n",
              "    </tr>\n",
              "    <tr>\n",
              "      <th>max</th>\n",
              "      <td>9.633000</td>\n",
              "      <td>3.470000</td>\n",
              "    </tr>\n",
              "  </tbody>\n",
              "</table>\n",
              "</div>"
            ],
            "text/plain": [
              "       Unemployment_Rate  Unemployment_Annual_Change\n",
              "count          29.000000                   29.000000\n",
              "mean            5.855690                   -0.107241\n",
              "std             1.620264                    0.895807\n",
              "min             3.682000                   -1.210000\n",
              "25%             4.623000                   -0.510000\n",
              "50%             5.529000                   -0.450000\n",
              "75%             6.800000                    0.000000\n",
              "max             9.633000                    3.470000"
            ]
          },
          "metadata": {
            "tags": []
          },
          "execution_count": 19
        }
      ]
    },
    {
      "cell_type": "markdown",
      "metadata": {
        "id": "7Z7Dc_XG1g-i"
      },
      "source": [
        "##Population Data"
      ]
    },
    {
      "cell_type": "code",
      "metadata": {
        "id": "3QcR93US65kS"
      },
      "source": [
        "url=\"https://raw.githubusercontent.com/raghavadevarajeurs/MachineLearning/main/Data/united-states-population.csv\"\n",
        "file=requests.get(url).content\n",
        "population_data=pd.read_csv(io.StringIO(file.decode('utf-8')),sep=',')"
      ],
      "execution_count": 20,
      "outputs": []
    },
    {
      "cell_type": "code",
      "metadata": {
        "colab": {
          "base_uri": "https://localhost:8080/",
          "height": 297
        },
        "id": "JDuwnZGh7AVc",
        "outputId": "67f7913f-9bfd-4058-ffca-95d93b4bfe8f"
      },
      "source": [
        "population_data.describe()"
      ],
      "execution_count": 21,
      "outputs": [
        {
          "output_type": "execute_result",
          "data": {
            "text/html": [
              "<div>\n",
              "<style scoped>\n",
              "    .dataframe tbody tr th:only-of-type {\n",
              "        vertical-align: middle;\n",
              "    }\n",
              "\n",
              "    .dataframe tbody tr th {\n",
              "        vertical-align: top;\n",
              "    }\n",
              "\n",
              "    .dataframe thead th {\n",
              "        text-align: right;\n",
              "    }\n",
              "</style>\n",
              "<table border=\"1\" class=\"dataframe\">\n",
              "  <thead>\n",
              "    <tr style=\"text-align: right;\">\n",
              "      <th></th>\n",
              "      <th>Population</th>\n",
              "      <th>Population_Annual_Change</th>\n",
              "    </tr>\n",
              "  </thead>\n",
              "  <tbody>\n",
              "    <tr>\n",
              "      <th>count</th>\n",
              "      <td>7.100000e+01</td>\n",
              "      <td>71.000000</td>\n",
              "    </tr>\n",
              "    <tr>\n",
              "      <th>mean</th>\n",
              "      <td>2.446810e+08</td>\n",
              "      <td>1.040563</td>\n",
              "    </tr>\n",
              "    <tr>\n",
              "      <th>std</th>\n",
              "      <td>5.056870e+07</td>\n",
              "      <td>0.322786</td>\n",
              "    </tr>\n",
              "    <tr>\n",
              "      <th>min</th>\n",
              "      <td>1.588044e+08</td>\n",
              "      <td>0.000000</td>\n",
              "    </tr>\n",
              "    <tr>\n",
              "      <th>25%</th>\n",
              "      <td>2.048554e+08</td>\n",
              "      <td>0.900000</td>\n",
              "    </tr>\n",
              "    <tr>\n",
              "      <th>50%</th>\n",
              "      <td>2.404998e+08</td>\n",
              "      <td>0.940000</td>\n",
              "    </tr>\n",
              "    <tr>\n",
              "      <th>75%</th>\n",
              "      <td>2.885474e+08</td>\n",
              "      <td>1.190000</td>\n",
              "    </tr>\n",
              "    <tr>\n",
              "      <th>max</th>\n",
              "      <td>3.310027e+08</td>\n",
              "      <td>1.760000</td>\n",
              "    </tr>\n",
              "  </tbody>\n",
              "</table>\n",
              "</div>"
            ],
            "text/plain": [
              "         Population  Population_Annual_Change\n",
              "count  7.100000e+01                 71.000000\n",
              "mean   2.446810e+08                  1.040563\n",
              "std    5.056870e+07                  0.322786\n",
              "min    1.588044e+08                  0.000000\n",
              "25%    2.048554e+08                  0.900000\n",
              "50%    2.404998e+08                  0.940000\n",
              "75%    2.885474e+08                  1.190000\n",
              "max    3.310027e+08                  1.760000"
            ]
          },
          "metadata": {
            "tags": []
          },
          "execution_count": 21
        }
      ]
    },
    {
      "cell_type": "markdown",
      "metadata": {
        "id": "CJpTNjYr1laJ"
      },
      "source": [
        "##Data Aggregation"
      ]
    },
    {
      "cell_type": "markdown",
      "metadata": {
        "id": "obO5lFVZWEMA"
      },
      "source": [
        "All the available data is having date parameter, using this as the primary key we have integrated the data sets."
      ]
    },
    {
      "cell_type": "code",
      "metadata": {
        "colab": {
          "base_uri": "https://localhost:8080/",
          "height": 340
        },
        "id": "znSu0PYN7Cf7",
        "outputId": "98499cfa-cd8a-41fa-f775-af9e8067f094"
      },
      "source": [
        "dateRange = pd.date_range(start='1945-01-01', end='2020-12-31')\n",
        "df = pd.DataFrame({ 'date': dateRange})\n",
        "df['date'] = df['date'].astype(str)\n",
        "df.info()\n",
        "df.head()"
      ],
      "execution_count": 22,
      "outputs": [
        {
          "output_type": "stream",
          "text": [
            "<class 'pandas.core.frame.DataFrame'>\n",
            "RangeIndex: 27759 entries, 0 to 27758\n",
            "Data columns (total 1 columns):\n",
            " #   Column  Non-Null Count  Dtype \n",
            "---  ------  --------------  ----- \n",
            " 0   date    27759 non-null  object\n",
            "dtypes: object(1)\n",
            "memory usage: 217.0+ KB\n"
          ],
          "name": "stdout"
        },
        {
          "output_type": "execute_result",
          "data": {
            "text/html": [
              "<div>\n",
              "<style scoped>\n",
              "    .dataframe tbody tr th:only-of-type {\n",
              "        vertical-align: middle;\n",
              "    }\n",
              "\n",
              "    .dataframe tbody tr th {\n",
              "        vertical-align: top;\n",
              "    }\n",
              "\n",
              "    .dataframe thead th {\n",
              "        text-align: right;\n",
              "    }\n",
              "</style>\n",
              "<table border=\"1\" class=\"dataframe\">\n",
              "  <thead>\n",
              "    <tr style=\"text-align: right;\">\n",
              "      <th></th>\n",
              "      <th>date</th>\n",
              "    </tr>\n",
              "  </thead>\n",
              "  <tbody>\n",
              "    <tr>\n",
              "      <th>0</th>\n",
              "      <td>1945-01-01</td>\n",
              "    </tr>\n",
              "    <tr>\n",
              "      <th>1</th>\n",
              "      <td>1945-01-02</td>\n",
              "    </tr>\n",
              "    <tr>\n",
              "      <th>2</th>\n",
              "      <td>1945-01-03</td>\n",
              "    </tr>\n",
              "    <tr>\n",
              "      <th>3</th>\n",
              "      <td>1945-01-04</td>\n",
              "    </tr>\n",
              "    <tr>\n",
              "      <th>4</th>\n",
              "      <td>1945-01-05</td>\n",
              "    </tr>\n",
              "  </tbody>\n",
              "</table>\n",
              "</div>"
            ],
            "text/plain": [
              "         date\n",
              "0  1945-01-01\n",
              "1  1945-01-02\n",
              "2  1945-01-03\n",
              "3  1945-01-04\n",
              "4  1945-01-05"
            ]
          },
          "metadata": {
            "tags": []
          },
          "execution_count": 22
        }
      ]
    },
    {
      "cell_type": "code",
      "metadata": {
        "id": "f8SpZgFu7ZLZ"
      },
      "source": [
        "def combine_data(initFrame, data):\n",
        "  return initFrame.merge(data ,how='outer',left_on='date', right_on='date')"
      ],
      "execution_count": 23,
      "outputs": []
    },
    {
      "cell_type": "code",
      "metadata": {
        "colab": {
          "base_uri": "https://localhost:8080/",
          "height": 309
        },
        "id": "dgVyF7ek7avD",
        "outputId": "61553e5a-1464-495d-ed6c-8fe7cc09e38d"
      },
      "source": [
        "for data in [gdp_data,gdp_growth_data,co2_emissions_data,coal_usage_data,fossil_fuel_data,greenhouse_data,population_data, poverty_data,unemployment_data]:\n",
        "  df = combine_data(df, data)\n",
        "\n",
        "df.head()"
      ],
      "execution_count": 24,
      "outputs": [
        {
          "output_type": "execute_result",
          "data": {
            "text/html": [
              "<div>\n",
              "<style scoped>\n",
              "    .dataframe tbody tr th:only-of-type {\n",
              "        vertical-align: middle;\n",
              "    }\n",
              "\n",
              "    .dataframe tbody tr th {\n",
              "        vertical-align: top;\n",
              "    }\n",
              "\n",
              "    .dataframe thead th {\n",
              "        text-align: right;\n",
              "    }\n",
              "</style>\n",
              "<table border=\"1\" class=\"dataframe\">\n",
              "  <thead>\n",
              "    <tr style=\"text-align: right;\">\n",
              "      <th></th>\n",
              "      <th>date</th>\n",
              "      <th>gdp</th>\n",
              "      <th>percapita</th>\n",
              "      <th>GDP_Growth_Percent</th>\n",
              "      <th>Growth_Annual_Change</th>\n",
              "      <th>KT_CO2_x</th>\n",
              "      <th>Metric_TON_PerCapita</th>\n",
              "      <th>Elect_frm_Coal_Percent</th>\n",
              "      <th>Elect_Annual_Change</th>\n",
              "      <th>Energy_Fossil_Use_Percent</th>\n",
              "      <th>Fossil_Enr_Annual_Change</th>\n",
              "      <th>KT_CO2_y</th>\n",
              "      <th>CO2_Annual_Change</th>\n",
              "      <th>Population</th>\n",
              "      <th>Population_Annual_Change</th>\n",
              "      <th>percentage_below_poverty</th>\n",
              "      <th>poverty_percent_Change</th>\n",
              "      <th>Unemployment_Rate</th>\n",
              "      <th>Unemployment_Annual_Change</th>\n",
              "    </tr>\n",
              "  </thead>\n",
              "  <tbody>\n",
              "    <tr>\n",
              "      <th>0</th>\n",
              "      <td>1945-01-01</td>\n",
              "      <td>NaN</td>\n",
              "      <td>NaN</td>\n",
              "      <td>NaN</td>\n",
              "      <td>NaN</td>\n",
              "      <td>NaN</td>\n",
              "      <td>NaN</td>\n",
              "      <td>NaN</td>\n",
              "      <td>NaN</td>\n",
              "      <td>NaN</td>\n",
              "      <td>NaN</td>\n",
              "      <td>NaN</td>\n",
              "      <td>NaN</td>\n",
              "      <td>NaN</td>\n",
              "      <td>NaN</td>\n",
              "      <td>NaN</td>\n",
              "      <td>NaN</td>\n",
              "      <td>NaN</td>\n",
              "      <td>NaN</td>\n",
              "    </tr>\n",
              "    <tr>\n",
              "      <th>1</th>\n",
              "      <td>1945-01-02</td>\n",
              "      <td>NaN</td>\n",
              "      <td>NaN</td>\n",
              "      <td>NaN</td>\n",
              "      <td>NaN</td>\n",
              "      <td>NaN</td>\n",
              "      <td>NaN</td>\n",
              "      <td>NaN</td>\n",
              "      <td>NaN</td>\n",
              "      <td>NaN</td>\n",
              "      <td>NaN</td>\n",
              "      <td>NaN</td>\n",
              "      <td>NaN</td>\n",
              "      <td>NaN</td>\n",
              "      <td>NaN</td>\n",
              "      <td>NaN</td>\n",
              "      <td>NaN</td>\n",
              "      <td>NaN</td>\n",
              "      <td>NaN</td>\n",
              "    </tr>\n",
              "    <tr>\n",
              "      <th>2</th>\n",
              "      <td>1945-01-03</td>\n",
              "      <td>NaN</td>\n",
              "      <td>NaN</td>\n",
              "      <td>NaN</td>\n",
              "      <td>NaN</td>\n",
              "      <td>NaN</td>\n",
              "      <td>NaN</td>\n",
              "      <td>NaN</td>\n",
              "      <td>NaN</td>\n",
              "      <td>NaN</td>\n",
              "      <td>NaN</td>\n",
              "      <td>NaN</td>\n",
              "      <td>NaN</td>\n",
              "      <td>NaN</td>\n",
              "      <td>NaN</td>\n",
              "      <td>NaN</td>\n",
              "      <td>NaN</td>\n",
              "      <td>NaN</td>\n",
              "      <td>NaN</td>\n",
              "    </tr>\n",
              "    <tr>\n",
              "      <th>3</th>\n",
              "      <td>1945-01-04</td>\n",
              "      <td>NaN</td>\n",
              "      <td>NaN</td>\n",
              "      <td>NaN</td>\n",
              "      <td>NaN</td>\n",
              "      <td>NaN</td>\n",
              "      <td>NaN</td>\n",
              "      <td>NaN</td>\n",
              "      <td>NaN</td>\n",
              "      <td>NaN</td>\n",
              "      <td>NaN</td>\n",
              "      <td>NaN</td>\n",
              "      <td>NaN</td>\n",
              "      <td>NaN</td>\n",
              "      <td>NaN</td>\n",
              "      <td>NaN</td>\n",
              "      <td>NaN</td>\n",
              "      <td>NaN</td>\n",
              "      <td>NaN</td>\n",
              "    </tr>\n",
              "    <tr>\n",
              "      <th>4</th>\n",
              "      <td>1945-01-05</td>\n",
              "      <td>NaN</td>\n",
              "      <td>NaN</td>\n",
              "      <td>NaN</td>\n",
              "      <td>NaN</td>\n",
              "      <td>NaN</td>\n",
              "      <td>NaN</td>\n",
              "      <td>NaN</td>\n",
              "      <td>NaN</td>\n",
              "      <td>NaN</td>\n",
              "      <td>NaN</td>\n",
              "      <td>NaN</td>\n",
              "      <td>NaN</td>\n",
              "      <td>NaN</td>\n",
              "      <td>NaN</td>\n",
              "      <td>NaN</td>\n",
              "      <td>NaN</td>\n",
              "      <td>NaN</td>\n",
              "      <td>NaN</td>\n",
              "    </tr>\n",
              "  </tbody>\n",
              "</table>\n",
              "</div>"
            ],
            "text/plain": [
              "         date  gdp  ...  Unemployment_Rate  Unemployment_Annual_Change\n",
              "0  1945-01-01  NaN  ...                NaN                         NaN\n",
              "1  1945-01-02  NaN  ...                NaN                         NaN\n",
              "2  1945-01-03  NaN  ...                NaN                         NaN\n",
              "3  1945-01-04  NaN  ...                NaN                         NaN\n",
              "4  1945-01-05  NaN  ...                NaN                         NaN\n",
              "\n",
              "[5 rows x 19 columns]"
            ]
          },
          "metadata": {
            "tags": []
          },
          "execution_count": 24
        }
      ]
    },
    {
      "cell_type": "markdown",
      "metadata": {
        "id": "_DWU19hH13WH"
      },
      "source": [
        "##Data Cleaning"
      ]
    },
    {
      "cell_type": "code",
      "metadata": {
        "colab": {
          "base_uri": "https://localhost:8080/"
        },
        "id": "RjmKOAgr8TaC",
        "outputId": "09b7465e-80ba-4613-b769-6ac5bc650b5d"
      },
      "source": [
        "df.columns"
      ],
      "execution_count": 25,
      "outputs": [
        {
          "output_type": "execute_result",
          "data": {
            "text/plain": [
              "Index(['date', 'gdp', 'percapita', 'GDP_Growth_Percent',\n",
              "       'Growth_Annual_Change', 'KT_CO2_x', 'Metric_TON_PerCapita',\n",
              "       'Elect_frm_Coal_Percent', 'Elect_Annual_Change',\n",
              "       'Energy_Fossil_Use_Percent', 'Fossil_Enr_Annual_Change', 'KT_CO2_y',\n",
              "       'CO2_Annual_Change ', 'Population', 'Population_Annual_Change',\n",
              "       'percentage_below_poverty', 'poverty_percent_Change',\n",
              "       'Unemployment_Rate', 'Unemployment_Annual_Change'],\n",
              "      dtype='object')"
            ]
          },
          "metadata": {
            "tags": []
          },
          "execution_count": 25
        }
      ]
    },
    {
      "cell_type": "code",
      "metadata": {
        "colab": {
          "base_uri": "https://localhost:8080/",
          "height": 609
        },
        "id": "s1Vhp7Ew8Wir",
        "outputId": "6581611d-180f-4f40-9b81-7c1d5e91ccd9"
      },
      "source": [
        "column_names = ['gdp', 'percapita', 'GDP_Growth_Percent',\n",
        "       'Growth_Annual_Change', 'KT_CO2_x', 'Metric_TON_PerCapita',\n",
        "       'Elect_frm_Coal_Percent', 'Elect_Annual_Change',\n",
        "       'Energy_Fossil_Use_Percent', 'Fossil_Enr_Annual_Change', 'KT_CO2_y',\n",
        "       'CO2_Annual_Change ', 'Population', 'Population_Annual_Change',\n",
        "       'percentage_below_poverty', 'poverty_percent_Change',\n",
        "       'Unemployment_Rate', 'Unemployment_Annual_Change']\n",
        "df = df.dropna(subset=column_names, how='all')\n",
        "df.head(200)"
      ],
      "execution_count": 26,
      "outputs": [
        {
          "output_type": "execute_result",
          "data": {
            "text/html": [
              "<div>\n",
              "<style scoped>\n",
              "    .dataframe tbody tr th:only-of-type {\n",
              "        vertical-align: middle;\n",
              "    }\n",
              "\n",
              "    .dataframe tbody tr th {\n",
              "        vertical-align: top;\n",
              "    }\n",
              "\n",
              "    .dataframe thead th {\n",
              "        text-align: right;\n",
              "    }\n",
              "</style>\n",
              "<table border=\"1\" class=\"dataframe\">\n",
              "  <thead>\n",
              "    <tr style=\"text-align: right;\">\n",
              "      <th></th>\n",
              "      <th>date</th>\n",
              "      <th>gdp</th>\n",
              "      <th>percapita</th>\n",
              "      <th>GDP_Growth_Percent</th>\n",
              "      <th>Growth_Annual_Change</th>\n",
              "      <th>KT_CO2_x</th>\n",
              "      <th>Metric_TON_PerCapita</th>\n",
              "      <th>Elect_frm_Coal_Percent</th>\n",
              "      <th>Elect_Annual_Change</th>\n",
              "      <th>Energy_Fossil_Use_Percent</th>\n",
              "      <th>Fossil_Enr_Annual_Change</th>\n",
              "      <th>KT_CO2_y</th>\n",
              "      <th>CO2_Annual_Change</th>\n",
              "      <th>Population</th>\n",
              "      <th>Population_Annual_Change</th>\n",
              "      <th>percentage_below_poverty</th>\n",
              "      <th>poverty_percent_Change</th>\n",
              "      <th>Unemployment_Rate</th>\n",
              "      <th>Unemployment_Annual_Change</th>\n",
              "    </tr>\n",
              "  </thead>\n",
              "  <tbody>\n",
              "    <tr>\n",
              "      <th>1094</th>\n",
              "      <td>1947-12-31</td>\n",
              "      <td>998.462</td>\n",
              "      <td>1719.223702</td>\n",
              "      <td>NaN</td>\n",
              "      <td>NaN</td>\n",
              "      <td>NaN</td>\n",
              "      <td>NaN</td>\n",
              "      <td>NaN</td>\n",
              "      <td>NaN</td>\n",
              "      <td>NaN</td>\n",
              "      <td>NaN</td>\n",
              "      <td>NaN</td>\n",
              "      <td>NaN</td>\n",
              "      <td>NaN</td>\n",
              "      <td>NaN</td>\n",
              "      <td>NaN</td>\n",
              "      <td>NaN</td>\n",
              "      <td>NaN</td>\n",
              "      <td>NaN</td>\n",
              "    </tr>\n",
              "    <tr>\n",
              "      <th>1460</th>\n",
              "      <td>1948-12-31</td>\n",
              "      <td>1097.871</td>\n",
              "      <td>1881.308846</td>\n",
              "      <td>NaN</td>\n",
              "      <td>NaN</td>\n",
              "      <td>NaN</td>\n",
              "      <td>NaN</td>\n",
              "      <td>NaN</td>\n",
              "      <td>NaN</td>\n",
              "      <td>NaN</td>\n",
              "      <td>NaN</td>\n",
              "      <td>NaN</td>\n",
              "      <td>NaN</td>\n",
              "      <td>NaN</td>\n",
              "      <td>NaN</td>\n",
              "      <td>NaN</td>\n",
              "      <td>NaN</td>\n",
              "      <td>NaN</td>\n",
              "      <td>NaN</td>\n",
              "    </tr>\n",
              "    <tr>\n",
              "      <th>1825</th>\n",
              "      <td>1949-12-31</td>\n",
              "      <td>1089.901</td>\n",
              "      <td>1824.273628</td>\n",
              "      <td>NaN</td>\n",
              "      <td>NaN</td>\n",
              "      <td>NaN</td>\n",
              "      <td>NaN</td>\n",
              "      <td>NaN</td>\n",
              "      <td>NaN</td>\n",
              "      <td>NaN</td>\n",
              "      <td>NaN</td>\n",
              "      <td>NaN</td>\n",
              "      <td>NaN</td>\n",
              "      <td>NaN</td>\n",
              "      <td>NaN</td>\n",
              "      <td>NaN</td>\n",
              "      <td>NaN</td>\n",
              "      <td>NaN</td>\n",
              "      <td>NaN</td>\n",
              "    </tr>\n",
              "    <tr>\n",
              "      <th>2190</th>\n",
              "      <td>1950-12-31</td>\n",
              "      <td>1199.309</td>\n",
              "      <td>1973.347351</td>\n",
              "      <td>NaN</td>\n",
              "      <td>NaN</td>\n",
              "      <td>NaN</td>\n",
              "      <td>NaN</td>\n",
              "      <td>NaN</td>\n",
              "      <td>NaN</td>\n",
              "      <td>NaN</td>\n",
              "      <td>NaN</td>\n",
              "      <td>NaN</td>\n",
              "      <td>NaN</td>\n",
              "      <td>158804395.0</td>\n",
              "      <td>0.00</td>\n",
              "      <td>NaN</td>\n",
              "      <td>NaN</td>\n",
              "      <td>NaN</td>\n",
              "      <td>NaN</td>\n",
              "    </tr>\n",
              "    <tr>\n",
              "      <th>2555</th>\n",
              "      <td>1951-12-31</td>\n",
              "      <td>1387.653</td>\n",
              "      <td>2254.245934</td>\n",
              "      <td>NaN</td>\n",
              "      <td>NaN</td>\n",
              "      <td>NaN</td>\n",
              "      <td>NaN</td>\n",
              "      <td>NaN</td>\n",
              "      <td>NaN</td>\n",
              "      <td>NaN</td>\n",
              "      <td>NaN</td>\n",
              "      <td>NaN</td>\n",
              "      <td>NaN</td>\n",
              "      <td>160872266.0</td>\n",
              "      <td>1.30</td>\n",
              "      <td>NaN</td>\n",
              "      <td>NaN</td>\n",
              "      <td>NaN</td>\n",
              "      <td>NaN</td>\n",
              "    </tr>\n",
              "    <tr>\n",
              "      <th>...</th>\n",
              "      <td>...</td>\n",
              "      <td>...</td>\n",
              "      <td>...</td>\n",
              "      <td>...</td>\n",
              "      <td>...</td>\n",
              "      <td>...</td>\n",
              "      <td>...</td>\n",
              "      <td>...</td>\n",
              "      <td>...</td>\n",
              "      <td>...</td>\n",
              "      <td>...</td>\n",
              "      <td>...</td>\n",
              "      <td>...</td>\n",
              "      <td>...</td>\n",
              "      <td>...</td>\n",
              "      <td>...</td>\n",
              "      <td>...</td>\n",
              "      <td>...</td>\n",
              "      <td>...</td>\n",
              "    </tr>\n",
              "    <tr>\n",
              "      <th>26297</th>\n",
              "      <td>2016-12-31</td>\n",
              "      <td>74828.755</td>\n",
              "      <td>57902.926170</td>\n",
              "      <td>1.6378</td>\n",
              "      <td>-1.27</td>\n",
              "      <td>5006302.077</td>\n",
              "      <td>15.5022</td>\n",
              "      <td>NaN</td>\n",
              "      <td>NaN</td>\n",
              "      <td>NaN</td>\n",
              "      <td>NaN</td>\n",
              "      <td>NaN</td>\n",
              "      <td>NaN</td>\n",
              "      <td>323015995.0</td>\n",
              "      <td>0.67</td>\n",
              "      <td>1.7</td>\n",
              "      <td>0.0</td>\n",
              "      <td>4.869</td>\n",
              "      <td>-0.41</td>\n",
              "    </tr>\n",
              "    <tr>\n",
              "      <th>26662</th>\n",
              "      <td>2017-12-31</td>\n",
              "      <td>77941.576</td>\n",
              "      <td>59847.241630</td>\n",
              "      <td>2.3698</td>\n",
              "      <td>0.73</td>\n",
              "      <td>NaN</td>\n",
              "      <td>NaN</td>\n",
              "      <td>NaN</td>\n",
              "      <td>NaN</td>\n",
              "      <td>NaN</td>\n",
              "      <td>NaN</td>\n",
              "      <td>NaN</td>\n",
              "      <td>NaN</td>\n",
              "      <td>325084756.0</td>\n",
              "      <td>0.64</td>\n",
              "      <td>NaN</td>\n",
              "      <td>NaN</td>\n",
              "      <td>4.355</td>\n",
              "      <td>-0.51</td>\n",
              "    </tr>\n",
              "    <tr>\n",
              "      <th>27027</th>\n",
              "      <td>2018-12-31</td>\n",
              "      <td>82002.542</td>\n",
              "      <td>62718.009410</td>\n",
              "      <td>2.9273</td>\n",
              "      <td>0.56</td>\n",
              "      <td>NaN</td>\n",
              "      <td>NaN</td>\n",
              "      <td>NaN</td>\n",
              "      <td>NaN</td>\n",
              "      <td>NaN</td>\n",
              "      <td>NaN</td>\n",
              "      <td>NaN</td>\n",
              "      <td>NaN</td>\n",
              "      <td>327096265.0</td>\n",
              "      <td>0.62</td>\n",
              "      <td>NaN</td>\n",
              "      <td>NaN</td>\n",
              "      <td>3.896</td>\n",
              "      <td>-0.46</td>\n",
              "    </tr>\n",
              "    <tr>\n",
              "      <th>27392</th>\n",
              "      <td>2019-12-31</td>\n",
              "      <td>NaN</td>\n",
              "      <td>NaN</td>\n",
              "      <td>2.1612</td>\n",
              "      <td>-0.77</td>\n",
              "      <td>NaN</td>\n",
              "      <td>NaN</td>\n",
              "      <td>NaN</td>\n",
              "      <td>NaN</td>\n",
              "      <td>NaN</td>\n",
              "      <td>NaN</td>\n",
              "      <td>NaN</td>\n",
              "      <td>NaN</td>\n",
              "      <td>329064917.0</td>\n",
              "      <td>0.60</td>\n",
              "      <td>NaN</td>\n",
              "      <td>NaN</td>\n",
              "      <td>3.682</td>\n",
              "      <td>-0.21</td>\n",
              "    </tr>\n",
              "    <tr>\n",
              "      <th>27758</th>\n",
              "      <td>2020-12-31</td>\n",
              "      <td>NaN</td>\n",
              "      <td>NaN</td>\n",
              "      <td>NaN</td>\n",
              "      <td>NaN</td>\n",
              "      <td>NaN</td>\n",
              "      <td>NaN</td>\n",
              "      <td>NaN</td>\n",
              "      <td>NaN</td>\n",
              "      <td>NaN</td>\n",
              "      <td>NaN</td>\n",
              "      <td>NaN</td>\n",
              "      <td>NaN</td>\n",
              "      <td>331002651.0</td>\n",
              "      <td>0.59</td>\n",
              "      <td>NaN</td>\n",
              "      <td>NaN</td>\n",
              "      <td>NaN</td>\n",
              "      <td>NaN</td>\n",
              "    </tr>\n",
              "  </tbody>\n",
              "</table>\n",
              "<p>74 rows × 19 columns</p>\n",
              "</div>"
            ],
            "text/plain": [
              "             date        gdp  ...  Unemployment_Rate  Unemployment_Annual_Change\n",
              "1094   1947-12-31    998.462  ...                NaN                         NaN\n",
              "1460   1948-12-31   1097.871  ...                NaN                         NaN\n",
              "1825   1949-12-31   1089.901  ...                NaN                         NaN\n",
              "2190   1950-12-31   1199.309  ...                NaN                         NaN\n",
              "2555   1951-12-31   1387.653  ...                NaN                         NaN\n",
              "...           ...        ...  ...                ...                         ...\n",
              "26297  2016-12-31  74828.755  ...              4.869                       -0.41\n",
              "26662  2017-12-31  77941.576  ...              4.355                       -0.51\n",
              "27027  2018-12-31  82002.542  ...              3.896                       -0.46\n",
              "27392  2019-12-31        NaN  ...              3.682                       -0.21\n",
              "27758  2020-12-31        NaN  ...                NaN                         NaN\n",
              "\n",
              "[74 rows x 19 columns]"
            ]
          },
          "metadata": {
            "tags": []
          },
          "execution_count": 26
        }
      ]
    },
    {
      "cell_type": "code",
      "metadata": {
        "id": "z1qSbCEe-ztw"
      },
      "source": [
        "def fill_na(initialFrame, cols):\n",
        "  return initialFrame[cols].fillna(initialFrame[cols].mean())"
      ],
      "execution_count": 27,
      "outputs": []
    },
    {
      "cell_type": "code",
      "metadata": {
        "colab": {
          "base_uri": "https://localhost:8080/",
          "height": 609
        },
        "id": "4Vc8UDRO-0xL",
        "outputId": "1e1c74b7-d70f-4e77-c89f-bc148f065f5b"
      },
      "source": [
        "for cols in column_names:\n",
        "  df[cols] = fill_na(df, cols)\n",
        "\n",
        "df.head(200)"
      ],
      "execution_count": 28,
      "outputs": [
        {
          "output_type": "execute_result",
          "data": {
            "text/html": [
              "<div>\n",
              "<style scoped>\n",
              "    .dataframe tbody tr th:only-of-type {\n",
              "        vertical-align: middle;\n",
              "    }\n",
              "\n",
              "    .dataframe tbody tr th {\n",
              "        vertical-align: top;\n",
              "    }\n",
              "\n",
              "    .dataframe thead th {\n",
              "        text-align: right;\n",
              "    }\n",
              "</style>\n",
              "<table border=\"1\" class=\"dataframe\">\n",
              "  <thead>\n",
              "    <tr style=\"text-align: right;\">\n",
              "      <th></th>\n",
              "      <th>date</th>\n",
              "      <th>gdp</th>\n",
              "      <th>percapita</th>\n",
              "      <th>GDP_Growth_Percent</th>\n",
              "      <th>Growth_Annual_Change</th>\n",
              "      <th>KT_CO2_x</th>\n",
              "      <th>Metric_TON_PerCapita</th>\n",
              "      <th>Elect_frm_Coal_Percent</th>\n",
              "      <th>Elect_Annual_Change</th>\n",
              "      <th>Energy_Fossil_Use_Percent</th>\n",
              "      <th>Fossil_Enr_Annual_Change</th>\n",
              "      <th>KT_CO2_y</th>\n",
              "      <th>CO2_Annual_Change</th>\n",
              "      <th>Population</th>\n",
              "      <th>Population_Annual_Change</th>\n",
              "      <th>percentage_below_poverty</th>\n",
              "      <th>poverty_percent_Change</th>\n",
              "      <th>Unemployment_Rate</th>\n",
              "      <th>Unemployment_Annual_Change</th>\n",
              "    </tr>\n",
              "  </thead>\n",
              "  <tbody>\n",
              "    <tr>\n",
              "      <th>1094</th>\n",
              "      <td>1947-12-31</td>\n",
              "      <td>998.462000</td>\n",
              "      <td>1719.223702</td>\n",
              "      <td>3.034549</td>\n",
              "      <td>-0.002373</td>\n",
              "      <td>4.734172e+06</td>\n",
              "      <td>19.012072</td>\n",
              "      <td>50.139952</td>\n",
              "      <td>-0.351607</td>\n",
              "      <td>89.289663</td>\n",
              "      <td>-0.233929</td>\n",
              "      <td>6.267232e+06</td>\n",
              "      <td>0.416047</td>\n",
              "      <td>2.446810e+08</td>\n",
              "      <td>1.040563</td>\n",
              "      <td>1.458333</td>\n",
              "      <td>0.0</td>\n",
              "      <td>5.85569</td>\n",
              "      <td>-0.107241</td>\n",
              "    </tr>\n",
              "    <tr>\n",
              "      <th>1460</th>\n",
              "      <td>1948-12-31</td>\n",
              "      <td>1097.871000</td>\n",
              "      <td>1881.308846</td>\n",
              "      <td>3.034549</td>\n",
              "      <td>-0.002373</td>\n",
              "      <td>4.734172e+06</td>\n",
              "      <td>19.012072</td>\n",
              "      <td>50.139952</td>\n",
              "      <td>-0.351607</td>\n",
              "      <td>89.289663</td>\n",
              "      <td>-0.233929</td>\n",
              "      <td>6.267232e+06</td>\n",
              "      <td>0.416047</td>\n",
              "      <td>2.446810e+08</td>\n",
              "      <td>1.040563</td>\n",
              "      <td>1.458333</td>\n",
              "      <td>0.0</td>\n",
              "      <td>5.85569</td>\n",
              "      <td>-0.107241</td>\n",
              "    </tr>\n",
              "    <tr>\n",
              "      <th>1825</th>\n",
              "      <td>1949-12-31</td>\n",
              "      <td>1089.901000</td>\n",
              "      <td>1824.273628</td>\n",
              "      <td>3.034549</td>\n",
              "      <td>-0.002373</td>\n",
              "      <td>4.734172e+06</td>\n",
              "      <td>19.012072</td>\n",
              "      <td>50.139952</td>\n",
              "      <td>-0.351607</td>\n",
              "      <td>89.289663</td>\n",
              "      <td>-0.233929</td>\n",
              "      <td>6.267232e+06</td>\n",
              "      <td>0.416047</td>\n",
              "      <td>2.446810e+08</td>\n",
              "      <td>1.040563</td>\n",
              "      <td>1.458333</td>\n",
              "      <td>0.0</td>\n",
              "      <td>5.85569</td>\n",
              "      <td>-0.107241</td>\n",
              "    </tr>\n",
              "    <tr>\n",
              "      <th>2190</th>\n",
              "      <td>1950-12-31</td>\n",
              "      <td>1199.309000</td>\n",
              "      <td>1973.347351</td>\n",
              "      <td>3.034549</td>\n",
              "      <td>-0.002373</td>\n",
              "      <td>4.734172e+06</td>\n",
              "      <td>19.012072</td>\n",
              "      <td>50.139952</td>\n",
              "      <td>-0.351607</td>\n",
              "      <td>89.289663</td>\n",
              "      <td>-0.233929</td>\n",
              "      <td>6.267232e+06</td>\n",
              "      <td>0.416047</td>\n",
              "      <td>1.588044e+08</td>\n",
              "      <td>0.000000</td>\n",
              "      <td>1.458333</td>\n",
              "      <td>0.0</td>\n",
              "      <td>5.85569</td>\n",
              "      <td>-0.107241</td>\n",
              "    </tr>\n",
              "    <tr>\n",
              "      <th>2555</th>\n",
              "      <td>1951-12-31</td>\n",
              "      <td>1387.653000</td>\n",
              "      <td>2254.245934</td>\n",
              "      <td>3.034549</td>\n",
              "      <td>-0.002373</td>\n",
              "      <td>4.734172e+06</td>\n",
              "      <td>19.012072</td>\n",
              "      <td>50.139952</td>\n",
              "      <td>-0.351607</td>\n",
              "      <td>89.289663</td>\n",
              "      <td>-0.233929</td>\n",
              "      <td>6.267232e+06</td>\n",
              "      <td>0.416047</td>\n",
              "      <td>1.608723e+08</td>\n",
              "      <td>1.300000</td>\n",
              "      <td>1.458333</td>\n",
              "      <td>0.0</td>\n",
              "      <td>5.85569</td>\n",
              "      <td>-0.107241</td>\n",
              "    </tr>\n",
              "    <tr>\n",
              "      <th>...</th>\n",
              "      <td>...</td>\n",
              "      <td>...</td>\n",
              "      <td>...</td>\n",
              "      <td>...</td>\n",
              "      <td>...</td>\n",
              "      <td>...</td>\n",
              "      <td>...</td>\n",
              "      <td>...</td>\n",
              "      <td>...</td>\n",
              "      <td>...</td>\n",
              "      <td>...</td>\n",
              "      <td>...</td>\n",
              "      <td>...</td>\n",
              "      <td>...</td>\n",
              "      <td>...</td>\n",
              "      <td>...</td>\n",
              "      <td>...</td>\n",
              "      <td>...</td>\n",
              "      <td>...</td>\n",
              "    </tr>\n",
              "    <tr>\n",
              "      <th>26297</th>\n",
              "      <td>2016-12-31</td>\n",
              "      <td>74828.755000</td>\n",
              "      <td>57902.926170</td>\n",
              "      <td>1.637800</td>\n",
              "      <td>-1.270000</td>\n",
              "      <td>5.006302e+06</td>\n",
              "      <td>15.502200</td>\n",
              "      <td>50.139952</td>\n",
              "      <td>-0.351607</td>\n",
              "      <td>89.289663</td>\n",
              "      <td>-0.233929</td>\n",
              "      <td>6.267232e+06</td>\n",
              "      <td>0.416047</td>\n",
              "      <td>3.230160e+08</td>\n",
              "      <td>0.670000</td>\n",
              "      <td>1.700000</td>\n",
              "      <td>0.0</td>\n",
              "      <td>4.86900</td>\n",
              "      <td>-0.410000</td>\n",
              "    </tr>\n",
              "    <tr>\n",
              "      <th>26662</th>\n",
              "      <td>2017-12-31</td>\n",
              "      <td>77941.576000</td>\n",
              "      <td>59847.241630</td>\n",
              "      <td>2.369800</td>\n",
              "      <td>0.730000</td>\n",
              "      <td>4.734172e+06</td>\n",
              "      <td>19.012072</td>\n",
              "      <td>50.139952</td>\n",
              "      <td>-0.351607</td>\n",
              "      <td>89.289663</td>\n",
              "      <td>-0.233929</td>\n",
              "      <td>6.267232e+06</td>\n",
              "      <td>0.416047</td>\n",
              "      <td>3.250848e+08</td>\n",
              "      <td>0.640000</td>\n",
              "      <td>1.458333</td>\n",
              "      <td>0.0</td>\n",
              "      <td>4.35500</td>\n",
              "      <td>-0.510000</td>\n",
              "    </tr>\n",
              "    <tr>\n",
              "      <th>27027</th>\n",
              "      <td>2018-12-31</td>\n",
              "      <td>82002.542000</td>\n",
              "      <td>62718.009410</td>\n",
              "      <td>2.927300</td>\n",
              "      <td>0.560000</td>\n",
              "      <td>4.734172e+06</td>\n",
              "      <td>19.012072</td>\n",
              "      <td>50.139952</td>\n",
              "      <td>-0.351607</td>\n",
              "      <td>89.289663</td>\n",
              "      <td>-0.233929</td>\n",
              "      <td>6.267232e+06</td>\n",
              "      <td>0.416047</td>\n",
              "      <td>3.270963e+08</td>\n",
              "      <td>0.620000</td>\n",
              "      <td>1.458333</td>\n",
              "      <td>0.0</td>\n",
              "      <td>3.89600</td>\n",
              "      <td>-0.460000</td>\n",
              "    </tr>\n",
              "    <tr>\n",
              "      <th>27392</th>\n",
              "      <td>2019-12-31</td>\n",
              "      <td>23934.144486</td>\n",
              "      <td>21232.686715</td>\n",
              "      <td>2.161200</td>\n",
              "      <td>-0.770000</td>\n",
              "      <td>4.734172e+06</td>\n",
              "      <td>19.012072</td>\n",
              "      <td>50.139952</td>\n",
              "      <td>-0.351607</td>\n",
              "      <td>89.289663</td>\n",
              "      <td>-0.233929</td>\n",
              "      <td>6.267232e+06</td>\n",
              "      <td>0.416047</td>\n",
              "      <td>3.290649e+08</td>\n",
              "      <td>0.600000</td>\n",
              "      <td>1.458333</td>\n",
              "      <td>0.0</td>\n",
              "      <td>3.68200</td>\n",
              "      <td>-0.210000</td>\n",
              "    </tr>\n",
              "    <tr>\n",
              "      <th>27758</th>\n",
              "      <td>2020-12-31</td>\n",
              "      <td>23934.144486</td>\n",
              "      <td>21232.686715</td>\n",
              "      <td>3.034549</td>\n",
              "      <td>-0.002373</td>\n",
              "      <td>4.734172e+06</td>\n",
              "      <td>19.012072</td>\n",
              "      <td>50.139952</td>\n",
              "      <td>-0.351607</td>\n",
              "      <td>89.289663</td>\n",
              "      <td>-0.233929</td>\n",
              "      <td>6.267232e+06</td>\n",
              "      <td>0.416047</td>\n",
              "      <td>3.310027e+08</td>\n",
              "      <td>0.590000</td>\n",
              "      <td>1.458333</td>\n",
              "      <td>0.0</td>\n",
              "      <td>5.85569</td>\n",
              "      <td>-0.107241</td>\n",
              "    </tr>\n",
              "  </tbody>\n",
              "</table>\n",
              "<p>74 rows × 19 columns</p>\n",
              "</div>"
            ],
            "text/plain": [
              "             date           gdp  ...  Unemployment_Rate  Unemployment_Annual_Change\n",
              "1094   1947-12-31    998.462000  ...            5.85569                   -0.107241\n",
              "1460   1948-12-31   1097.871000  ...            5.85569                   -0.107241\n",
              "1825   1949-12-31   1089.901000  ...            5.85569                   -0.107241\n",
              "2190   1950-12-31   1199.309000  ...            5.85569                   -0.107241\n",
              "2555   1951-12-31   1387.653000  ...            5.85569                   -0.107241\n",
              "...           ...           ...  ...                ...                         ...\n",
              "26297  2016-12-31  74828.755000  ...            4.86900                   -0.410000\n",
              "26662  2017-12-31  77941.576000  ...            4.35500                   -0.510000\n",
              "27027  2018-12-31  82002.542000  ...            3.89600                   -0.460000\n",
              "27392  2019-12-31  23934.144486  ...            3.68200                   -0.210000\n",
              "27758  2020-12-31  23934.144486  ...            5.85569                   -0.107241\n",
              "\n",
              "[74 rows x 19 columns]"
            ]
          },
          "metadata": {
            "tags": []
          },
          "execution_count": 28
        }
      ]
    },
    {
      "cell_type": "markdown",
      "metadata": {
        "id": "Qj1wWbNa18ue"
      },
      "source": [
        "##Data Exploration"
      ]
    },
    {
      "cell_type": "code",
      "metadata": {
        "colab": {
          "base_uri": "https://localhost:8080/",
          "height": 762
        },
        "id": "Z94hqkSyQA4A",
        "outputId": "ccfeea49-2955-42b9-fa86-2be9434d7bbd"
      },
      "source": [
        "correlation = df.corr()\n",
        "fig, ax = plt.subplots(figsize=(10,10))  \n",
        "sns.heatmap(correlation, annot=True, linewidths=.5, ax=ax)"
      ],
      "execution_count": 29,
      "outputs": [
        {
          "output_type": "execute_result",
          "data": {
            "text/plain": [
              "<matplotlib.axes._subplots.AxesSubplot at 0x7f6430cc13c8>"
            ]
          },
          "metadata": {
            "tags": []
          },
          "execution_count": 29
        },
        {
          "output_type": "display_data",
          "data": {
            "image/png": "[encoded data removed]",
            "text/plain": [
              "<Figure size 720x720 with 2 Axes>"
            ]
          },
          "metadata": {
            "tags": [],
            "needs_background": "light"
          }
        }
      ]
    },
    {
      "cell_type": "markdown",
      "metadata": {
        "id": "f79RzAmLU_NG"
      },
      "source": [
        "Following points can be infered from the above correlation matrix. \n",
        "\n",
        "1.   Co2 emision is negatively correlated to GDP Growth Rate.\n",
        "2.   Population Annual Change is negatively correlated with Co2 emission."
      ]
    },
    {
      "cell_type": "code",
      "metadata": {
        "colab": {
          "base_uri": "https://localhost:8080/"
        },
        "id": "hbe4PJ2gNEBu",
        "outputId": "e3aa1b10-7d31-4405-cab6-3330d167f386"
      },
      "source": [
        "df.info()"
      ],
      "execution_count": 30,
      "outputs": [
        {
          "output_type": "stream",
          "text": [
            "<class 'pandas.core.frame.DataFrame'>\n",
            "Int64Index: 74 entries, 1094 to 27758\n",
            "Data columns (total 19 columns):\n",
            " #   Column                      Non-Null Count  Dtype  \n",
            "---  ------                      --------------  -----  \n",
            " 0   date                        74 non-null     object \n",
            " 1   gdp                         74 non-null     float64\n",
            " 2   percapita                   74 non-null     float64\n",
            " 3   GDP_Growth_Percent          74 non-null     float64\n",
            " 4   Growth_Annual_Change        74 non-null     float64\n",
            " 5   KT_CO2_x                    74 non-null     float64\n",
            " 6   Metric_TON_PerCapita        74 non-null     float64\n",
            " 7   Elect_frm_Coal_Percent      74 non-null     float64\n",
            " 8   Elect_Annual_Change         74 non-null     float64\n",
            " 9   Energy_Fossil_Use_Percent   74 non-null     float64\n",
            " 10  Fossil_Enr_Annual_Change    74 non-null     float64\n",
            " 11  KT_CO2_y                    74 non-null     float64\n",
            " 12  CO2_Annual_Change           74 non-null     float64\n",
            " 13  Population                  74 non-null     float64\n",
            " 14  Population_Annual_Change    74 non-null     float64\n",
            " 15  percentage_below_poverty    74 non-null     float64\n",
            " 16  poverty_percent_Change      74 non-null     float64\n",
            " 17  Unemployment_Rate           74 non-null     float64\n",
            " 18  Unemployment_Annual_Change  74 non-null     float64\n",
            "dtypes: float64(18), object(1)\n",
            "memory usage: 11.6+ KB\n"
          ],
          "name": "stdout"
        }
      ]
    },
    {
      "cell_type": "code",
      "metadata": {
        "id": "iPqGdmVRNghV"
      },
      "source": [
        "df['year'] = pd.DatetimeIndex(df['date']).year"
      ],
      "execution_count": 31,
      "outputs": []
    },
    {
      "cell_type": "code",
      "metadata": {
        "colab": {
          "base_uri": "https://localhost:8080/",
          "height": 309
        },
        "id": "zj7WA_XcNl_f",
        "outputId": "a801607b-1f8e-4174-92de-a5d729d0c8bf"
      },
      "source": [
        "df.head()"
      ],
      "execution_count": 32,
      "outputs": [
        {
          "output_type": "execute_result",
          "data": {
            "text/html": [
              "<div>\n",
              "<style scoped>\n",
              "    .dataframe tbody tr th:only-of-type {\n",
              "        vertical-align: middle;\n",
              "    }\n",
              "\n",
              "    .dataframe tbody tr th {\n",
              "        vertical-align: top;\n",
              "    }\n",
              "\n",
              "    .dataframe thead th {\n",
              "        text-align: right;\n",
              "    }\n",
              "</style>\n",
              "<table border=\"1\" class=\"dataframe\">\n",
              "  <thead>\n",
              "    <tr style=\"text-align: right;\">\n",
              "      <th></th>\n",
              "      <th>date</th>\n",
              "      <th>gdp</th>\n",
              "      <th>percapita</th>\n",
              "      <th>GDP_Growth_Percent</th>\n",
              "      <th>Growth_Annual_Change</th>\n",
              "      <th>KT_CO2_x</th>\n",
              "      <th>Metric_TON_PerCapita</th>\n",
              "      <th>Elect_frm_Coal_Percent</th>\n",
              "      <th>Elect_Annual_Change</th>\n",
              "      <th>Energy_Fossil_Use_Percent</th>\n",
              "      <th>Fossil_Enr_Annual_Change</th>\n",
              "      <th>KT_CO2_y</th>\n",
              "      <th>CO2_Annual_Change</th>\n",
              "      <th>Population</th>\n",
              "      <th>Population_Annual_Change</th>\n",
              "      <th>percentage_below_poverty</th>\n",
              "      <th>poverty_percent_Change</th>\n",
              "      <th>Unemployment_Rate</th>\n",
              "      <th>Unemployment_Annual_Change</th>\n",
              "      <th>year</th>\n",
              "    </tr>\n",
              "  </thead>\n",
              "  <tbody>\n",
              "    <tr>\n",
              "      <th>1094</th>\n",
              "      <td>1947-12-31</td>\n",
              "      <td>998.462</td>\n",
              "      <td>1719.223702</td>\n",
              "      <td>3.034549</td>\n",
              "      <td>-0.002373</td>\n",
              "      <td>4.734172e+06</td>\n",
              "      <td>19.012072</td>\n",
              "      <td>50.139952</td>\n",
              "      <td>-0.351607</td>\n",
              "      <td>89.289663</td>\n",
              "      <td>-0.233929</td>\n",
              "      <td>6.267232e+06</td>\n",
              "      <td>0.416047</td>\n",
              "      <td>2.446810e+08</td>\n",
              "      <td>1.040563</td>\n",
              "      <td>1.458333</td>\n",
              "      <td>0.0</td>\n",
              "      <td>5.85569</td>\n",
              "      <td>-0.107241</td>\n",
              "      <td>1947</td>\n",
              "    </tr>\n",
              "    <tr>\n",
              "      <th>1460</th>\n",
              "      <td>1948-12-31</td>\n",
              "      <td>1097.871</td>\n",
              "      <td>1881.308846</td>\n",
              "      <td>3.034549</td>\n",
              "      <td>-0.002373</td>\n",
              "      <td>4.734172e+06</td>\n",
              "      <td>19.012072</td>\n",
              "      <td>50.139952</td>\n",
              "      <td>-0.351607</td>\n",
              "      <td>89.289663</td>\n",
              "      <td>-0.233929</td>\n",
              "      <td>6.267232e+06</td>\n",
              "      <td>0.416047</td>\n",
              "      <td>2.446810e+08</td>\n",
              "      <td>1.040563</td>\n",
              "      <td>1.458333</td>\n",
              "      <td>0.0</td>\n",
              "      <td>5.85569</td>\n",
              "      <td>-0.107241</td>\n",
              "      <td>1948</td>\n",
              "    </tr>\n",
              "    <tr>\n",
              "      <th>1825</th>\n",
              "      <td>1949-12-31</td>\n",
              "      <td>1089.901</td>\n",
              "      <td>1824.273628</td>\n",
              "      <td>3.034549</td>\n",
              "      <td>-0.002373</td>\n",
              "      <td>4.734172e+06</td>\n",
              "      <td>19.012072</td>\n",
              "      <td>50.139952</td>\n",
              "      <td>-0.351607</td>\n",
              "      <td>89.289663</td>\n",
              "      <td>-0.233929</td>\n",
              "      <td>6.267232e+06</td>\n",
              "      <td>0.416047</td>\n",
              "      <td>2.446810e+08</td>\n",
              "      <td>1.040563</td>\n",
              "      <td>1.458333</td>\n",
              "      <td>0.0</td>\n",
              "      <td>5.85569</td>\n",
              "      <td>-0.107241</td>\n",
              "      <td>1949</td>\n",
              "    </tr>\n",
              "    <tr>\n",
              "      <th>2190</th>\n",
              "      <td>1950-12-31</td>\n",
              "      <td>1199.309</td>\n",
              "      <td>1973.347351</td>\n",
              "      <td>3.034549</td>\n",
              "      <td>-0.002373</td>\n",
              "      <td>4.734172e+06</td>\n",
              "      <td>19.012072</td>\n",
              "      <td>50.139952</td>\n",
              "      <td>-0.351607</td>\n",
              "      <td>89.289663</td>\n",
              "      <td>-0.233929</td>\n",
              "      <td>6.267232e+06</td>\n",
              "      <td>0.416047</td>\n",
              "      <td>1.588044e+08</td>\n",
              "      <td>0.000000</td>\n",
              "      <td>1.458333</td>\n",
              "      <td>0.0</td>\n",
              "      <td>5.85569</td>\n",
              "      <td>-0.107241</td>\n",
              "      <td>1950</td>\n",
              "    </tr>\n",
              "    <tr>\n",
              "      <th>2555</th>\n",
              "      <td>1951-12-31</td>\n",
              "      <td>1387.653</td>\n",
              "      <td>2254.245934</td>\n",
              "      <td>3.034549</td>\n",
              "      <td>-0.002373</td>\n",
              "      <td>4.734172e+06</td>\n",
              "      <td>19.012072</td>\n",
              "      <td>50.139952</td>\n",
              "      <td>-0.351607</td>\n",
              "      <td>89.289663</td>\n",
              "      <td>-0.233929</td>\n",
              "      <td>6.267232e+06</td>\n",
              "      <td>0.416047</td>\n",
              "      <td>1.608723e+08</td>\n",
              "      <td>1.300000</td>\n",
              "      <td>1.458333</td>\n",
              "      <td>0.0</td>\n",
              "      <td>5.85569</td>\n",
              "      <td>-0.107241</td>\n",
              "      <td>1951</td>\n",
              "    </tr>\n",
              "  </tbody>\n",
              "</table>\n",
              "</div>"
            ],
            "text/plain": [
              "            date       gdp  ...  Unemployment_Annual_Change  year\n",
              "1094  1947-12-31   998.462  ...                   -0.107241  1947\n",
              "1460  1948-12-31  1097.871  ...                   -0.107241  1948\n",
              "1825  1949-12-31  1089.901  ...                   -0.107241  1949\n",
              "2190  1950-12-31  1199.309  ...                   -0.107241  1950\n",
              "2555  1951-12-31  1387.653  ...                   -0.107241  1951\n",
              "\n",
              "[5 rows x 20 columns]"
            ]
          },
          "metadata": {
            "tags": []
          },
          "execution_count": 32
        }
      ]
    },
    {
      "cell_type": "code",
      "metadata": {
        "id": "3ZemVOg2N3FC"
      },
      "source": [
        "del df['date']"
      ],
      "execution_count": 33,
      "outputs": []
    },
    {
      "cell_type": "code",
      "metadata": {
        "colab": {
          "base_uri": "https://localhost:8080/"
        },
        "id": "OlbXy9nb5857",
        "outputId": "bd6a5e17-2e09-4b58-d6a8-d0b3eacded4c"
      },
      "source": [
        "df.info()"
      ],
      "execution_count": 34,
      "outputs": [
        {
          "output_type": "stream",
          "text": [
            "<class 'pandas.core.frame.DataFrame'>\n",
            "Int64Index: 74 entries, 1094 to 27758\n",
            "Data columns (total 19 columns):\n",
            " #   Column                      Non-Null Count  Dtype  \n",
            "---  ------                      --------------  -----  \n",
            " 0   gdp                         74 non-null     float64\n",
            " 1   percapita                   74 non-null     float64\n",
            " 2   GDP_Growth_Percent          74 non-null     float64\n",
            " 3   Growth_Annual_Change        74 non-null     float64\n",
            " 4   KT_CO2_x                    74 non-null     float64\n",
            " 5   Metric_TON_PerCapita        74 non-null     float64\n",
            " 6   Elect_frm_Coal_Percent      74 non-null     float64\n",
            " 7   Elect_Annual_Change         74 non-null     float64\n",
            " 8   Energy_Fossil_Use_Percent   74 non-null     float64\n",
            " 9   Fossil_Enr_Annual_Change    74 non-null     float64\n",
            " 10  KT_CO2_y                    74 non-null     float64\n",
            " 11  CO2_Annual_Change           74 non-null     float64\n",
            " 12  Population                  74 non-null     float64\n",
            " 13  Population_Annual_Change    74 non-null     float64\n",
            " 14  percentage_below_poverty    74 non-null     float64\n",
            " 15  poverty_percent_Change      74 non-null     float64\n",
            " 16  Unemployment_Rate           74 non-null     float64\n",
            " 17  Unemployment_Annual_Change  74 non-null     float64\n",
            " 18  year                        74 non-null     int64  \n",
            "dtypes: float64(18), int64(1)\n",
            "memory usage: 11.6 KB\n"
          ],
          "name": "stdout"
        }
      ]
    },
    {
      "cell_type": "markdown",
      "metadata": {
        "id": "Z9ahFDt-T2Ri"
      },
      "source": [
        "##Gausian Mixture Model "
      ]
    },
    {
      "cell_type": "code",
      "metadata": {
        "id": "R2oGkTRYR0yW"
      },
      "source": [
        "from sklearn.mixture import GaussianMixture"
      ],
      "execution_count": 35,
      "outputs": []
    },
    {
      "cell_type": "code",
      "metadata": {
        "id": "EA7rkt-qSHBY"
      },
      "source": [
        "gmix = GaussianMixture (n_components=2, covariance_type=\"full\").fit(df)\n",
        "clabel = gmix.predict(df)"
      ],
      "execution_count": 36,
      "outputs": []
    },
    {
      "cell_type": "code",
      "metadata": {
        "colab": {
          "base_uri": "https://localhost:8080/",
          "height": 367
        },
        "id": "kd7fePR7ODLM",
        "outputId": "4f2d2a95-1171-4e39-d43e-c1db106f59ad"
      },
      "source": [
        "plt.figure(figsize=(5,5))\n",
        "plt.scatter(df.values[:, 2], df.values[:, 4], c=clabel, s=100, alpha=0.5)\n",
        "plt.title('Gausian Mixture Model')\n",
        "plt.xlabel('GDP Growth Percent')\n",
        "plt.ylabel('Co2 Emission')\n",
        "plt.legend()\n",
        "plt.show()"
      ],
      "execution_count": 37,
      "outputs": [
        {
          "output_type": "stream",
          "text": [
            "No handles with labels found to put in legend.\n"
          ],
          "name": "stderr"
        },
        {
          "output_type": "display_data",
          "data": {
            "image/png": "[encoded data removed]",
            "text/plain": [
              "<Figure size 360x360 with 1 Axes>"
            ]
          },
          "metadata": {
            "tags": [],
            "needs_background": "light"
          }
        }
      ]
    },
    {
      "cell_type": "code",
      "metadata": {
        "colab": {
          "base_uri": "https://localhost:8080/",
          "height": 367
        },
        "id": "K_IgXUhRV9Ip",
        "outputId": "79b6372c-de6e-4e0c-a87e-1b9e7e5c1d8b"
      },
      "source": [
        "plt.figure(figsize=(5,5))\n",
        "plt.scatter(df.values[:, 13], df.values[:, 4], c=clabel, s=100, alpha=0.5)\n",
        "plt.title('Gausian Mixture Model')\n",
        "plt.xlabel('Population Annual Change')\n",
        "plt.ylabel('Co2 Emission')\n",
        "plt.legend()\n",
        "plt.show()"
      ],
      "execution_count": 43,
      "outputs": [
        {
          "output_type": "stream",
          "text": [
            "No handles with labels found to put in legend.\n"
          ],
          "name": "stderr"
        },
        {
          "output_type": "display_data",
          "data": {
            "image/png": "[encoded data removed]",
            "text/plain": [
              "<Figure size 360x360 with 1 Axes>"
            ]
          },
          "metadata": {
            "tags": [],
            "needs_background": "light"
          }
        }
      ]
    },
    {
      "cell_type": "markdown",
      "metadata": {
        "id": "MZ3KAngtpXjr"
      },
      "source": [
        "##Agglomerative"
      ]
    },
    {
      "cell_type": "code",
      "metadata": {
        "id": "gDU-5bFwT_S9"
      },
      "source": [
        "from sklearn.cluster import AgglomerativeClustering "
      ],
      "execution_count": 39,
      "outputs": []
    },
    {
      "cell_type": "code",
      "metadata": {
        "id": "_q2MLyYZL3zs"
      },
      "source": [
        "cluster = AgglomerativeClustering(n_clusters=2, affinity='euclidean', linkage='average' ) \n",
        "agglabel=cluster.fit_predict(df)"
      ],
      "execution_count": 45,
      "outputs": []
    },
    {
      "cell_type": "code",
      "metadata": {
        "colab": {
          "base_uri": "https://localhost:8080/",
          "height": 367
        },
        "id": "yywNqPiUL7KN",
        "outputId": "94a16cb5-fcb2-482c-8157-78a76ad5e343"
      },
      "source": [
        "\n",
        "plt.figure(figsize=(5,5))\n",
        "plt.scatter(df.values[:, 2], df.values[:, 4], c=agglabel, s=100, alpha=0.5)\n",
        "plt.title('Agglomerative clustering')\n",
        "plt.xlabel('GDP Growth Percent')\n",
        "plt.ylabel('Co2 Emission')\n",
        "plt.legend()\n",
        "plt.show()"
      ],
      "execution_count": 46,
      "outputs": [
        {
          "output_type": "stream",
          "text": [
            "No handles with labels found to put in legend.\n"
          ],
          "name": "stderr"
        },
        {
          "output_type": "display_data",
          "data": {
            "image/png": "[encoded data removed]",
            "text/plain": [
              "<Figure size 360x360 with 1 Axes>"
            ]
          },
          "metadata": {
            "tags": [],
            "needs_background": "light"
          }
        }
      ]
    },
    {
      "cell_type": "code",
      "metadata": {
        "colab": {
          "base_uri": "https://localhost:8080/",
          "height": 367
        },
        "id": "oXd_eyinWi6a",
        "outputId": "090c1798-399b-4d56-a706-6fb9d47ecda0"
      },
      "source": [
        "plt.figure(figsize=(5,5))\n",
        "plt.scatter(df.values[:, 13], df.values[:, 4], c=agglabel, s=100, alpha=0.5)\n",
        "plt.title('Agglomerative clustering')\n",
        "plt.xlabel('Population Annual Change')\n",
        "plt.ylabel('Co2 Emission')\n",
        "plt.legend()\n",
        "plt.show()"
      ],
      "execution_count": 47,
      "outputs": [
        {
          "output_type": "stream",
          "text": [
            "No handles with labels found to put in legend.\n"
          ],
          "name": "stderr"
        },
        {
          "output_type": "display_data",
          "data": {
            "image/png": "[encoded data removed]",
            "text/plain": [
              "<Figure size 360x360 with 1 Axes>"
            ]
          },
          "metadata": {
            "tags": [],
            "needs_background": "light"
          }
        }
      ]
    },
    {
      "cell_type": "markdown",
      "metadata": {
        "id": "G6X9_DCco_6H"
      },
      "source": [
        "##Kmeans using Scikit Learn"
      ]
    },
    {
      "cell_type": "code",
      "metadata": {
        "colab": {
          "base_uri": "https://localhost:8080/"
        },
        "id": "Va8WudtwYNrh",
        "outputId": "7d8c11e5-af9b-47d9-f6a7-a6c3ee8a1c56"
      },
      "source": [
        "df.info()"
      ],
      "execution_count": 48,
      "outputs": [
        {
          "output_type": "stream",
          "text": [
            "<class 'pandas.core.frame.DataFrame'>\n",
            "Int64Index: 74 entries, 1094 to 27758\n",
            "Data columns (total 19 columns):\n",
            " #   Column                      Non-Null Count  Dtype  \n",
            "---  ------                      --------------  -----  \n",
            " 0   gdp                         74 non-null     float64\n",
            " 1   percapita                   74 non-null     float64\n",
            " 2   GDP_Growth_Percent          74 non-null     float64\n",
            " 3   Growth_Annual_Change        74 non-null     float64\n",
            " 4   KT_CO2_x                    74 non-null     float64\n",
            " 5   Metric_TON_PerCapita        74 non-null     float64\n",
            " 6   Elect_frm_Coal_Percent      74 non-null     float64\n",
            " 7   Elect_Annual_Change         74 non-null     float64\n",
            " 8   Energy_Fossil_Use_Percent   74 non-null     float64\n",
            " 9   Fossil_Enr_Annual_Change    74 non-null     float64\n",
            " 10  KT_CO2_y                    74 non-null     float64\n",
            " 11  CO2_Annual_Change           74 non-null     float64\n",
            " 12  Population                  74 non-null     float64\n",
            " 13  Population_Annual_Change    74 non-null     float64\n",
            " 14  percentage_below_poverty    74 non-null     float64\n",
            " 15  poverty_percent_Change      74 non-null     float64\n",
            " 16  Unemployment_Rate           74 non-null     float64\n",
            " 17  Unemployment_Annual_Change  74 non-null     float64\n",
            " 18  year                        74 non-null     int64  \n",
            "dtypes: float64(18), int64(1)\n",
            "memory usage: 11.6 KB\n"
          ],
          "name": "stdout"
        }
      ]
    },
    {
      "cell_type": "code",
      "metadata": {
        "id": "jtNPzzSD1R-g"
      },
      "source": [
        "from sklearn.cluster import KMeans\n",
        "kmeans_df = KMeans(n_clusters=2, init='k-means++', max_iter=300, n_init=10)\n",
        "y_kmeans_df = kmeans_df.fit_predict(df)"
      ],
      "execution_count": 49,
      "outputs": []
    },
    {
      "cell_type": "code",
      "metadata": {
        "colab": {
          "base_uri": "https://localhost:8080/",
          "height": 312
        },
        "id": "xz906wNOPUcx",
        "outputId": "b9ad6b21-0d5a-4b5c-ac96-7ad501bff586"
      },
      "source": [
        "plt.scatter(df.values[:, 2], df.values[:, 4], c=y_kmeans_df, s=100, alpha=0.8)\n",
        "plt.title('Kmeans clustering')\n",
        "plt.xlabel('GDP Growth Percent')\n",
        "plt.ylabel('Co2 Emission')\n",
        "plt.legend()\n",
        "plt.show()"
      ],
      "execution_count": 50,
      "outputs": [
        {
          "output_type": "stream",
          "text": [
            "No handles with labels found to put in legend.\n"
          ],
          "name": "stderr"
        },
        {
          "output_type": "display_data",
          "data": {
            "image/png": "[encoded data removed]",
            "text/plain": [
              "<Figure size 432x288 with 1 Axes>"
            ]
          },
          "metadata": {
            "tags": [],
            "needs_background": "light"
          }
        }
      ]
    },
    {
      "cell_type": "code",
      "metadata": {
        "colab": {
          "base_uri": "https://localhost:8080/",
          "height": 312
        },
        "id": "5mOyCIz7WtW4",
        "outputId": "df65af55-1232-4dec-c8ce-4388a53e868c"
      },
      "source": [
        "plt.scatter(df.values[:, 13], df.values[:, 4], c=y_kmeans_df, s=100, alpha=0.8)\n",
        "plt.title('Kmeans clustering')\n",
        "plt.xlabel('Population Annual Change')\n",
        "plt.ylabel('Co2 Emission')\n",
        "plt.legend()\n",
        "plt.show()"
      ],
      "execution_count": 52,
      "outputs": [
        {
          "output_type": "stream",
          "text": [
            "No handles with labels found to put in legend.\n"
          ],
          "name": "stderr"
        },
        {
          "output_type": "display_data",
          "data": {
            "image/png": "[encoded data removed]",
            "text/plain": [
              "<Figure size 432x288 with 1 Axes>"
            ]
          },
          "metadata": {
            "tags": [],
            "needs_background": "light"
          }
        }
      ]
    },
    {
      "cell_type": "markdown",
      "metadata": {
        "id": "AO9FbnOcg4TQ"
      },
      "source": [
        "##TF implemantaion"
      ]
    },
    {
      "cell_type": "code",
      "metadata": {
        "id": "AGaH_sIPQ2um"
      },
      "source": [
        "import tensorflow as tf\n",
        "from sklearn.preprocessing import MinMaxScaler"
      ],
      "execution_count": 53,
      "outputs": []
    },
    {
      "cell_type": "markdown",
      "metadata": {
        "id": "YNHqc5B8ojT5"
      },
      "source": [
        ""
      ]
    },
    {
      "cell_type": "code",
      "metadata": {
        "id": "eQJIYEKMhYkc"
      },
      "source": [
        "dPts= df\n",
        "mms = MinMaxScaler()\n",
        "mms.fit(dPts)\n",
        "data_transformed = mms.transform(dPts)\n",
        "dPts_=dPts.to_numpy()"
      ],
      "execution_count": 54,
      "outputs": []
    },
    {
      "cell_type": "code",
      "metadata": {
        "id": "kAsoP_BRhE5R"
      },
      "source": [
        "def input_fn():\n",
        "  return tf.compat.v1.train.limit_epochs(\n",
        "      tf.convert_to_tensor(dPts_, dtype=tf.float32), num_epochs=1)"
      ],
      "execution_count": 55,
      "outputs": []
    },
    {
      "cell_type": "code",
      "metadata": {
        "colab": {
          "base_uri": "https://localhost:8080/"
        },
        "id": "LjR8lxI_hJFf",
        "outputId": "ec870999-e0ff-48d5-bfca-5c233f4a28f3"
      },
      "source": [
        "tf.compat.v1.logging.set_verbosity(tf.compat.v1.logging.ERROR) \n",
        " \n",
        "num_clusters = 2\n",
        "\n",
        "kmeans = tf.compat.v1.estimator.experimental.KMeans(\n",
        "    num_clusters=num_clusters, use_mini_batch=False)\n",
        "\n",
        "num_iterations = 10\n",
        "previous_centers = None\n",
        "for _ in range(num_iterations):\n",
        "    kmeans.train(input_fn)\n",
        "    cluster_centers = kmeans.cluster_centers()\n",
        "    if previous_centers is not None:\n",
        "        print('delta:', cluster_centers - previous_centers)\n",
        "    previous_centers = cluster_centers\n",
        "    print('score:', kmeans.score(input_fn))\n",
        "print('cluster centers:', cluster_centers)\n",
        "\n",
        "cluster_indices = list(kmeans.predict_cluster_index(input_fn))\n",
        "for i, point in enumerate(dPts_):\n",
        "    cluster_index = cluster_indices[i]\n",
        "    center = cluster_centers[cluster_index]"
      ],
      "execution_count": 56,
      "outputs": [
        {
          "output_type": "stream",
          "text": [
            "score: 1.2489723e+17\n",
            "delta: [[-4.5006206e+03 -4.7734458e+03 -2.2357423e+00 -8.4312069e-01\n",
            "  -6.2435250e+05 -2.6553650e+00  6.0085564e+00  2.0398214e+00\n",
            "   9.2225647e-01  4.3237394e-01  4.0890000e+03  2.3296854e-01\n",
            "  -2.5236768e+07  2.3352915e-01 -4.9042702e-04 -1.4705882e-02\n",
            "  -2.8610229e-06 -7.4505806e-09 -1.1500000e+01]\n",
            " [ 1.9162506e+04  1.2943951e+04 -1.3677077e+00 -7.8123730e-01\n",
            "   2.3916050e+05 -1.2580547e+00 -7.4320030e+00 -6.3082141e-01\n",
            "  -6.5747833e-01  7.7714264e-02  2.5886100e+05 -7.2133369e+00\n",
            "   3.5299040e+07 -2.2457957e-02  4.1639805e-04  1.2500000e-02\n",
            "  -4.7683716e-07  0.0000000e+00  9.9499512e+00]]\n",
            "score: 5.2737105e+16\n",
            "delta: [[ 6.58189453e+02  6.56572754e+02  1.33533001e-01 -1.53821781e-02\n",
            "   1.20760000e+04 -2.15606689e-02  3.67927551e-01  6.44543618e-02\n",
            "  -2.25814819e-01 -1.81874484e-02 -1.60835000e+04  1.07890666e-01\n",
            "   2.18841600e+06 -1.29739046e-02  2.71797180e-05  8.16993415e-04\n",
            "   0.00000000e+00  0.00000000e+00  1.00000000e+00]\n",
            " [ 1.22921094e+03  8.76449219e+02 -1.52308464e-01  7.82961771e-03\n",
            "   3.40955000e+04 -9.32884216e-03 -3.36257935e-01 -8.84642601e-02\n",
            "  -1.14822388e-01  1.85639411e-02  3.55550000e+04 -9.41230059e-02\n",
            "   2.27859200e+06 -6.55710697e-04  2.19345093e-05  6.57894649e-04\n",
            "   0.00000000e+00  0.00000000e+00  7.07885742e-01]]\n",
            "score: 5.223448e+16\n",
            "delta: [[ 3.4471826e+02  3.3827979e+02  8.0013275e-04 -2.0581005e-02\n",
            "   5.8615000e+03 -1.5550613e-02  1.5655136e-01 -2.8223669e-02\n",
            "  -1.2928772e-01 -1.0383427e-02 -8.4170000e+03 -3.3266455e-02\n",
            "   1.0969920e+06 -5.9610605e-03 -6.9694519e-03  3.7537515e-04\n",
            "   0.0000000e+00  0.0000000e+00  5.0000000e-01]\n",
            " [ 6.2213672e+02  4.3714844e+02 -2.1776199e-02  1.7745744e-02\n",
            "   1.8117000e+04  6.0462952e-04 -1.6927338e-01  1.0019302e-02\n",
            "  -3.6529541e-02  1.2061566e-02  2.0247000e+04  3.1960577e-02\n",
            "   1.1401920e+06 -3.5429001e-04  6.9940090e-03  3.5561901e-04\n",
            "   4.7683716e-07 -1.4901161e-08  3.4216309e-01]]\n",
            "score: 5.2141083e+16\n",
            "delta: [[-3.6349512e+02 -3.7722070e+02 -2.9950857e-02 -2.4966672e-03\n",
            "   3.3729500e+04 -2.0133972e-02 -2.9865265e-02 -2.3824483e-02\n",
            "  -2.2660828e-01  3.1701028e-03  1.7488000e+04  6.3398480e-04\n",
            "   3.1056960e+06 -8.5521936e-03  5.5742264e-04  1.0135137e-03\n",
            "  -4.7683716e-07  1.4901161e-08 -1.5000000e+00]\n",
            " [ 3.6086055e+03  2.9840430e+03 -3.5236120e-02 -2.9372685e-03\n",
            "   3.9681000e+04 -2.3687363e-02 -3.5133362e-02 -2.8028786e-02\n",
            "  -2.6658630e-01  3.7295520e-03  2.0575000e+04  7.4583292e-04\n",
            "   3.6537280e+06 -1.0061502e-02  6.5577030e-04  1.1923686e-03\n",
            "   0.0000000e+00  7.4505806e-09  4.5000000e+00]]\n",
            "score: 5.0684643e+16\n",
            "delta: [[ 6.9705371e+02  6.7626123e+02  1.9731522e-02  1.5789548e-02\n",
            "   2.2489500e+04  1.9996643e-02  3.4058762e-01  3.8703445e-02\n",
            "  -2.3127747e-01 -8.0823898e-04 -4.1355000e+03  1.6913205e-01\n",
            "   1.8968960e+06 -9.5734596e-03  3.2734871e-04  5.9523806e-04\n",
            "   0.0000000e+00  1.4901161e-08  1.0000000e+00]\n",
            " [ 1.5865586e+03  1.1218477e+03 -7.6145411e-02 -2.4912447e-02\n",
            "   2.7071000e+04 -6.0026169e-02 -4.9713516e-01 -9.0768397e-02\n",
            "  -7.6606750e-02  6.3793361e-03  3.4769000e+04 -2.2092202e-01\n",
            "   2.7207040e+06 -1.7830729e-03  5.0556660e-04  9.1911759e-04\n",
            "   0.0000000e+00 -7.4505806e-09  1.0000000e+00]]\n",
            "score: 5.0188454e+16\n",
            "delta: [[ 3.79629883e+02  3.65584473e+02  5.79118729e-03 -1.26560219e-02\n",
            "   1.42885000e+04  1.84993744e-02  7.59811401e-02 -8.23472291e-02\n",
            "  -1.10694885e-01  6.83337450e-03  4.04600000e+03  6.14523888e-05\n",
            "   9.63984000e+05 -4.33647633e-03  1.52230263e-04  2.76855193e-04\n",
            "  -4.76837158e-07  0.00000000e+00  5.00000000e-01]\n",
            " [ 7.93175781e+02  5.44390625e+02 -3.70602608e-02  1.40802749e-02\n",
            "   9.53400000e+03 -4.56771851e-02 -1.58275604e-01  8.94173384e-02\n",
            "  -3.76815796e-02 -6.50164485e-03  1.07855000e+04 -1.21185780e-02\n",
            "   1.37868800e+06 -1.13910437e-03  2.77161598e-04  5.04031777e-04\n",
            "  -4.76837158e-07  1.49011612e-08  4.99877930e-01]]\n",
            "score: 5.0089446e+16\n",
            "delta: [[0. 0. 0. 0. 0. 0. 0. 0. 0. 0. 0. 0. 0. 0. 0. 0. 0. 0. 0.]\n",
            " [0. 0. 0. 0. 0. 0. 0. 0. 0. 0. 0. 0. 0. 0. 0. 0. 0. 0. 0.]]\n",
            "score: 5.0089446e+16\n",
            "delta: [[0. 0. 0. 0. 0. 0. 0. 0. 0. 0. 0. 0. 0. 0. 0. 0. 0. 0. 0.]\n",
            " [0. 0. 0. 0. 0. 0. 0. 0. 0. 0. 0. 0. 0. 0. 0. 0. 0. 0. 0.]]\n",
            "score: 5.0089446e+16\n",
            "delta: [[0. 0. 0. 0. 0. 0. 0. 0. 0. 0. 0. 0. 0. 0. 0. 0. 0. 0. 0.]\n",
            " [0. 0. 0. 0. 0. 0. 0. 0. 0. 0. 0. 0. 0. 0. 0. 0. 0. 0. 0.]]\n",
            "score: 5.0089446e+16\n",
            "cluster centers: [[ 6.62187012e+03  7.50250635e+03  3.42946243e+00  3.15530151e-02\n",
            "   4.35495350e+06  1.92988853e+01  5.09248390e+01 -1.01416111e-01\n",
            "   9.17423706e+01 -2.67001688e-01  6.05145150e+06  5.77420235e-01\n",
            "   2.09238512e+08  1.13213205e+00  1.45193768e+00 -1.16279069e-02\n",
            "   5.85568571e+00 -1.07241355e-01  1.96800000e+03]\n",
            " [ 4.79479453e+04  4.02777734e+04  2.48676586e+00 -4.94313724e-02\n",
            "   5.26018500e+06  1.86142311e+01  4.90512199e+01 -6.98646188e-01\n",
            "   8.58874969e+01 -1.88052997e-01  6.56654050e+06  1.92205578e-01\n",
            "   2.93843200e+08  9.13548350e-01  1.46720421e+00  1.61290318e-02\n",
            "   5.85568905e+00 -1.07241377e-01  2.00499988e+03]]\n"
          ],
          "name": "stdout"
        }
      ]
    },
    {
      "cell_type": "code",
      "metadata": {
        "colab": {
          "base_uri": "https://localhost:8080/"
        },
        "id": "bB7SLOUkhnzY",
        "outputId": "d898a9f8-453b-4a64-a338-913c0188a998"
      },
      "source": [
        "centers = kmeans.cluster_centers()\n",
        "centers"
      ],
      "execution_count": 57,
      "outputs": [
        {
          "output_type": "execute_result",
          "data": {
            "text/plain": [
              "array([[ 6.62187012e+03,  7.50250635e+03,  3.42946243e+00,\n",
              "         3.15530151e-02,  4.35495350e+06,  1.92988853e+01,\n",
              "         5.09248390e+01, -1.01416111e-01,  9.17423706e+01,\n",
              "        -2.67001688e-01,  6.05145150e+06,  5.77420235e-01,\n",
              "         2.09238512e+08,  1.13213205e+00,  1.45193768e+00,\n",
              "        -1.16279069e-02,  5.85568571e+00, -1.07241355e-01,\n",
              "         1.96800000e+03],\n",
              "       [ 4.79479453e+04,  4.02777734e+04,  2.48676586e+00,\n",
              "        -4.94313724e-02,  5.26018500e+06,  1.86142311e+01,\n",
              "         4.90512199e+01, -6.98646188e-01,  8.58874969e+01,\n",
              "        -1.88052997e-01,  6.56654050e+06,  1.92205578e-01,\n",
              "         2.93843200e+08,  9.13548350e-01,  1.46720421e+00,\n",
              "         1.61290318e-02,  5.85568905e+00, -1.07241377e-01,\n",
              "         2.00499988e+03]], dtype=float32)"
            ]
          },
          "metadata": {
            "tags": []
          },
          "execution_count": 57
        }
      ]
    },
    {
      "cell_type": "code",
      "metadata": {
        "colab": {
          "base_uri": "https://localhost:8080/"
        },
        "id": "Ux8MwBCelnx3",
        "outputId": "523bb823-935a-4080-a717-cb350844ff2e"
      },
      "source": [
        "df.info()"
      ],
      "execution_count": 58,
      "outputs": [
        {
          "output_type": "stream",
          "text": [
            "<class 'pandas.core.frame.DataFrame'>\n",
            "Int64Index: 74 entries, 1094 to 27758\n",
            "Data columns (total 19 columns):\n",
            " #   Column                      Non-Null Count  Dtype  \n",
            "---  ------                      --------------  -----  \n",
            " 0   gdp                         74 non-null     float64\n",
            " 1   percapita                   74 non-null     float64\n",
            " 2   GDP_Growth_Percent          74 non-null     float64\n",
            " 3   Growth_Annual_Change        74 non-null     float64\n",
            " 4   KT_CO2_x                    74 non-null     float64\n",
            " 5   Metric_TON_PerCapita        74 non-null     float64\n",
            " 6   Elect_frm_Coal_Percent      74 non-null     float64\n",
            " 7   Elect_Annual_Change         74 non-null     float64\n",
            " 8   Energy_Fossil_Use_Percent   74 non-null     float64\n",
            " 9   Fossil_Enr_Annual_Change    74 non-null     float64\n",
            " 10  KT_CO2_y                    74 non-null     float64\n",
            " 11  CO2_Annual_Change           74 non-null     float64\n",
            " 12  Population                  74 non-null     float64\n",
            " 13  Population_Annual_Change    74 non-null     float64\n",
            " 14  percentage_below_poverty    74 non-null     float64\n",
            " 15  poverty_percent_Change      74 non-null     float64\n",
            " 16  Unemployment_Rate           74 non-null     float64\n",
            " 17  Unemployment_Annual_Change  74 non-null     float64\n",
            " 18  year                        74 non-null     int64  \n",
            "dtypes: float64(18), int64(1)\n",
            "memory usage: 11.6 KB\n"
          ],
          "name": "stdout"
        }
      ]
    },
    {
      "cell_type": "code",
      "metadata": {
        "colab": {
          "base_uri": "https://localhost:8080/",
          "height": 331
        },
        "id": "IIeBcxpuhu_O",
        "outputId": "53983624-048f-4377-afb2-f691f7ab6ef1"
      },
      "source": [
        "tensor_data=tf.convert_to_tensor(dPts_, dtype=tf.float32)\n",
        "plt.subplots(figsize=(5, 5))\n",
        "\n",
        "plt.scatter(tensor_data[:, 2], tensor_data[:, 4], c=cluster_indices, s=100, alpha=0.5,cmap='viridis')\n",
        "\n",
        "plt.scatter(centers[:, 2], centers[:, 4], c='green', s=400, alpha=0.5);"
      ],
      "execution_count": 59,
      "outputs": [
        {
          "output_type": "display_data",
          "data": {
            "image/png": "[encoded data removed]",
            "text/plain": [
              "<Figure size 360x360 with 1 Axes>"
            ]
          },
          "metadata": {
            "tags": [],
            "needs_background": "light"
          }
        }
      ]
    },
    {
      "cell_type": "markdown",
      "metadata": {
        "id": "CGEV_Jl1XAIH"
      },
      "source": [
        "#Conclusion\n",
        "From the above algorithm implementation we were able verify that CO2 emission effects both GDP Growth rate and Population annual change. "
      ]
    }
  ]
}