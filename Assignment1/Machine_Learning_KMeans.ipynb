{
  "nbformat": 4,
  "nbformat_minor": 0,
  "metadata": {
    "colab": {
      "name": "Machine_Learning_KMeans.ipynb",
      "provenance": [],
      "collapsed_sections": [],
      "authorship_tag": "ABX9TyOErcnIPpN8mj91KQWtudc0",
      "include_colab_link": true
    },
    "kernelspec": {
      "name": "python3",
      "display_name": "Python 3"
    }
  },
  "cells": [
    {
      "cell_type": "markdown",
      "metadata": {
        "id": "view-in-github",
        "colab_type": "text"
      },
      "source": [
        "<a href=\"https://colab.research.google.com/github/raghavadevarajeurs/MachineLearning/blob/main/Assignment1/Machine_Learning_KMeans.ipynb\" target=\"_parent\"><img src=\"https://colab.research.google.com/assets/colab-badge.svg\" alt=\"Open In Colab\"/></a>"
      ]
    },
    {
      "cell_type": "code",
      "metadata": {
        "id": "wObo8jyrMGEH"
      },
      "source": [
        "import pandas as pd\n",
        "import numpy as np\n",
        "import requests\n",
        "import io\n",
        "import matplotlib.pyplot as plt\n",
        "import seaborn as sns\n",
        "from sklearn.preprocessing import StandardScaler\n",
        "from sklearn.cluster import KMeans"
      ],
      "execution_count": 1,
      "outputs": []
    },
    {
      "cell_type": "markdown",
      "metadata": {
        "id": "hC42-kTeVPPX"
      },
      "source": [
        "Various Data Set used below are extracted from [Macro Trends](https://www.macrotrends.net/countries/USA/)\n"
      ]
    },
    {
      "cell_type": "markdown",
      "metadata": {
        "id": "UVl9cUTt0iuZ"
      },
      "source": [
        "##GDP Data"
      ]
    },
    {
      "cell_type": "code",
      "metadata": {
        "id": "E1b52_aQML9m"
      },
      "source": [
        "url=\"https://raw.githubusercontent.com/raghavadevarajeurs/MachineLearning/main/Data/united-states-gdp_new.csv\"\n",
        "file=requests.get(url).content\n",
        "gdp_data=pd.read_csv(io.StringIO(file.decode('utf-8')),sep=',')"
      ],
      "execution_count": 2,
      "outputs": []
    },
    {
      "cell_type": "code",
      "metadata": {
        "id": "6IN6qnrbQ33R"
      },
      "source": [
        "gdp_data.rename(columns={'GDP':'gdp'}, inplace=True)"
      ],
      "execution_count": 3,
      "outputs": []
    },
    {
      "cell_type": "code",
      "metadata": {
        "colab": {
          "base_uri": "https://localhost:8080/",
          "height": 297
        },
        "id": "J-G4lL8OPsO2",
        "outputId": "282c12df-4d48-4442-d80e-6cca3ae5ee5c"
      },
      "source": [
        "gdp_data.describe()"
      ],
      "execution_count": 4,
      "outputs": [
        {
          "output_type": "execute_result",
          "data": {
            "text/html": [
              "<div>\n",
              "<style scoped>\n",
              "    .dataframe tbody tr th:only-of-type {\n",
              "        vertical-align: middle;\n",
              "    }\n",
              "\n",
              "    .dataframe tbody tr th {\n",
              "        vertical-align: top;\n",
              "    }\n",
              "\n",
              "    .dataframe thead th {\n",
              "        text-align: right;\n",
              "    }\n",
              "</style>\n",
              "<table border=\"1\" class=\"dataframe\">\n",
              "  <thead>\n",
              "    <tr style=\"text-align: right;\">\n",
              "      <th></th>\n",
              "      <th>gdp</th>\n",
              "      <th>percapita</th>\n",
              "    </tr>\n",
              "  </thead>\n",
              "  <tbody>\n",
              "    <tr>\n",
              "      <th>count</th>\n",
              "      <td>72.000000</td>\n",
              "      <td>72.000000</td>\n",
              "    </tr>\n",
              "    <tr>\n",
              "      <th>mean</th>\n",
              "      <td>23934.144486</td>\n",
              "      <td>21232.686715</td>\n",
              "    </tr>\n",
              "    <tr>\n",
              "      <th>std</th>\n",
              "      <td>24404.142750</td>\n",
              "      <td>18992.036213</td>\n",
              "    </tr>\n",
              "    <tr>\n",
              "      <th>min</th>\n",
              "      <td>998.462000</td>\n",
              "      <td>1719.223702</td>\n",
              "    </tr>\n",
              "    <tr>\n",
              "      <th>25%</th>\n",
              "      <td>2911.332250</td>\n",
              "      <td>3747.915454</td>\n",
              "    </tr>\n",
              "    <tr>\n",
              "      <th>50%</th>\n",
              "      <td>13955.651500</td>\n",
              "      <td>14966.072630</td>\n",
              "    </tr>\n",
              "    <tr>\n",
              "      <th>75%</th>\n",
              "      <td>41338.861750</td>\n",
              "      <td>36601.791682</td>\n",
              "    </tr>\n",
              "    <tr>\n",
              "      <th>max</th>\n",
              "      <td>82002.542000</td>\n",
              "      <td>62718.009410</td>\n",
              "    </tr>\n",
              "  </tbody>\n",
              "</table>\n",
              "</div>"
            ],
            "text/plain": [
              "                gdp     percapita\n",
              "count     72.000000     72.000000\n",
              "mean   23934.144486  21232.686715\n",
              "std    24404.142750  18992.036213\n",
              "min      998.462000   1719.223702\n",
              "25%     2911.332250   3747.915454\n",
              "50%    13955.651500  14966.072630\n",
              "75%    41338.861750  36601.791682\n",
              "max    82002.542000  62718.009410"
            ]
          },
          "metadata": {
            "tags": []
          },
          "execution_count": 4
        }
      ]
    },
    {
      "cell_type": "markdown",
      "metadata": {
        "id": "_JKQOiA80-_7"
      },
      "source": [
        "##GDP Growth Rate Data"
      ]
    },
    {
      "cell_type": "code",
      "metadata": {
        "id": "miCgFAlg4kwy"
      },
      "source": [
        "url=\"https://raw.githubusercontent.com/raghavadevarajeurs/MachineLearning/main/Data/united-states-gdp-growth-rate.csv\"\n",
        "file=requests.get(url).content\n",
        "gdp_growth_data=pd.read_csv(io.StringIO(file.decode('utf-8')),sep=',')"
      ],
      "execution_count": 5,
      "outputs": []
    },
    {
      "cell_type": "code",
      "metadata": {
        "colab": {
          "base_uri": "https://localhost:8080/",
          "height": 297
        },
        "id": "ehkKA6Z547-B",
        "outputId": "e9e40e32-b6f6-4aec-d464-96d52217ed07"
      },
      "source": [
        "gdp_growth_data.describe()"
      ],
      "execution_count": 6,
      "outputs": [
        {
          "output_type": "execute_result",
          "data": {
            "text/html": [
              "<div>\n",
              "<style scoped>\n",
              "    .dataframe tbody tr th:only-of-type {\n",
              "        vertical-align: middle;\n",
              "    }\n",
              "\n",
              "    .dataframe tbody tr th {\n",
              "        vertical-align: top;\n",
              "    }\n",
              "\n",
              "    .dataframe thead th {\n",
              "        text-align: right;\n",
              "    }\n",
              "</style>\n",
              "<table border=\"1\" class=\"dataframe\">\n",
              "  <thead>\n",
              "    <tr style=\"text-align: right;\">\n",
              "      <th></th>\n",
              "      <th>GDP_Growth_Percent</th>\n",
              "      <th>Growth_Annual_Change</th>\n",
              "    </tr>\n",
              "  </thead>\n",
              "  <tbody>\n",
              "    <tr>\n",
              "      <th>count</th>\n",
              "      <td>59.000000</td>\n",
              "      <td>59.000000</td>\n",
              "    </tr>\n",
              "    <tr>\n",
              "      <th>mean</th>\n",
              "      <td>3.034549</td>\n",
              "      <td>-0.002373</td>\n",
              "    </tr>\n",
              "    <tr>\n",
              "      <th>std</th>\n",
              "      <td>2.047946</td>\n",
              "      <td>2.377443</td>\n",
              "    </tr>\n",
              "    <tr>\n",
              "      <th>min</th>\n",
              "      <td>-2.536800</td>\n",
              "      <td>-6.190000</td>\n",
              "    </tr>\n",
              "    <tr>\n",
              "      <th>25%</th>\n",
              "      <td>2.023600</td>\n",
              "      <td>-1.305000</td>\n",
              "    </tr>\n",
              "    <tr>\n",
              "      <th>50%</th>\n",
              "      <td>3.100000</td>\n",
              "      <td>0.030000</td>\n",
              "    </tr>\n",
              "    <tr>\n",
              "      <th>75%</th>\n",
              "      <td>4.423600</td>\n",
              "      <td>0.925000</td>\n",
              "    </tr>\n",
              "    <tr>\n",
              "      <th>max</th>\n",
              "      <td>7.236600</td>\n",
              "      <td>6.390000</td>\n",
              "    </tr>\n",
              "  </tbody>\n",
              "</table>\n",
              "</div>"
            ],
            "text/plain": [
              "       GDP_Growth_Percent  Growth_Annual_Change\n",
              "count           59.000000             59.000000\n",
              "mean             3.034549             -0.002373\n",
              "std              2.047946              2.377443\n",
              "min             -2.536800             -6.190000\n",
              "25%              2.023600             -1.305000\n",
              "50%              3.100000              0.030000\n",
              "75%              4.423600              0.925000\n",
              "max              7.236600              6.390000"
            ]
          },
          "metadata": {
            "tags": []
          },
          "execution_count": 6
        }
      ]
    },
    {
      "cell_type": "markdown",
      "metadata": {
        "id": "wYq6Sohs1DKn"
      },
      "source": [
        "##Fossil Fuel Consumption Data"
      ]
    },
    {
      "cell_type": "code",
      "metadata": {
        "id": "2iYkXa4B5lBR"
      },
      "source": [
        "url=\"https://raw.githubusercontent.com/raghavadevarajeurs/MachineLearning/main/Data/united-states-fossil-fuel-consumption.csv\"\n",
        "file=requests.get(url).content\n",
        "fossil_fuel_data=pd.read_csv(io.StringIO(file.decode('utf-8')),sep=',')"
      ],
      "execution_count": 7,
      "outputs": []
    },
    {
      "cell_type": "code",
      "metadata": {
        "colab": {
          "base_uri": "https://localhost:8080/",
          "height": 297
        },
        "id": "D68WHKEG508f",
        "outputId": "d4e239f6-d158-47bd-9fd3-1eea98589adb"
      },
      "source": [
        "fossil_fuel_data.describe()"
      ],
      "execution_count": 8,
      "outputs": [
        {
          "output_type": "execute_result",
          "data": {
            "text/html": [
              "<div>\n",
              "<style scoped>\n",
              "    .dataframe tbody tr th:only-of-type {\n",
              "        vertical-align: middle;\n",
              "    }\n",
              "\n",
              "    .dataframe tbody tr th {\n",
              "        vertical-align: top;\n",
              "    }\n",
              "\n",
              "    .dataframe thead th {\n",
              "        text-align: right;\n",
              "    }\n",
              "</style>\n",
              "<table border=\"1\" class=\"dataframe\">\n",
              "  <thead>\n",
              "    <tr style=\"text-align: right;\">\n",
              "      <th></th>\n",
              "      <th>Energy_Fossil_Use_Percent</th>\n",
              "      <th>Fossil_Enr_Annual_Change</th>\n",
              "    </tr>\n",
              "  </thead>\n",
              "  <tbody>\n",
              "    <tr>\n",
              "      <th>count</th>\n",
              "      <td>56.000000</td>\n",
              "      <td>56.000000</td>\n",
              "    </tr>\n",
              "    <tr>\n",
              "      <th>mean</th>\n",
              "      <td>89.289663</td>\n",
              "      <td>-0.233929</td>\n",
              "    </tr>\n",
              "    <tr>\n",
              "      <th>std</th>\n",
              "      <td>4.551425</td>\n",
              "      <td>0.375842</td>\n",
              "    </tr>\n",
              "    <tr>\n",
              "      <th>min</th>\n",
              "      <td>82.427800</td>\n",
              "      <td>-1.060000</td>\n",
              "    </tr>\n",
              "    <tr>\n",
              "      <th>25%</th>\n",
              "      <td>85.762125</td>\n",
              "      <td>-0.557500</td>\n",
              "    </tr>\n",
              "    <tr>\n",
              "      <th>50%</th>\n",
              "      <td>87.235550</td>\n",
              "      <td>-0.245000</td>\n",
              "    </tr>\n",
              "    <tr>\n",
              "      <th>75%</th>\n",
              "      <td>94.361675</td>\n",
              "      <td>0.030000</td>\n",
              "    </tr>\n",
              "    <tr>\n",
              "      <th>max</th>\n",
              "      <td>95.982200</td>\n",
              "      <td>0.950000</td>\n",
              "    </tr>\n",
              "  </tbody>\n",
              "</table>\n",
              "</div>"
            ],
            "text/plain": [
              "       Energy_Fossil_Use_Percent  Fossil_Enr_Annual_Change\n",
              "count                  56.000000                 56.000000\n",
              "mean                   89.289663                 -0.233929\n",
              "std                     4.551425                  0.375842\n",
              "min                    82.427800                 -1.060000\n",
              "25%                    85.762125                 -0.557500\n",
              "50%                    87.235550                 -0.245000\n",
              "75%                    94.361675                  0.030000\n",
              "max                    95.982200                  0.950000"
            ]
          },
          "metadata": {
            "tags": []
          },
          "execution_count": 8
        }
      ]
    },
    {
      "cell_type": "markdown",
      "metadata": {
        "id": "1QmGtG7o1KRK"
      },
      "source": [
        "##Coal Usage Consumption Data"
      ]
    },
    {
      "cell_type": "code",
      "metadata": {
        "id": "8ZptrfKc584T"
      },
      "source": [
        "url=\"https://raw.githubusercontent.com/raghavadevarajeurs/MachineLearning/main/Data/united-states-coal-usage-consumption.csv\"\n",
        "file=requests.get(url).content\n",
        "coal_usage_data=pd.read_csv(io.StringIO(file.decode('utf-8')),sep=',')"
      ],
      "execution_count": 9,
      "outputs": []
    },
    {
      "cell_type": "code",
      "metadata": {
        "colab": {
          "base_uri": "https://localhost:8080/",
          "height": 297
        },
        "id": "oERnRek_6FIC",
        "outputId": "e3258e8e-7a91-48f1-d564-3500d1f36f6c"
      },
      "source": [
        "coal_usage_data.describe()"
      ],
      "execution_count": 10,
      "outputs": [
        {
          "output_type": "execute_result",
          "data": {
            "text/html": [
              "<div>\n",
              "<style scoped>\n",
              "    .dataframe tbody tr th:only-of-type {\n",
              "        vertical-align: middle;\n",
              "    }\n",
              "\n",
              "    .dataframe tbody tr th {\n",
              "        vertical-align: top;\n",
              "    }\n",
              "\n",
              "    .dataframe thead th {\n",
              "        text-align: right;\n",
              "    }\n",
              "</style>\n",
              "<table border=\"1\" class=\"dataframe\">\n",
              "  <thead>\n",
              "    <tr style=\"text-align: right;\">\n",
              "      <th></th>\n",
              "      <th>Elect_frm_Coal_Percent</th>\n",
              "      <th>Elect_Annual_Change</th>\n",
              "    </tr>\n",
              "  </thead>\n",
              "  <tbody>\n",
              "    <tr>\n",
              "      <th>count</th>\n",
              "      <td>56.000000</td>\n",
              "      <td>56.000000</td>\n",
              "    </tr>\n",
              "    <tr>\n",
              "      <th>mean</th>\n",
              "      <td>50.139952</td>\n",
              "      <td>-0.351607</td>\n",
              "    </tr>\n",
              "    <tr>\n",
              "      <th>std</th>\n",
              "      <td>5.086803</td>\n",
              "      <td>1.755471</td>\n",
              "    </tr>\n",
              "    <tr>\n",
              "      <th>min</th>\n",
              "      <td>34.232700</td>\n",
              "      <td>-5.420000</td>\n",
              "    </tr>\n",
              "    <tr>\n",
              "      <th>25%</th>\n",
              "      <td>46.169200</td>\n",
              "      <td>-1.050000</td>\n",
              "    </tr>\n",
              "    <tr>\n",
              "      <th>50%</th>\n",
              "      <td>51.846300</td>\n",
              "      <td>-0.255000</td>\n",
              "    </tr>\n",
              "    <tr>\n",
              "      <th>75%</th>\n",
              "      <td>53.692325</td>\n",
              "      <td>0.797500</td>\n",
              "    </tr>\n",
              "    <tr>\n",
              "      <th>max</th>\n",
              "      <td>57.679300</td>\n",
              "      <td>3.660000</td>\n",
              "    </tr>\n",
              "  </tbody>\n",
              "</table>\n",
              "</div>"
            ],
            "text/plain": [
              "       Elect_frm_Coal_Percent  Elect_Annual_Change\n",
              "count               56.000000            56.000000\n",
              "mean                50.139952            -0.351607\n",
              "std                  5.086803             1.755471\n",
              "min                 34.232700            -5.420000\n",
              "25%                 46.169200            -1.050000\n",
              "50%                 51.846300            -0.255000\n",
              "75%                 53.692325             0.797500\n",
              "max                 57.679300             3.660000"
            ]
          },
          "metadata": {
            "tags": []
          },
          "execution_count": 10
        }
      ]
    },
    {
      "cell_type": "markdown",
      "metadata": {
        "id": "LHk8bOaf1OqQ"
      },
      "source": [
        "##CO2 Emission Data"
      ]
    },
    {
      "cell_type": "code",
      "metadata": {
        "id": "OzqxIzZ46JBG"
      },
      "source": [
        "url=\"https://raw.githubusercontent.com/raghavadevarajeurs/MachineLearning/main/Data/united-states-carbon-co2-emissions.csv\"\n",
        "file=requests.get(url).content\n",
        "co2_emissions_data=pd.read_csv(io.StringIO(file.decode('utf-8')),sep=',')"
      ],
      "execution_count": 11,
      "outputs": []
    },
    {
      "cell_type": "code",
      "metadata": {
        "colab": {
          "base_uri": "https://localhost:8080/",
          "height": 297
        },
        "id": "3j-EGLrT6S_w",
        "outputId": "25bd6b2b-039d-401e-e4e7-3a805fc4099a"
      },
      "source": [
        "co2_emissions_data.describe()"
      ],
      "execution_count": 12,
      "outputs": [
        {
          "output_type": "execute_result",
          "data": {
            "text/html": [
              "<div>\n",
              "<style scoped>\n",
              "    .dataframe tbody tr th:only-of-type {\n",
              "        vertical-align: middle;\n",
              "    }\n",
              "\n",
              "    .dataframe tbody tr th {\n",
              "        vertical-align: top;\n",
              "    }\n",
              "\n",
              "    .dataframe thead th {\n",
              "        text-align: right;\n",
              "    }\n",
              "</style>\n",
              "<table border=\"1\" class=\"dataframe\">\n",
              "  <thead>\n",
              "    <tr style=\"text-align: right;\">\n",
              "      <th></th>\n",
              "      <th>KT_CO2</th>\n",
              "      <th>Metric_TON_PerCapita</th>\n",
              "    </tr>\n",
              "  </thead>\n",
              "  <tbody>\n",
              "    <tr>\n",
              "      <th>count</th>\n",
              "      <td>5.700000e+01</td>\n",
              "      <td>57.000000</td>\n",
              "    </tr>\n",
              "    <tr>\n",
              "      <th>mean</th>\n",
              "      <td>4.734172e+06</td>\n",
              "      <td>19.012072</td>\n",
              "    </tr>\n",
              "    <tr>\n",
              "      <th>std</th>\n",
              "      <td>7.755318e+05</td>\n",
              "      <td>1.756330</td>\n",
              "    </tr>\n",
              "    <tr>\n",
              "      <th>min</th>\n",
              "      <td>2.880506e+06</td>\n",
              "      <td>15.502200</td>\n",
              "    </tr>\n",
              "    <tr>\n",
              "      <th>25%</th>\n",
              "      <td>4.406330e+06</td>\n",
              "      <td>18.121100</td>\n",
              "    </tr>\n",
              "    <tr>\n",
              "      <th>50%</th>\n",
              "      <td>4.890861e+06</td>\n",
              "      <td>19.322800</td>\n",
              "    </tr>\n",
              "    <tr>\n",
              "      <th>75%</th>\n",
              "      <td>5.263505e+06</td>\n",
              "      <td>19.857900</td>\n",
              "    </tr>\n",
              "    <tr>\n",
              "      <th>max</th>\n",
              "      <td>5.789727e+06</td>\n",
              "      <td>22.510600</td>\n",
              "    </tr>\n",
              "  </tbody>\n",
              "</table>\n",
              "</div>"
            ],
            "text/plain": [
              "             KT_CO2  Metric_TON_PerCapita\n",
              "count  5.700000e+01             57.000000\n",
              "mean   4.734172e+06             19.012072\n",
              "std    7.755318e+05              1.756330\n",
              "min    2.880506e+06             15.502200\n",
              "25%    4.406330e+06             18.121100\n",
              "50%    4.890861e+06             19.322800\n",
              "75%    5.263505e+06             19.857900\n",
              "max    5.789727e+06             22.510600"
            ]
          },
          "metadata": {
            "tags": []
          },
          "execution_count": 12
        }
      ]
    },
    {
      "cell_type": "markdown",
      "metadata": {
        "id": "pDndR3IZ1T9U"
      },
      "source": [
        "##Greenhouse Gase Emission Data\n"
      ]
    },
    {
      "cell_type": "code",
      "metadata": {
        "id": "7Y4QvU0c6XSe"
      },
      "source": [
        "url=\"https://raw.githubusercontent.com/raghavadevarajeurs/MachineLearning/main/Data/united-states-ghg-greenhouse-gas-emissions.csv\"\n",
        "file=requests.get(url).content\n",
        "greenhouse_data=pd.read_csv(io.StringIO(file.decode('utf-8')),sep=',')"
      ],
      "execution_count": 13,
      "outputs": []
    },
    {
      "cell_type": "code",
      "metadata": {
        "colab": {
          "base_uri": "https://localhost:8080/",
          "height": 297
        },
        "id": "6MIwSdkL6lQK",
        "outputId": "86775a1d-c14a-4daf-d29c-d4234fe9ef28"
      },
      "source": [
        "greenhouse_data.describe()"
      ],
      "execution_count": 14,
      "outputs": [
        {
          "output_type": "execute_result",
          "data": {
            "text/html": [
              "<div>\n",
              "<style scoped>\n",
              "    .dataframe tbody tr th:only-of-type {\n",
              "        vertical-align: middle;\n",
              "    }\n",
              "\n",
              "    .dataframe tbody tr th {\n",
              "        vertical-align: top;\n",
              "    }\n",
              "\n",
              "    .dataframe thead th {\n",
              "        text-align: right;\n",
              "    }\n",
              "</style>\n",
              "<table border=\"1\" class=\"dataframe\">\n",
              "  <thead>\n",
              "    <tr style=\"text-align: right;\">\n",
              "      <th></th>\n",
              "      <th>KT_CO2</th>\n",
              "      <th>CO2_Annual_Change</th>\n",
              "    </tr>\n",
              "  </thead>\n",
              "  <tbody>\n",
              "    <tr>\n",
              "      <th>count</th>\n",
              "      <td>4.300000e+01</td>\n",
              "      <td>43.000000</td>\n",
              "    </tr>\n",
              "    <tr>\n",
              "      <th>mean</th>\n",
              "      <td>6.267232e+06</td>\n",
              "      <td>0.416047</td>\n",
              "    </tr>\n",
              "    <tr>\n",
              "      <th>std</th>\n",
              "      <td>5.300390e+05</td>\n",
              "      <td>2.897572</td>\n",
              "    </tr>\n",
              "    <tr>\n",
              "      <th>min</th>\n",
              "      <td>5.400504e+06</td>\n",
              "      <td>-6.730000</td>\n",
              "    </tr>\n",
              "    <tr>\n",
              "      <th>25%</th>\n",
              "      <td>5.803574e+06</td>\n",
              "      <td>-1.070000</td>\n",
              "    </tr>\n",
              "    <tr>\n",
              "      <th>50%</th>\n",
              "      <td>6.185748e+06</td>\n",
              "      <td>0.270000</td>\n",
              "    </tr>\n",
              "    <tr>\n",
              "      <th>75%</th>\n",
              "      <td>6.718882e+06</td>\n",
              "      <td>2.290000</td>\n",
              "    </tr>\n",
              "    <tr>\n",
              "      <th>max</th>\n",
              "      <td>7.244272e+06</td>\n",
              "      <td>7.700000</td>\n",
              "    </tr>\n",
              "  </tbody>\n",
              "</table>\n",
              "</div>"
            ],
            "text/plain": [
              "             KT_CO2  CO2_Annual_Change \n",
              "count  4.300000e+01           43.000000\n",
              "mean   6.267232e+06            0.416047\n",
              "std    5.300390e+05            2.897572\n",
              "min    5.400504e+06           -6.730000\n",
              "25%    5.803574e+06           -1.070000\n",
              "50%    6.185748e+06            0.270000\n",
              "75%    6.718882e+06            2.290000\n",
              "max    7.244272e+06            7.700000"
            ]
          },
          "metadata": {
            "tags": []
          },
          "execution_count": 14
        }
      ]
    },
    {
      "cell_type": "markdown",
      "metadata": {
        "id": "hxLxCnUU1Yc7"
      },
      "source": [
        "##Poverty Rate Data"
      ]
    },
    {
      "cell_type": "code",
      "metadata": {
        "id": "Ib7dMYp46nf4"
      },
      "source": [
        "url=\"https://raw.githubusercontent.com/raghavadevarajeurs/MachineLearning/main/Data/united-states-poverty-rate.csv\"\n",
        "file=requests.get(url).content\n",
        "poverty_data=pd.read_csv(io.StringIO(file.decode('utf-8')),sep=',')"
      ],
      "execution_count": 15,
      "outputs": []
    },
    {
      "cell_type": "code",
      "metadata": {
        "colab": {
          "base_uri": "https://localhost:8080/",
          "height": 297
        },
        "id": "2sFYnNU36uEz",
        "outputId": "1291f826-7abc-49fb-e791-b816fb77cd80"
      },
      "source": [
        "poverty_data.describe()"
      ],
      "execution_count": 16,
      "outputs": [
        {
          "output_type": "execute_result",
          "data": {
            "text/html": [
              "<div>\n",
              "<style scoped>\n",
              "    .dataframe tbody tr th:only-of-type {\n",
              "        vertical-align: middle;\n",
              "    }\n",
              "\n",
              "    .dataframe tbody tr th {\n",
              "        vertical-align: top;\n",
              "    }\n",
              "\n",
              "    .dataframe thead th {\n",
              "        text-align: right;\n",
              "    }\n",
              "</style>\n",
              "<table border=\"1\" class=\"dataframe\">\n",
              "  <thead>\n",
              "    <tr style=\"text-align: right;\">\n",
              "      <th></th>\n",
              "      <th>percentage_below_poverty</th>\n",
              "      <th>poverty_percent_Change</th>\n",
              "    </tr>\n",
              "  </thead>\n",
              "  <tbody>\n",
              "    <tr>\n",
              "      <th>count</th>\n",
              "      <td>12.000000</td>\n",
              "      <td>12.000000</td>\n",
              "    </tr>\n",
              "    <tr>\n",
              "      <th>mean</th>\n",
              "      <td>1.458333</td>\n",
              "      <td>0.000000</td>\n",
              "    </tr>\n",
              "    <tr>\n",
              "      <th>std</th>\n",
              "      <td>0.239159</td>\n",
              "      <td>0.262851</td>\n",
              "    </tr>\n",
              "    <tr>\n",
              "      <th>min</th>\n",
              "      <td>1.200000</td>\n",
              "      <td>-0.500000</td>\n",
              "    </tr>\n",
              "    <tr>\n",
              "      <th>25%</th>\n",
              "      <td>1.200000</td>\n",
              "      <td>-0.050000</td>\n",
              "    </tr>\n",
              "    <tr>\n",
              "      <th>50%</th>\n",
              "      <td>1.500000</td>\n",
              "      <td>0.000000</td>\n",
              "    </tr>\n",
              "    <tr>\n",
              "      <th>75%</th>\n",
              "      <td>1.700000</td>\n",
              "      <td>0.050000</td>\n",
              "    </tr>\n",
              "    <tr>\n",
              "      <th>max</th>\n",
              "      <td>1.700000</td>\n",
              "      <td>0.500000</td>\n",
              "    </tr>\n",
              "  </tbody>\n",
              "</table>\n",
              "</div>"
            ],
            "text/plain": [
              "       percentage_below_poverty  poverty_percent_Change\n",
              "count                 12.000000               12.000000\n",
              "mean                   1.458333                0.000000\n",
              "std                    0.239159                0.262851\n",
              "min                    1.200000               -0.500000\n",
              "25%                    1.200000               -0.050000\n",
              "50%                    1.500000                0.000000\n",
              "75%                    1.700000                0.050000\n",
              "max                    1.700000                0.500000"
            ]
          },
          "metadata": {
            "tags": []
          },
          "execution_count": 16
        }
      ]
    },
    {
      "cell_type": "markdown",
      "metadata": {
        "id": "cWKAicPj1bXP"
      },
      "source": [
        "##Unemployment Rate Data"
      ]
    },
    {
      "cell_type": "code",
      "metadata": {
        "id": "v3jWEuvh6wVA"
      },
      "source": [
        "url=\"https://raw.githubusercontent.com/raghavadevarajeurs/MachineLearning/main/Data/united-states-unemployment-rate.csv\"\n",
        "file=requests.get(url).content\n",
        "unemployment_data=pd.read_csv(io.StringIO(file.decode('utf-8')),sep=',')"
      ],
      "execution_count": 17,
      "outputs": []
    },
    {
      "cell_type": "code",
      "metadata": {
        "colab": {
          "base_uri": "https://localhost:8080/",
          "height": 297
        },
        "id": "UTrb4nv263aH",
        "outputId": "48ce65b9-28d6-4990-dc27-90ee6cf5c131"
      },
      "source": [
        "unemployment_data.describe()"
      ],
      "execution_count": 18,
      "outputs": [
        {
          "output_type": "execute_result",
          "data": {
            "text/html": [
              "<div>\n",
              "<style scoped>\n",
              "    .dataframe tbody tr th:only-of-type {\n",
              "        vertical-align: middle;\n",
              "    }\n",
              "\n",
              "    .dataframe tbody tr th {\n",
              "        vertical-align: top;\n",
              "    }\n",
              "\n",
              "    .dataframe thead th {\n",
              "        text-align: right;\n",
              "    }\n",
              "</style>\n",
              "<table border=\"1\" class=\"dataframe\">\n",
              "  <thead>\n",
              "    <tr style=\"text-align: right;\">\n",
              "      <th></th>\n",
              "      <th>Unemployment_Rate</th>\n",
              "      <th>Unemployment_Annual_Change</th>\n",
              "    </tr>\n",
              "  </thead>\n",
              "  <tbody>\n",
              "    <tr>\n",
              "      <th>count</th>\n",
              "      <td>29.000000</td>\n",
              "      <td>29.000000</td>\n",
              "    </tr>\n",
              "    <tr>\n",
              "      <th>mean</th>\n",
              "      <td>5.855690</td>\n",
              "      <td>-0.107241</td>\n",
              "    </tr>\n",
              "    <tr>\n",
              "      <th>std</th>\n",
              "      <td>1.620264</td>\n",
              "      <td>0.895807</td>\n",
              "    </tr>\n",
              "    <tr>\n",
              "      <th>min</th>\n",
              "      <td>3.682000</td>\n",
              "      <td>-1.210000</td>\n",
              "    </tr>\n",
              "    <tr>\n",
              "      <th>25%</th>\n",
              "      <td>4.623000</td>\n",
              "      <td>-0.510000</td>\n",
              "    </tr>\n",
              "    <tr>\n",
              "      <th>50%</th>\n",
              "      <td>5.529000</td>\n",
              "      <td>-0.450000</td>\n",
              "    </tr>\n",
              "    <tr>\n",
              "      <th>75%</th>\n",
              "      <td>6.800000</td>\n",
              "      <td>0.000000</td>\n",
              "    </tr>\n",
              "    <tr>\n",
              "      <th>max</th>\n",
              "      <td>9.633000</td>\n",
              "      <td>3.470000</td>\n",
              "    </tr>\n",
              "  </tbody>\n",
              "</table>\n",
              "</div>"
            ],
            "text/plain": [
              "       Unemployment_Rate  Unemployment_Annual_Change\n",
              "count          29.000000                   29.000000\n",
              "mean            5.855690                   -0.107241\n",
              "std             1.620264                    0.895807\n",
              "min             3.682000                   -1.210000\n",
              "25%             4.623000                   -0.510000\n",
              "50%             5.529000                   -0.450000\n",
              "75%             6.800000                    0.000000\n",
              "max             9.633000                    3.470000"
            ]
          },
          "metadata": {
            "tags": []
          },
          "execution_count": 18
        }
      ]
    },
    {
      "cell_type": "markdown",
      "metadata": {
        "id": "7Z7Dc_XG1g-i"
      },
      "source": [
        "##Population Data"
      ]
    },
    {
      "cell_type": "code",
      "metadata": {
        "id": "3QcR93US65kS"
      },
      "source": [
        "url=\"https://raw.githubusercontent.com/raghavadevarajeurs/MachineLearning/main/Data/united-states-population.csv\"\n",
        "file=requests.get(url).content\n",
        "population_data=pd.read_csv(io.StringIO(file.decode('utf-8')),sep=',')"
      ],
      "execution_count": 19,
      "outputs": []
    },
    {
      "cell_type": "code",
      "metadata": {
        "colab": {
          "base_uri": "https://localhost:8080/",
          "height": 297
        },
        "id": "JDuwnZGh7AVc",
        "outputId": "833610ff-b949-40de-87b7-b94d39be6d74"
      },
      "source": [
        "population_data.describe()"
      ],
      "execution_count": 20,
      "outputs": [
        {
          "output_type": "execute_result",
          "data": {
            "text/html": [
              "<div>\n",
              "<style scoped>\n",
              "    .dataframe tbody tr th:only-of-type {\n",
              "        vertical-align: middle;\n",
              "    }\n",
              "\n",
              "    .dataframe tbody tr th {\n",
              "        vertical-align: top;\n",
              "    }\n",
              "\n",
              "    .dataframe thead th {\n",
              "        text-align: right;\n",
              "    }\n",
              "</style>\n",
              "<table border=\"1\" class=\"dataframe\">\n",
              "  <thead>\n",
              "    <tr style=\"text-align: right;\">\n",
              "      <th></th>\n",
              "      <th>Population</th>\n",
              "      <th>Population_Annual_Change</th>\n",
              "    </tr>\n",
              "  </thead>\n",
              "  <tbody>\n",
              "    <tr>\n",
              "      <th>count</th>\n",
              "      <td>7.100000e+01</td>\n",
              "      <td>71.000000</td>\n",
              "    </tr>\n",
              "    <tr>\n",
              "      <th>mean</th>\n",
              "      <td>2.446810e+08</td>\n",
              "      <td>1.040563</td>\n",
              "    </tr>\n",
              "    <tr>\n",
              "      <th>std</th>\n",
              "      <td>5.056870e+07</td>\n",
              "      <td>0.322786</td>\n",
              "    </tr>\n",
              "    <tr>\n",
              "      <th>min</th>\n",
              "      <td>1.588044e+08</td>\n",
              "      <td>0.000000</td>\n",
              "    </tr>\n",
              "    <tr>\n",
              "      <th>25%</th>\n",
              "      <td>2.048554e+08</td>\n",
              "      <td>0.900000</td>\n",
              "    </tr>\n",
              "    <tr>\n",
              "      <th>50%</th>\n",
              "      <td>2.404998e+08</td>\n",
              "      <td>0.940000</td>\n",
              "    </tr>\n",
              "    <tr>\n",
              "      <th>75%</th>\n",
              "      <td>2.885474e+08</td>\n",
              "      <td>1.190000</td>\n",
              "    </tr>\n",
              "    <tr>\n",
              "      <th>max</th>\n",
              "      <td>3.310027e+08</td>\n",
              "      <td>1.760000</td>\n",
              "    </tr>\n",
              "  </tbody>\n",
              "</table>\n",
              "</div>"
            ],
            "text/plain": [
              "         Population  Population_Annual_Change\n",
              "count  7.100000e+01                 71.000000\n",
              "mean   2.446810e+08                  1.040563\n",
              "std    5.056870e+07                  0.322786\n",
              "min    1.588044e+08                  0.000000\n",
              "25%    2.048554e+08                  0.900000\n",
              "50%    2.404998e+08                  0.940000\n",
              "75%    2.885474e+08                  1.190000\n",
              "max    3.310027e+08                  1.760000"
            ]
          },
          "metadata": {
            "tags": []
          },
          "execution_count": 20
        }
      ]
    },
    {
      "cell_type": "markdown",
      "metadata": {
        "id": "CJpTNjYr1laJ"
      },
      "source": [
        "##Data Aggregation"
      ]
    },
    {
      "cell_type": "markdown",
      "metadata": {
        "id": "obO5lFVZWEMA"
      },
      "source": [
        "All the available data is having date parameter, using this as the primary key we have integrated the data sets."
      ]
    },
    {
      "cell_type": "code",
      "metadata": {
        "colab": {
          "base_uri": "https://localhost:8080/",
          "height": 340
        },
        "id": "znSu0PYN7Cf7",
        "outputId": "c686337c-d5f9-41d8-f1a5-f45076af5894"
      },
      "source": [
        "dateRange = pd.date_range(start='1945-01-01', end='2020-12-31')\n",
        "df = pd.DataFrame({ 'date': dateRange})\n",
        "df['date'] = df['date'].astype(str)\n",
        "df.info()\n",
        "df.head()"
      ],
      "execution_count": 21,
      "outputs": [
        {
          "output_type": "stream",
          "text": [
            "<class 'pandas.core.frame.DataFrame'>\n",
            "RangeIndex: 27759 entries, 0 to 27758\n",
            "Data columns (total 1 columns):\n",
            " #   Column  Non-Null Count  Dtype \n",
            "---  ------  --------------  ----- \n",
            " 0   date    27759 non-null  object\n",
            "dtypes: object(1)\n",
            "memory usage: 217.0+ KB\n"
          ],
          "name": "stdout"
        },
        {
          "output_type": "execute_result",
          "data": {
            "text/html": [
              "<div>\n",
              "<style scoped>\n",
              "    .dataframe tbody tr th:only-of-type {\n",
              "        vertical-align: middle;\n",
              "    }\n",
              "\n",
              "    .dataframe tbody tr th {\n",
              "        vertical-align: top;\n",
              "    }\n",
              "\n",
              "    .dataframe thead th {\n",
              "        text-align: right;\n",
              "    }\n",
              "</style>\n",
              "<table border=\"1\" class=\"dataframe\">\n",
              "  <thead>\n",
              "    <tr style=\"text-align: right;\">\n",
              "      <th></th>\n",
              "      <th>date</th>\n",
              "    </tr>\n",
              "  </thead>\n",
              "  <tbody>\n",
              "    <tr>\n",
              "      <th>0</th>\n",
              "      <td>1945-01-01</td>\n",
              "    </tr>\n",
              "    <tr>\n",
              "      <th>1</th>\n",
              "      <td>1945-01-02</td>\n",
              "    </tr>\n",
              "    <tr>\n",
              "      <th>2</th>\n",
              "      <td>1945-01-03</td>\n",
              "    </tr>\n",
              "    <tr>\n",
              "      <th>3</th>\n",
              "      <td>1945-01-04</td>\n",
              "    </tr>\n",
              "    <tr>\n",
              "      <th>4</th>\n",
              "      <td>1945-01-05</td>\n",
              "    </tr>\n",
              "  </tbody>\n",
              "</table>\n",
              "</div>"
            ],
            "text/plain": [
              "         date\n",
              "0  1945-01-01\n",
              "1  1945-01-02\n",
              "2  1945-01-03\n",
              "3  1945-01-04\n",
              "4  1945-01-05"
            ]
          },
          "metadata": {
            "tags": []
          },
          "execution_count": 21
        }
      ]
    },
    {
      "cell_type": "code",
      "metadata": {
        "id": "f8SpZgFu7ZLZ"
      },
      "source": [
        "def combine_data(initFrame, data):\n",
        "  return initFrame.merge(data ,how='outer',left_on='date', right_on='date')"
      ],
      "execution_count": 22,
      "outputs": []
    },
    {
      "cell_type": "code",
      "metadata": {
        "colab": {
          "base_uri": "https://localhost:8080/",
          "height": 309
        },
        "id": "dgVyF7ek7avD",
        "outputId": "35dcd904-c837-4dda-f126-7cfa98d6d591"
      },
      "source": [
        "for data in [gdp_data,gdp_growth_data,co2_emissions_data,coal_usage_data,fossil_fuel_data,greenhouse_data,population_data, poverty_data,unemployment_data]:\n",
        "  df = combine_data(df, data)\n",
        "\n",
        "df.head()"
      ],
      "execution_count": 23,
      "outputs": [
        {
          "output_type": "execute_result",
          "data": {
            "text/html": [
              "<div>\n",
              "<style scoped>\n",
              "    .dataframe tbody tr th:only-of-type {\n",
              "        vertical-align: middle;\n",
              "    }\n",
              "\n",
              "    .dataframe tbody tr th {\n",
              "        vertical-align: top;\n",
              "    }\n",
              "\n",
              "    .dataframe thead th {\n",
              "        text-align: right;\n",
              "    }\n",
              "</style>\n",
              "<table border=\"1\" class=\"dataframe\">\n",
              "  <thead>\n",
              "    <tr style=\"text-align: right;\">\n",
              "      <th></th>\n",
              "      <th>date</th>\n",
              "      <th>gdp</th>\n",
              "      <th>percapita</th>\n",
              "      <th>GDP_Growth_Percent</th>\n",
              "      <th>Growth_Annual_Change</th>\n",
              "      <th>KT_CO2_x</th>\n",
              "      <th>Metric_TON_PerCapita</th>\n",
              "      <th>Elect_frm_Coal_Percent</th>\n",
              "      <th>Elect_Annual_Change</th>\n",
              "      <th>Energy_Fossil_Use_Percent</th>\n",
              "      <th>Fossil_Enr_Annual_Change</th>\n",
              "      <th>KT_CO2_y</th>\n",
              "      <th>CO2_Annual_Change</th>\n",
              "      <th>Population</th>\n",
              "      <th>Population_Annual_Change</th>\n",
              "      <th>percentage_below_poverty</th>\n",
              "      <th>poverty_percent_Change</th>\n",
              "      <th>Unemployment_Rate</th>\n",
              "      <th>Unemployment_Annual_Change</th>\n",
              "    </tr>\n",
              "  </thead>\n",
              "  <tbody>\n",
              "    <tr>\n",
              "      <th>0</th>\n",
              "      <td>1945-01-01</td>\n",
              "      <td>NaN</td>\n",
              "      <td>NaN</td>\n",
              "      <td>NaN</td>\n",
              "      <td>NaN</td>\n",
              "      <td>NaN</td>\n",
              "      <td>NaN</td>\n",
              "      <td>NaN</td>\n",
              "      <td>NaN</td>\n",
              "      <td>NaN</td>\n",
              "      <td>NaN</td>\n",
              "      <td>NaN</td>\n",
              "      <td>NaN</td>\n",
              "      <td>NaN</td>\n",
              "      <td>NaN</td>\n",
              "      <td>NaN</td>\n",
              "      <td>NaN</td>\n",
              "      <td>NaN</td>\n",
              "      <td>NaN</td>\n",
              "    </tr>\n",
              "    <tr>\n",
              "      <th>1</th>\n",
              "      <td>1945-01-02</td>\n",
              "      <td>NaN</td>\n",
              "      <td>NaN</td>\n",
              "      <td>NaN</td>\n",
              "      <td>NaN</td>\n",
              "      <td>NaN</td>\n",
              "      <td>NaN</td>\n",
              "      <td>NaN</td>\n",
              "      <td>NaN</td>\n",
              "      <td>NaN</td>\n",
              "      <td>NaN</td>\n",
              "      <td>NaN</td>\n",
              "      <td>NaN</td>\n",
              "      <td>NaN</td>\n",
              "      <td>NaN</td>\n",
              "      <td>NaN</td>\n",
              "      <td>NaN</td>\n",
              "      <td>NaN</td>\n",
              "      <td>NaN</td>\n",
              "    </tr>\n",
              "    <tr>\n",
              "      <th>2</th>\n",
              "      <td>1945-01-03</td>\n",
              "      <td>NaN</td>\n",
              "      <td>NaN</td>\n",
              "      <td>NaN</td>\n",
              "      <td>NaN</td>\n",
              "      <td>NaN</td>\n",
              "      <td>NaN</td>\n",
              "      <td>NaN</td>\n",
              "      <td>NaN</td>\n",
              "      <td>NaN</td>\n",
              "      <td>NaN</td>\n",
              "      <td>NaN</td>\n",
              "      <td>NaN</td>\n",
              "      <td>NaN</td>\n",
              "      <td>NaN</td>\n",
              "      <td>NaN</td>\n",
              "      <td>NaN</td>\n",
              "      <td>NaN</td>\n",
              "      <td>NaN</td>\n",
              "    </tr>\n",
              "    <tr>\n",
              "      <th>3</th>\n",
              "      <td>1945-01-04</td>\n",
              "      <td>NaN</td>\n",
              "      <td>NaN</td>\n",
              "      <td>NaN</td>\n",
              "      <td>NaN</td>\n",
              "      <td>NaN</td>\n",
              "      <td>NaN</td>\n",
              "      <td>NaN</td>\n",
              "      <td>NaN</td>\n",
              "      <td>NaN</td>\n",
              "      <td>NaN</td>\n",
              "      <td>NaN</td>\n",
              "      <td>NaN</td>\n",
              "      <td>NaN</td>\n",
              "      <td>NaN</td>\n",
              "      <td>NaN</td>\n",
              "      <td>NaN</td>\n",
              "      <td>NaN</td>\n",
              "      <td>NaN</td>\n",
              "    </tr>\n",
              "    <tr>\n",
              "      <th>4</th>\n",
              "      <td>1945-01-05</td>\n",
              "      <td>NaN</td>\n",
              "      <td>NaN</td>\n",
              "      <td>NaN</td>\n",
              "      <td>NaN</td>\n",
              "      <td>NaN</td>\n",
              "      <td>NaN</td>\n",
              "      <td>NaN</td>\n",
              "      <td>NaN</td>\n",
              "      <td>NaN</td>\n",
              "      <td>NaN</td>\n",
              "      <td>NaN</td>\n",
              "      <td>NaN</td>\n",
              "      <td>NaN</td>\n",
              "      <td>NaN</td>\n",
              "      <td>NaN</td>\n",
              "      <td>NaN</td>\n",
              "      <td>NaN</td>\n",
              "      <td>NaN</td>\n",
              "    </tr>\n",
              "  </tbody>\n",
              "</table>\n",
              "</div>"
            ],
            "text/plain": [
              "         date  gdp  ...  Unemployment_Rate  Unemployment_Annual_Change\n",
              "0  1945-01-01  NaN  ...                NaN                         NaN\n",
              "1  1945-01-02  NaN  ...                NaN                         NaN\n",
              "2  1945-01-03  NaN  ...                NaN                         NaN\n",
              "3  1945-01-04  NaN  ...                NaN                         NaN\n",
              "4  1945-01-05  NaN  ...                NaN                         NaN\n",
              "\n",
              "[5 rows x 19 columns]"
            ]
          },
          "metadata": {
            "tags": []
          },
          "execution_count": 23
        }
      ]
    },
    {
      "cell_type": "markdown",
      "metadata": {
        "id": "_DWU19hH13WH"
      },
      "source": [
        "##Data Cleaning"
      ]
    },
    {
      "cell_type": "code",
      "metadata": {
        "colab": {
          "base_uri": "https://localhost:8080/"
        },
        "id": "RjmKOAgr8TaC",
        "outputId": "c199bd61-25e2-4b75-c7fd-4c7f993cdd88"
      },
      "source": [
        "df.columns"
      ],
      "execution_count": 24,
      "outputs": [
        {
          "output_type": "execute_result",
          "data": {
            "text/plain": [
              "Index(['date', 'gdp', 'percapita', 'GDP_Growth_Percent',\n",
              "       'Growth_Annual_Change', 'KT_CO2_x', 'Metric_TON_PerCapita',\n",
              "       'Elect_frm_Coal_Percent', 'Elect_Annual_Change',\n",
              "       'Energy_Fossil_Use_Percent', 'Fossil_Enr_Annual_Change', 'KT_CO2_y',\n",
              "       'CO2_Annual_Change ', 'Population', 'Population_Annual_Change',\n",
              "       'percentage_below_poverty', 'poverty_percent_Change',\n",
              "       'Unemployment_Rate', 'Unemployment_Annual_Change'],\n",
              "      dtype='object')"
            ]
          },
          "metadata": {
            "tags": []
          },
          "execution_count": 24
        }
      ]
    },
    {
      "cell_type": "code",
      "metadata": {
        "colab": {
          "base_uri": "https://localhost:8080/",
          "height": 609
        },
        "id": "s1Vhp7Ew8Wir",
        "outputId": "a13de5b2-295f-4cb9-c662-862fd43451f2"
      },
      "source": [
        "column_names = ['gdp', 'percapita', 'GDP_Growth_Percent',\n",
        "       'Growth_Annual_Change', 'KT_CO2_x', 'Metric_TON_PerCapita',\n",
        "       'Elect_frm_Coal_Percent', 'Elect_Annual_Change',\n",
        "       'Energy_Fossil_Use_Percent', 'Fossil_Enr_Annual_Change', 'KT_CO2_y',\n",
        "       'CO2_Annual_Change ', 'Population', 'Population_Annual_Change',\n",
        "       'percentage_below_poverty', 'poverty_percent_Change',\n",
        "       'Unemployment_Rate', 'Unemployment_Annual_Change']\n",
        "df = df.dropna(subset=column_names, how='all')\n",
        "df.head(200)"
      ],
      "execution_count": 25,
      "outputs": [
        {
          "output_type": "execute_result",
          "data": {
            "text/html": [
              "<div>\n",
              "<style scoped>\n",
              "    .dataframe tbody tr th:only-of-type {\n",
              "        vertical-align: middle;\n",
              "    }\n",
              "\n",
              "    .dataframe tbody tr th {\n",
              "        vertical-align: top;\n",
              "    }\n",
              "\n",
              "    .dataframe thead th {\n",
              "        text-align: right;\n",
              "    }\n",
              "</style>\n",
              "<table border=\"1\" class=\"dataframe\">\n",
              "  <thead>\n",
              "    <tr style=\"text-align: right;\">\n",
              "      <th></th>\n",
              "      <th>date</th>\n",
              "      <th>gdp</th>\n",
              "      <th>percapita</th>\n",
              "      <th>GDP_Growth_Percent</th>\n",
              "      <th>Growth_Annual_Change</th>\n",
              "      <th>KT_CO2_x</th>\n",
              "      <th>Metric_TON_PerCapita</th>\n",
              "      <th>Elect_frm_Coal_Percent</th>\n",
              "      <th>Elect_Annual_Change</th>\n",
              "      <th>Energy_Fossil_Use_Percent</th>\n",
              "      <th>Fossil_Enr_Annual_Change</th>\n",
              "      <th>KT_CO2_y</th>\n",
              "      <th>CO2_Annual_Change</th>\n",
              "      <th>Population</th>\n",
              "      <th>Population_Annual_Change</th>\n",
              "      <th>percentage_below_poverty</th>\n",
              "      <th>poverty_percent_Change</th>\n",
              "      <th>Unemployment_Rate</th>\n",
              "      <th>Unemployment_Annual_Change</th>\n",
              "    </tr>\n",
              "  </thead>\n",
              "  <tbody>\n",
              "    <tr>\n",
              "      <th>1094</th>\n",
              "      <td>1947-12-31</td>\n",
              "      <td>998.462</td>\n",
              "      <td>1719.223702</td>\n",
              "      <td>NaN</td>\n",
              "      <td>NaN</td>\n",
              "      <td>NaN</td>\n",
              "      <td>NaN</td>\n",
              "      <td>NaN</td>\n",
              "      <td>NaN</td>\n",
              "      <td>NaN</td>\n",
              "      <td>NaN</td>\n",
              "      <td>NaN</td>\n",
              "      <td>NaN</td>\n",
              "      <td>NaN</td>\n",
              "      <td>NaN</td>\n",
              "      <td>NaN</td>\n",
              "      <td>NaN</td>\n",
              "      <td>NaN</td>\n",
              "      <td>NaN</td>\n",
              "    </tr>\n",
              "    <tr>\n",
              "      <th>1460</th>\n",
              "      <td>1948-12-31</td>\n",
              "      <td>1097.871</td>\n",
              "      <td>1881.308846</td>\n",
              "      <td>NaN</td>\n",
              "      <td>NaN</td>\n",
              "      <td>NaN</td>\n",
              "      <td>NaN</td>\n",
              "      <td>NaN</td>\n",
              "      <td>NaN</td>\n",
              "      <td>NaN</td>\n",
              "      <td>NaN</td>\n",
              "      <td>NaN</td>\n",
              "      <td>NaN</td>\n",
              "      <td>NaN</td>\n",
              "      <td>NaN</td>\n",
              "      <td>NaN</td>\n",
              "      <td>NaN</td>\n",
              "      <td>NaN</td>\n",
              "      <td>NaN</td>\n",
              "    </tr>\n",
              "    <tr>\n",
              "      <th>1825</th>\n",
              "      <td>1949-12-31</td>\n",
              "      <td>1089.901</td>\n",
              "      <td>1824.273628</td>\n",
              "      <td>NaN</td>\n",
              "      <td>NaN</td>\n",
              "      <td>NaN</td>\n",
              "      <td>NaN</td>\n",
              "      <td>NaN</td>\n",
              "      <td>NaN</td>\n",
              "      <td>NaN</td>\n",
              "      <td>NaN</td>\n",
              "      <td>NaN</td>\n",
              "      <td>NaN</td>\n",
              "      <td>NaN</td>\n",
              "      <td>NaN</td>\n",
              "      <td>NaN</td>\n",
              "      <td>NaN</td>\n",
              "      <td>NaN</td>\n",
              "      <td>NaN</td>\n",
              "    </tr>\n",
              "    <tr>\n",
              "      <th>2190</th>\n",
              "      <td>1950-12-31</td>\n",
              "      <td>1199.309</td>\n",
              "      <td>1973.347351</td>\n",
              "      <td>NaN</td>\n",
              "      <td>NaN</td>\n",
              "      <td>NaN</td>\n",
              "      <td>NaN</td>\n",
              "      <td>NaN</td>\n",
              "      <td>NaN</td>\n",
              "      <td>NaN</td>\n",
              "      <td>NaN</td>\n",
              "      <td>NaN</td>\n",
              "      <td>NaN</td>\n",
              "      <td>158804395.0</td>\n",
              "      <td>0.00</td>\n",
              "      <td>NaN</td>\n",
              "      <td>NaN</td>\n",
              "      <td>NaN</td>\n",
              "      <td>NaN</td>\n",
              "    </tr>\n",
              "    <tr>\n",
              "      <th>2555</th>\n",
              "      <td>1951-12-31</td>\n",
              "      <td>1387.653</td>\n",
              "      <td>2254.245934</td>\n",
              "      <td>NaN</td>\n",
              "      <td>NaN</td>\n",
              "      <td>NaN</td>\n",
              "      <td>NaN</td>\n",
              "      <td>NaN</td>\n",
              "      <td>NaN</td>\n",
              "      <td>NaN</td>\n",
              "      <td>NaN</td>\n",
              "      <td>NaN</td>\n",
              "      <td>NaN</td>\n",
              "      <td>160872266.0</td>\n",
              "      <td>1.30</td>\n",
              "      <td>NaN</td>\n",
              "      <td>NaN</td>\n",
              "      <td>NaN</td>\n",
              "      <td>NaN</td>\n",
              "    </tr>\n",
              "    <tr>\n",
              "      <th>...</th>\n",
              "      <td>...</td>\n",
              "      <td>...</td>\n",
              "      <td>...</td>\n",
              "      <td>...</td>\n",
              "      <td>...</td>\n",
              "      <td>...</td>\n",
              "      <td>...</td>\n",
              "      <td>...</td>\n",
              "      <td>...</td>\n",
              "      <td>...</td>\n",
              "      <td>...</td>\n",
              "      <td>...</td>\n",
              "      <td>...</td>\n",
              "      <td>...</td>\n",
              "      <td>...</td>\n",
              "      <td>...</td>\n",
              "      <td>...</td>\n",
              "      <td>...</td>\n",
              "      <td>...</td>\n",
              "    </tr>\n",
              "    <tr>\n",
              "      <th>26297</th>\n",
              "      <td>2016-12-31</td>\n",
              "      <td>74828.755</td>\n",
              "      <td>57902.926170</td>\n",
              "      <td>1.6378</td>\n",
              "      <td>-1.27</td>\n",
              "      <td>5006302.077</td>\n",
              "      <td>15.5022</td>\n",
              "      <td>NaN</td>\n",
              "      <td>NaN</td>\n",
              "      <td>NaN</td>\n",
              "      <td>NaN</td>\n",
              "      <td>NaN</td>\n",
              "      <td>NaN</td>\n",
              "      <td>323015995.0</td>\n",
              "      <td>0.67</td>\n",
              "      <td>1.7</td>\n",
              "      <td>0.0</td>\n",
              "      <td>4.869</td>\n",
              "      <td>-0.41</td>\n",
              "    </tr>\n",
              "    <tr>\n",
              "      <th>26662</th>\n",
              "      <td>2017-12-31</td>\n",
              "      <td>77941.576</td>\n",
              "      <td>59847.241630</td>\n",
              "      <td>2.3698</td>\n",
              "      <td>0.73</td>\n",
              "      <td>NaN</td>\n",
              "      <td>NaN</td>\n",
              "      <td>NaN</td>\n",
              "      <td>NaN</td>\n",
              "      <td>NaN</td>\n",
              "      <td>NaN</td>\n",
              "      <td>NaN</td>\n",
              "      <td>NaN</td>\n",
              "      <td>325084756.0</td>\n",
              "      <td>0.64</td>\n",
              "      <td>NaN</td>\n",
              "      <td>NaN</td>\n",
              "      <td>4.355</td>\n",
              "      <td>-0.51</td>\n",
              "    </tr>\n",
              "    <tr>\n",
              "      <th>27027</th>\n",
              "      <td>2018-12-31</td>\n",
              "      <td>82002.542</td>\n",
              "      <td>62718.009410</td>\n",
              "      <td>2.9273</td>\n",
              "      <td>0.56</td>\n",
              "      <td>NaN</td>\n",
              "      <td>NaN</td>\n",
              "      <td>NaN</td>\n",
              "      <td>NaN</td>\n",
              "      <td>NaN</td>\n",
              "      <td>NaN</td>\n",
              "      <td>NaN</td>\n",
              "      <td>NaN</td>\n",
              "      <td>327096265.0</td>\n",
              "      <td>0.62</td>\n",
              "      <td>NaN</td>\n",
              "      <td>NaN</td>\n",
              "      <td>3.896</td>\n",
              "      <td>-0.46</td>\n",
              "    </tr>\n",
              "    <tr>\n",
              "      <th>27392</th>\n",
              "      <td>2019-12-31</td>\n",
              "      <td>NaN</td>\n",
              "      <td>NaN</td>\n",
              "      <td>2.1612</td>\n",
              "      <td>-0.77</td>\n",
              "      <td>NaN</td>\n",
              "      <td>NaN</td>\n",
              "      <td>NaN</td>\n",
              "      <td>NaN</td>\n",
              "      <td>NaN</td>\n",
              "      <td>NaN</td>\n",
              "      <td>NaN</td>\n",
              "      <td>NaN</td>\n",
              "      <td>329064917.0</td>\n",
              "      <td>0.60</td>\n",
              "      <td>NaN</td>\n",
              "      <td>NaN</td>\n",
              "      <td>3.682</td>\n",
              "      <td>-0.21</td>\n",
              "    </tr>\n",
              "    <tr>\n",
              "      <th>27758</th>\n",
              "      <td>2020-12-31</td>\n",
              "      <td>NaN</td>\n",
              "      <td>NaN</td>\n",
              "      <td>NaN</td>\n",
              "      <td>NaN</td>\n",
              "      <td>NaN</td>\n",
              "      <td>NaN</td>\n",
              "      <td>NaN</td>\n",
              "      <td>NaN</td>\n",
              "      <td>NaN</td>\n",
              "      <td>NaN</td>\n",
              "      <td>NaN</td>\n",
              "      <td>NaN</td>\n",
              "      <td>331002651.0</td>\n",
              "      <td>0.59</td>\n",
              "      <td>NaN</td>\n",
              "      <td>NaN</td>\n",
              "      <td>NaN</td>\n",
              "      <td>NaN</td>\n",
              "    </tr>\n",
              "  </tbody>\n",
              "</table>\n",
              "<p>74 rows × 19 columns</p>\n",
              "</div>"
            ],
            "text/plain": [
              "             date        gdp  ...  Unemployment_Rate  Unemployment_Annual_Change\n",
              "1094   1947-12-31    998.462  ...                NaN                         NaN\n",
              "1460   1948-12-31   1097.871  ...                NaN                         NaN\n",
              "1825   1949-12-31   1089.901  ...                NaN                         NaN\n",
              "2190   1950-12-31   1199.309  ...                NaN                         NaN\n",
              "2555   1951-12-31   1387.653  ...                NaN                         NaN\n",
              "...           ...        ...  ...                ...                         ...\n",
              "26297  2016-12-31  74828.755  ...              4.869                       -0.41\n",
              "26662  2017-12-31  77941.576  ...              4.355                       -0.51\n",
              "27027  2018-12-31  82002.542  ...              3.896                       -0.46\n",
              "27392  2019-12-31        NaN  ...              3.682                       -0.21\n",
              "27758  2020-12-31        NaN  ...                NaN                         NaN\n",
              "\n",
              "[74 rows x 19 columns]"
            ]
          },
          "metadata": {
            "tags": []
          },
          "execution_count": 25
        }
      ]
    },
    {
      "cell_type": "code",
      "metadata": {
        "id": "z1qSbCEe-ztw"
      },
      "source": [
        "def fill_na(initialFrame, cols):\n",
        "  return initialFrame[cols].fillna(initialFrame[cols].mean())"
      ],
      "execution_count": 26,
      "outputs": []
    },
    {
      "cell_type": "code",
      "metadata": {
        "colab": {
          "base_uri": "https://localhost:8080/",
          "height": 609
        },
        "id": "4Vc8UDRO-0xL",
        "outputId": "d7f87a5a-52bf-47a5-a23c-da82ce39cc1a"
      },
      "source": [
        "for cols in column_names:\n",
        "  df[cols] = fill_na(df, cols)\n",
        "\n",
        "df.head(200)"
      ],
      "execution_count": 27,
      "outputs": [
        {
          "output_type": "execute_result",
          "data": {
            "text/html": [
              "<div>\n",
              "<style scoped>\n",
              "    .dataframe tbody tr th:only-of-type {\n",
              "        vertical-align: middle;\n",
              "    }\n",
              "\n",
              "    .dataframe tbody tr th {\n",
              "        vertical-align: top;\n",
              "    }\n",
              "\n",
              "    .dataframe thead th {\n",
              "        text-align: right;\n",
              "    }\n",
              "</style>\n",
              "<table border=\"1\" class=\"dataframe\">\n",
              "  <thead>\n",
              "    <tr style=\"text-align: right;\">\n",
              "      <th></th>\n",
              "      <th>date</th>\n",
              "      <th>gdp</th>\n",
              "      <th>percapita</th>\n",
              "      <th>GDP_Growth_Percent</th>\n",
              "      <th>Growth_Annual_Change</th>\n",
              "      <th>KT_CO2_x</th>\n",
              "      <th>Metric_TON_PerCapita</th>\n",
              "      <th>Elect_frm_Coal_Percent</th>\n",
              "      <th>Elect_Annual_Change</th>\n",
              "      <th>Energy_Fossil_Use_Percent</th>\n",
              "      <th>Fossil_Enr_Annual_Change</th>\n",
              "      <th>KT_CO2_y</th>\n",
              "      <th>CO2_Annual_Change</th>\n",
              "      <th>Population</th>\n",
              "      <th>Population_Annual_Change</th>\n",
              "      <th>percentage_below_poverty</th>\n",
              "      <th>poverty_percent_Change</th>\n",
              "      <th>Unemployment_Rate</th>\n",
              "      <th>Unemployment_Annual_Change</th>\n",
              "    </tr>\n",
              "  </thead>\n",
              "  <tbody>\n",
              "    <tr>\n",
              "      <th>1094</th>\n",
              "      <td>1947-12-31</td>\n",
              "      <td>998.462000</td>\n",
              "      <td>1719.223702</td>\n",
              "      <td>3.034549</td>\n",
              "      <td>-0.002373</td>\n",
              "      <td>4.734172e+06</td>\n",
              "      <td>19.012072</td>\n",
              "      <td>50.139952</td>\n",
              "      <td>-0.351607</td>\n",
              "      <td>89.289663</td>\n",
              "      <td>-0.233929</td>\n",
              "      <td>6.267232e+06</td>\n",
              "      <td>0.416047</td>\n",
              "      <td>2.446810e+08</td>\n",
              "      <td>1.040563</td>\n",
              "      <td>1.458333</td>\n",
              "      <td>0.0</td>\n",
              "      <td>5.85569</td>\n",
              "      <td>-0.107241</td>\n",
              "    </tr>\n",
              "    <tr>\n",
              "      <th>1460</th>\n",
              "      <td>1948-12-31</td>\n",
              "      <td>1097.871000</td>\n",
              "      <td>1881.308846</td>\n",
              "      <td>3.034549</td>\n",
              "      <td>-0.002373</td>\n",
              "      <td>4.734172e+06</td>\n",
              "      <td>19.012072</td>\n",
              "      <td>50.139952</td>\n",
              "      <td>-0.351607</td>\n",
              "      <td>89.289663</td>\n",
              "      <td>-0.233929</td>\n",
              "      <td>6.267232e+06</td>\n",
              "      <td>0.416047</td>\n",
              "      <td>2.446810e+08</td>\n",
              "      <td>1.040563</td>\n",
              "      <td>1.458333</td>\n",
              "      <td>0.0</td>\n",
              "      <td>5.85569</td>\n",
              "      <td>-0.107241</td>\n",
              "    </tr>\n",
              "    <tr>\n",
              "      <th>1825</th>\n",
              "      <td>1949-12-31</td>\n",
              "      <td>1089.901000</td>\n",
              "      <td>1824.273628</td>\n",
              "      <td>3.034549</td>\n",
              "      <td>-0.002373</td>\n",
              "      <td>4.734172e+06</td>\n",
              "      <td>19.012072</td>\n",
              "      <td>50.139952</td>\n",
              "      <td>-0.351607</td>\n",
              "      <td>89.289663</td>\n",
              "      <td>-0.233929</td>\n",
              "      <td>6.267232e+06</td>\n",
              "      <td>0.416047</td>\n",
              "      <td>2.446810e+08</td>\n",
              "      <td>1.040563</td>\n",
              "      <td>1.458333</td>\n",
              "      <td>0.0</td>\n",
              "      <td>5.85569</td>\n",
              "      <td>-0.107241</td>\n",
              "    </tr>\n",
              "    <tr>\n",
              "      <th>2190</th>\n",
              "      <td>1950-12-31</td>\n",
              "      <td>1199.309000</td>\n",
              "      <td>1973.347351</td>\n",
              "      <td>3.034549</td>\n",
              "      <td>-0.002373</td>\n",
              "      <td>4.734172e+06</td>\n",
              "      <td>19.012072</td>\n",
              "      <td>50.139952</td>\n",
              "      <td>-0.351607</td>\n",
              "      <td>89.289663</td>\n",
              "      <td>-0.233929</td>\n",
              "      <td>6.267232e+06</td>\n",
              "      <td>0.416047</td>\n",
              "      <td>1.588044e+08</td>\n",
              "      <td>0.000000</td>\n",
              "      <td>1.458333</td>\n",
              "      <td>0.0</td>\n",
              "      <td>5.85569</td>\n",
              "      <td>-0.107241</td>\n",
              "    </tr>\n",
              "    <tr>\n",
              "      <th>2555</th>\n",
              "      <td>1951-12-31</td>\n",
              "      <td>1387.653000</td>\n",
              "      <td>2254.245934</td>\n",
              "      <td>3.034549</td>\n",
              "      <td>-0.002373</td>\n",
              "      <td>4.734172e+06</td>\n",
              "      <td>19.012072</td>\n",
              "      <td>50.139952</td>\n",
              "      <td>-0.351607</td>\n",
              "      <td>89.289663</td>\n",
              "      <td>-0.233929</td>\n",
              "      <td>6.267232e+06</td>\n",
              "      <td>0.416047</td>\n",
              "      <td>1.608723e+08</td>\n",
              "      <td>1.300000</td>\n",
              "      <td>1.458333</td>\n",
              "      <td>0.0</td>\n",
              "      <td>5.85569</td>\n",
              "      <td>-0.107241</td>\n",
              "    </tr>\n",
              "    <tr>\n",
              "      <th>...</th>\n",
              "      <td>...</td>\n",
              "      <td>...</td>\n",
              "      <td>...</td>\n",
              "      <td>...</td>\n",
              "      <td>...</td>\n",
              "      <td>...</td>\n",
              "      <td>...</td>\n",
              "      <td>...</td>\n",
              "      <td>...</td>\n",
              "      <td>...</td>\n",
              "      <td>...</td>\n",
              "      <td>...</td>\n",
              "      <td>...</td>\n",
              "      <td>...</td>\n",
              "      <td>...</td>\n",
              "      <td>...</td>\n",
              "      <td>...</td>\n",
              "      <td>...</td>\n",
              "      <td>...</td>\n",
              "    </tr>\n",
              "    <tr>\n",
              "      <th>26297</th>\n",
              "      <td>2016-12-31</td>\n",
              "      <td>74828.755000</td>\n",
              "      <td>57902.926170</td>\n",
              "      <td>1.637800</td>\n",
              "      <td>-1.270000</td>\n",
              "      <td>5.006302e+06</td>\n",
              "      <td>15.502200</td>\n",
              "      <td>50.139952</td>\n",
              "      <td>-0.351607</td>\n",
              "      <td>89.289663</td>\n",
              "      <td>-0.233929</td>\n",
              "      <td>6.267232e+06</td>\n",
              "      <td>0.416047</td>\n",
              "      <td>3.230160e+08</td>\n",
              "      <td>0.670000</td>\n",
              "      <td>1.700000</td>\n",
              "      <td>0.0</td>\n",
              "      <td>4.86900</td>\n",
              "      <td>-0.410000</td>\n",
              "    </tr>\n",
              "    <tr>\n",
              "      <th>26662</th>\n",
              "      <td>2017-12-31</td>\n",
              "      <td>77941.576000</td>\n",
              "      <td>59847.241630</td>\n",
              "      <td>2.369800</td>\n",
              "      <td>0.730000</td>\n",
              "      <td>4.734172e+06</td>\n",
              "      <td>19.012072</td>\n",
              "      <td>50.139952</td>\n",
              "      <td>-0.351607</td>\n",
              "      <td>89.289663</td>\n",
              "      <td>-0.233929</td>\n",
              "      <td>6.267232e+06</td>\n",
              "      <td>0.416047</td>\n",
              "      <td>3.250848e+08</td>\n",
              "      <td>0.640000</td>\n",
              "      <td>1.458333</td>\n",
              "      <td>0.0</td>\n",
              "      <td>4.35500</td>\n",
              "      <td>-0.510000</td>\n",
              "    </tr>\n",
              "    <tr>\n",
              "      <th>27027</th>\n",
              "      <td>2018-12-31</td>\n",
              "      <td>82002.542000</td>\n",
              "      <td>62718.009410</td>\n",
              "      <td>2.927300</td>\n",
              "      <td>0.560000</td>\n",
              "      <td>4.734172e+06</td>\n",
              "      <td>19.012072</td>\n",
              "      <td>50.139952</td>\n",
              "      <td>-0.351607</td>\n",
              "      <td>89.289663</td>\n",
              "      <td>-0.233929</td>\n",
              "      <td>6.267232e+06</td>\n",
              "      <td>0.416047</td>\n",
              "      <td>3.270963e+08</td>\n",
              "      <td>0.620000</td>\n",
              "      <td>1.458333</td>\n",
              "      <td>0.0</td>\n",
              "      <td>3.89600</td>\n",
              "      <td>-0.460000</td>\n",
              "    </tr>\n",
              "    <tr>\n",
              "      <th>27392</th>\n",
              "      <td>2019-12-31</td>\n",
              "      <td>23934.144486</td>\n",
              "      <td>21232.686715</td>\n",
              "      <td>2.161200</td>\n",
              "      <td>-0.770000</td>\n",
              "      <td>4.734172e+06</td>\n",
              "      <td>19.012072</td>\n",
              "      <td>50.139952</td>\n",
              "      <td>-0.351607</td>\n",
              "      <td>89.289663</td>\n",
              "      <td>-0.233929</td>\n",
              "      <td>6.267232e+06</td>\n",
              "      <td>0.416047</td>\n",
              "      <td>3.290649e+08</td>\n",
              "      <td>0.600000</td>\n",
              "      <td>1.458333</td>\n",
              "      <td>0.0</td>\n",
              "      <td>3.68200</td>\n",
              "      <td>-0.210000</td>\n",
              "    </tr>\n",
              "    <tr>\n",
              "      <th>27758</th>\n",
              "      <td>2020-12-31</td>\n",
              "      <td>23934.144486</td>\n",
              "      <td>21232.686715</td>\n",
              "      <td>3.034549</td>\n",
              "      <td>-0.002373</td>\n",
              "      <td>4.734172e+06</td>\n",
              "      <td>19.012072</td>\n",
              "      <td>50.139952</td>\n",
              "      <td>-0.351607</td>\n",
              "      <td>89.289663</td>\n",
              "      <td>-0.233929</td>\n",
              "      <td>6.267232e+06</td>\n",
              "      <td>0.416047</td>\n",
              "      <td>3.310027e+08</td>\n",
              "      <td>0.590000</td>\n",
              "      <td>1.458333</td>\n",
              "      <td>0.0</td>\n",
              "      <td>5.85569</td>\n",
              "      <td>-0.107241</td>\n",
              "    </tr>\n",
              "  </tbody>\n",
              "</table>\n",
              "<p>74 rows × 19 columns</p>\n",
              "</div>"
            ],
            "text/plain": [
              "             date           gdp  ...  Unemployment_Rate  Unemployment_Annual_Change\n",
              "1094   1947-12-31    998.462000  ...            5.85569                   -0.107241\n",
              "1460   1948-12-31   1097.871000  ...            5.85569                   -0.107241\n",
              "1825   1949-12-31   1089.901000  ...            5.85569                   -0.107241\n",
              "2190   1950-12-31   1199.309000  ...            5.85569                   -0.107241\n",
              "2555   1951-12-31   1387.653000  ...            5.85569                   -0.107241\n",
              "...           ...           ...  ...                ...                         ...\n",
              "26297  2016-12-31  74828.755000  ...            4.86900                   -0.410000\n",
              "26662  2017-12-31  77941.576000  ...            4.35500                   -0.510000\n",
              "27027  2018-12-31  82002.542000  ...            3.89600                   -0.460000\n",
              "27392  2019-12-31  23934.144486  ...            3.68200                   -0.210000\n",
              "27758  2020-12-31  23934.144486  ...            5.85569                   -0.107241\n",
              "\n",
              "[74 rows x 19 columns]"
            ]
          },
          "metadata": {
            "tags": []
          },
          "execution_count": 27
        }
      ]
    },
    {
      "cell_type": "markdown",
      "metadata": {
        "id": "Qj1wWbNa18ue"
      },
      "source": [
        "##Data Exploration"
      ]
    },
    {
      "cell_type": "code",
      "metadata": {
        "colab": {
          "base_uri": "https://localhost:8080/",
          "height": 762
        },
        "id": "Z94hqkSyQA4A",
        "outputId": "af7d7c08-ddbc-42fe-d8a5-6ca05feb489f"
      },
      "source": [
        "correlation = df.corr()\n",
        "fig, ax = plt.subplots(figsize=(10,10))  \n",
        "sns.heatmap(correlation, annot=True, linewidths=.5, ax=ax)"
      ],
      "execution_count": 28,
      "outputs": [
        {
          "output_type": "execute_result",
          "data": {
            "text/plain": [
              "<matplotlib.axes._subplots.AxesSubplot at 0x7f2c7636cac8>"
            ]
          },
          "metadata": {
            "tags": []
          },
          "execution_count": 28
        },
        {
          "output_type": "display_data",
          "data": {
            "image/png": "[encoded data removed]",
            "text/plain": [
              "<Figure size 720x720 with 2 Axes>"
            ]
          },
          "metadata": {
            "tags": [],
            "needs_background": "light"
          }
        }
      ]
    },
    {
      "cell_type": "code",
      "metadata": {
        "colab": {
          "base_uri": "https://localhost:8080/"
        },
        "id": "hbe4PJ2gNEBu",
        "outputId": "51877fdc-61b2-4b4a-f479-b06f285ac124"
      },
      "source": [
        "df.info()"
      ],
      "execution_count": 29,
      "outputs": [
        {
          "output_type": "stream",
          "text": [
            "<class 'pandas.core.frame.DataFrame'>\n",
            "Int64Index: 74 entries, 1094 to 27758\n",
            "Data columns (total 19 columns):\n",
            " #   Column                      Non-Null Count  Dtype  \n",
            "---  ------                      --------------  -----  \n",
            " 0   date                        74 non-null     object \n",
            " 1   gdp                         74 non-null     float64\n",
            " 2   percapita                   74 non-null     float64\n",
            " 3   GDP_Growth_Percent          74 non-null     float64\n",
            " 4   Growth_Annual_Change        74 non-null     float64\n",
            " 5   KT_CO2_x                    74 non-null     float64\n",
            " 6   Metric_TON_PerCapita        74 non-null     float64\n",
            " 7   Elect_frm_Coal_Percent      74 non-null     float64\n",
            " 8   Elect_Annual_Change         74 non-null     float64\n",
            " 9   Energy_Fossil_Use_Percent   74 non-null     float64\n",
            " 10  Fossil_Enr_Annual_Change    74 non-null     float64\n",
            " 11  KT_CO2_y                    74 non-null     float64\n",
            " 12  CO2_Annual_Change           74 non-null     float64\n",
            " 13  Population                  74 non-null     float64\n",
            " 14  Population_Annual_Change    74 non-null     float64\n",
            " 15  percentage_below_poverty    74 non-null     float64\n",
            " 16  poverty_percent_Change      74 non-null     float64\n",
            " 17  Unemployment_Rate           74 non-null     float64\n",
            " 18  Unemployment_Annual_Change  74 non-null     float64\n",
            "dtypes: float64(18), object(1)\n",
            "memory usage: 11.6+ KB\n"
          ],
          "name": "stdout"
        }
      ]
    },
    {
      "cell_type": "code",
      "metadata": {
        "id": "iPqGdmVRNghV"
      },
      "source": [
        "df['year'] = pd.DatetimeIndex(df['date']).year"
      ],
      "execution_count": 30,
      "outputs": []
    },
    {
      "cell_type": "code",
      "metadata": {
        "colab": {
          "base_uri": "https://localhost:8080/",
          "height": 309
        },
        "id": "zj7WA_XcNl_f",
        "outputId": "7a1d3527-bccb-4c2d-c5ac-932c9e263b91"
      },
      "source": [
        "df.head()"
      ],
      "execution_count": 31,
      "outputs": [
        {
          "output_type": "execute_result",
          "data": {
            "text/html": [
              "<div>\n",
              "<style scoped>\n",
              "    .dataframe tbody tr th:only-of-type {\n",
              "        vertical-align: middle;\n",
              "    }\n",
              "\n",
              "    .dataframe tbody tr th {\n",
              "        vertical-align: top;\n",
              "    }\n",
              "\n",
              "    .dataframe thead th {\n",
              "        text-align: right;\n",
              "    }\n",
              "</style>\n",
              "<table border=\"1\" class=\"dataframe\">\n",
              "  <thead>\n",
              "    <tr style=\"text-align: right;\">\n",
              "      <th></th>\n",
              "      <th>date</th>\n",
              "      <th>gdp</th>\n",
              "      <th>percapita</th>\n",
              "      <th>GDP_Growth_Percent</th>\n",
              "      <th>Growth_Annual_Change</th>\n",
              "      <th>KT_CO2_x</th>\n",
              "      <th>Metric_TON_PerCapita</th>\n",
              "      <th>Elect_frm_Coal_Percent</th>\n",
              "      <th>Elect_Annual_Change</th>\n",
              "      <th>Energy_Fossil_Use_Percent</th>\n",
              "      <th>Fossil_Enr_Annual_Change</th>\n",
              "      <th>KT_CO2_y</th>\n",
              "      <th>CO2_Annual_Change</th>\n",
              "      <th>Population</th>\n",
              "      <th>Population_Annual_Change</th>\n",
              "      <th>percentage_below_poverty</th>\n",
              "      <th>poverty_percent_Change</th>\n",
              "      <th>Unemployment_Rate</th>\n",
              "      <th>Unemployment_Annual_Change</th>\n",
              "      <th>year</th>\n",
              "    </tr>\n",
              "  </thead>\n",
              "  <tbody>\n",
              "    <tr>\n",
              "      <th>1094</th>\n",
              "      <td>1947-12-31</td>\n",
              "      <td>998.462</td>\n",
              "      <td>1719.223702</td>\n",
              "      <td>3.034549</td>\n",
              "      <td>-0.002373</td>\n",
              "      <td>4.734172e+06</td>\n",
              "      <td>19.012072</td>\n",
              "      <td>50.139952</td>\n",
              "      <td>-0.351607</td>\n",
              "      <td>89.289663</td>\n",
              "      <td>-0.233929</td>\n",
              "      <td>6.267232e+06</td>\n",
              "      <td>0.416047</td>\n",
              "      <td>2.446810e+08</td>\n",
              "      <td>1.040563</td>\n",
              "      <td>1.458333</td>\n",
              "      <td>0.0</td>\n",
              "      <td>5.85569</td>\n",
              "      <td>-0.107241</td>\n",
              "      <td>1947</td>\n",
              "    </tr>\n",
              "    <tr>\n",
              "      <th>1460</th>\n",
              "      <td>1948-12-31</td>\n",
              "      <td>1097.871</td>\n",
              "      <td>1881.308846</td>\n",
              "      <td>3.034549</td>\n",
              "      <td>-0.002373</td>\n",
              "      <td>4.734172e+06</td>\n",
              "      <td>19.012072</td>\n",
              "      <td>50.139952</td>\n",
              "      <td>-0.351607</td>\n",
              "      <td>89.289663</td>\n",
              "      <td>-0.233929</td>\n",
              "      <td>6.267232e+06</td>\n",
              "      <td>0.416047</td>\n",
              "      <td>2.446810e+08</td>\n",
              "      <td>1.040563</td>\n",
              "      <td>1.458333</td>\n",
              "      <td>0.0</td>\n",
              "      <td>5.85569</td>\n",
              "      <td>-0.107241</td>\n",
              "      <td>1948</td>\n",
              "    </tr>\n",
              "    <tr>\n",
              "      <th>1825</th>\n",
              "      <td>1949-12-31</td>\n",
              "      <td>1089.901</td>\n",
              "      <td>1824.273628</td>\n",
              "      <td>3.034549</td>\n",
              "      <td>-0.002373</td>\n",
              "      <td>4.734172e+06</td>\n",
              "      <td>19.012072</td>\n",
              "      <td>50.139952</td>\n",
              "      <td>-0.351607</td>\n",
              "      <td>89.289663</td>\n",
              "      <td>-0.233929</td>\n",
              "      <td>6.267232e+06</td>\n",
              "      <td>0.416047</td>\n",
              "      <td>2.446810e+08</td>\n",
              "      <td>1.040563</td>\n",
              "      <td>1.458333</td>\n",
              "      <td>0.0</td>\n",
              "      <td>5.85569</td>\n",
              "      <td>-0.107241</td>\n",
              "      <td>1949</td>\n",
              "    </tr>\n",
              "    <tr>\n",
              "      <th>2190</th>\n",
              "      <td>1950-12-31</td>\n",
              "      <td>1199.309</td>\n",
              "      <td>1973.347351</td>\n",
              "      <td>3.034549</td>\n",
              "      <td>-0.002373</td>\n",
              "      <td>4.734172e+06</td>\n",
              "      <td>19.012072</td>\n",
              "      <td>50.139952</td>\n",
              "      <td>-0.351607</td>\n",
              "      <td>89.289663</td>\n",
              "      <td>-0.233929</td>\n",
              "      <td>6.267232e+06</td>\n",
              "      <td>0.416047</td>\n",
              "      <td>1.588044e+08</td>\n",
              "      <td>0.000000</td>\n",
              "      <td>1.458333</td>\n",
              "      <td>0.0</td>\n",
              "      <td>5.85569</td>\n",
              "      <td>-0.107241</td>\n",
              "      <td>1950</td>\n",
              "    </tr>\n",
              "    <tr>\n",
              "      <th>2555</th>\n",
              "      <td>1951-12-31</td>\n",
              "      <td>1387.653</td>\n",
              "      <td>2254.245934</td>\n",
              "      <td>3.034549</td>\n",
              "      <td>-0.002373</td>\n",
              "      <td>4.734172e+06</td>\n",
              "      <td>19.012072</td>\n",
              "      <td>50.139952</td>\n",
              "      <td>-0.351607</td>\n",
              "      <td>89.289663</td>\n",
              "      <td>-0.233929</td>\n",
              "      <td>6.267232e+06</td>\n",
              "      <td>0.416047</td>\n",
              "      <td>1.608723e+08</td>\n",
              "      <td>1.300000</td>\n",
              "      <td>1.458333</td>\n",
              "      <td>0.0</td>\n",
              "      <td>5.85569</td>\n",
              "      <td>-0.107241</td>\n",
              "      <td>1951</td>\n",
              "    </tr>\n",
              "  </tbody>\n",
              "</table>\n",
              "</div>"
            ],
            "text/plain": [
              "            date       gdp  ...  Unemployment_Annual_Change  year\n",
              "1094  1947-12-31   998.462  ...                   -0.107241  1947\n",
              "1460  1948-12-31  1097.871  ...                   -0.107241  1948\n",
              "1825  1949-12-31  1089.901  ...                   -0.107241  1949\n",
              "2190  1950-12-31  1199.309  ...                   -0.107241  1950\n",
              "2555  1951-12-31  1387.653  ...                   -0.107241  1951\n",
              "\n",
              "[5 rows x 20 columns]"
            ]
          },
          "metadata": {
            "tags": []
          },
          "execution_count": 31
        }
      ]
    },
    {
      "cell_type": "code",
      "metadata": {
        "id": "3ZemVOg2N3FC"
      },
      "source": [
        "del df['date']"
      ],
      "execution_count": 32,
      "outputs": []
    },
    {
      "cell_type": "code",
      "metadata": {
        "colab": {
          "base_uri": "https://localhost:8080/"
        },
        "id": "OlbXy9nb5857",
        "outputId": "a7553e27-82c1-4e65-f152-380198ab539a"
      },
      "source": [
        "df.info()"
      ],
      "execution_count": 33,
      "outputs": [
        {
          "output_type": "stream",
          "text": [
            "<class 'pandas.core.frame.DataFrame'>\n",
            "Int64Index: 74 entries, 1094 to 27758\n",
            "Data columns (total 19 columns):\n",
            " #   Column                      Non-Null Count  Dtype  \n",
            "---  ------                      --------------  -----  \n",
            " 0   gdp                         74 non-null     float64\n",
            " 1   percapita                   74 non-null     float64\n",
            " 2   GDP_Growth_Percent          74 non-null     float64\n",
            " 3   Growth_Annual_Change        74 non-null     float64\n",
            " 4   KT_CO2_x                    74 non-null     float64\n",
            " 5   Metric_TON_PerCapita        74 non-null     float64\n",
            " 6   Elect_frm_Coal_Percent      74 non-null     float64\n",
            " 7   Elect_Annual_Change         74 non-null     float64\n",
            " 8   Energy_Fossil_Use_Percent   74 non-null     float64\n",
            " 9   Fossil_Enr_Annual_Change    74 non-null     float64\n",
            " 10  KT_CO2_y                    74 non-null     float64\n",
            " 11  CO2_Annual_Change           74 non-null     float64\n",
            " 12  Population                  74 non-null     float64\n",
            " 13  Population_Annual_Change    74 non-null     float64\n",
            " 14  percentage_below_poverty    74 non-null     float64\n",
            " 15  poverty_percent_Change      74 non-null     float64\n",
            " 16  Unemployment_Rate           74 non-null     float64\n",
            " 17  Unemployment_Annual_Change  74 non-null     float64\n",
            " 18  year                        74 non-null     int64  \n",
            "dtypes: float64(18), int64(1)\n",
            "memory usage: 11.6 KB\n"
          ],
          "name": "stdout"
        }
      ]
    },
    {
      "cell_type": "markdown",
      "metadata": {
        "id": "Z9ahFDt-T2Ri"
      },
      "source": [
        "##Gausian Mixture Model "
      ]
    },
    {
      "cell_type": "code",
      "metadata": {
        "id": "R2oGkTRYR0yW"
      },
      "source": [
        "from sklearn.mixture import GaussianMixture"
      ],
      "execution_count": 34,
      "outputs": []
    },
    {
      "cell_type": "code",
      "metadata": {
        "id": "EA7rkt-qSHBY"
      },
      "source": [
        "gmix = GaussianMixture (n_components=2, covariance_type=\"full\").fit(df)\n",
        "clabel = gmix.predict(df)"
      ],
      "execution_count": 56,
      "outputs": []
    },
    {
      "cell_type": "code",
      "metadata": {
        "colab": {
          "base_uri": "https://localhost:8080/",
          "height": 367
        },
        "id": "kd7fePR7ODLM",
        "outputId": "23a76407-6507-492c-d838-1a26b49c946d"
      },
      "source": [
        "plt.figure(figsize=(5,5))\n",
        "plt.scatter(df.values[:, 2], df.values[:, 4], c=clabel, s=100, alpha=0.5)\n",
        "plt.title('Gausian Mixture Model')\n",
        "plt.xlabel('GDP Growth Percent')\n",
        "plt.ylabel('Co2 Emission')\n",
        "plt.legend()\n",
        "plt.show()"
      ],
      "execution_count": 57,
      "outputs": [
        {
          "output_type": "stream",
          "text": [
            "No handles with labels found to put in legend.\n"
          ],
          "name": "stderr"
        },
        {
          "output_type": "display_data",
          "data": {
            "image/png": "[encoded data removed]",
            "text/plain": [
              "<Figure size 360x360 with 1 Axes>"
            ]
          },
          "metadata": {
            "tags": [],
            "needs_background": "light"
          }
        }
      ]
    },
    {
      "cell_type": "markdown",
      "metadata": {
        "id": "MZ3KAngtpXjr"
      },
      "source": [
        "##Agglomerative"
      ]
    },
    {
      "cell_type": "code",
      "metadata": {
        "id": "gDU-5bFwT_S9"
      },
      "source": [
        "from sklearn.cluster import AgglomerativeClustering "
      ],
      "execution_count": 37,
      "outputs": []
    },
    {
      "cell_type": "code",
      "metadata": {
        "id": "_q2MLyYZL3zs"
      },
      "source": [
        "cluster = AgglomerativeClustering(n_clusters=2, affinity='euclidean', linkage='average' ) \n",
        "agglable=cluster.fit_predict(df)"
      ],
      "execution_count": 58,
      "outputs": []
    },
    {
      "cell_type": "code",
      "metadata": {
        "colab": {
          "base_uri": "https://localhost:8080/",
          "height": 367
        },
        "id": "yywNqPiUL7KN",
        "outputId": "593b5f81-d93d-450b-a6c5-533db5b8c1e8"
      },
      "source": [
        "\n",
        "plt.figure(figsize=(5,5))\n",
        "plt.scatter(df.values[:, 2], df.values[:, 4], c=agglabel, s=100, alpha=0.5)\n",
        "plt.title('Agglomerative clustering')\n",
        "plt.xlabel('GDP Growth Percent')\n",
        "plt.ylabel('Co2 Emission')\n",
        "plt.legend()\n",
        "plt.show()"
      ],
      "execution_count": 59,
      "outputs": [
        {
          "output_type": "stream",
          "text": [
            "No handles with labels found to put in legend.\n"
          ],
          "name": "stderr"
        },
        {
          "output_type": "display_data",
          "data": {
            "image/png": "[encoded data removed]",
            "text/plain": [
              "<Figure size 360x360 with 1 Axes>"
            ]
          },
          "metadata": {
            "tags": [],
            "needs_background": "light"
          }
        }
      ]
    },
    {
      "cell_type": "markdown",
      "metadata": {
        "id": "G6X9_DCco_6H"
      },
      "source": [
        "##Kmeans using Scikit Learn"
      ]
    },
    {
      "cell_type": "code",
      "metadata": {
        "colab": {
          "base_uri": "https://localhost:8080/"
        },
        "id": "Va8WudtwYNrh",
        "outputId": "25c30257-97cf-4c98-c091-6c72402af40b"
      },
      "source": [
        "df.info()"
      ],
      "execution_count": 40,
      "outputs": [
        {
          "output_type": "stream",
          "text": [
            "<class 'pandas.core.frame.DataFrame'>\n",
            "Int64Index: 74 entries, 1094 to 27758\n",
            "Data columns (total 19 columns):\n",
            " #   Column                      Non-Null Count  Dtype  \n",
            "---  ------                      --------------  -----  \n",
            " 0   gdp                         74 non-null     float64\n",
            " 1   percapita                   74 non-null     float64\n",
            " 2   GDP_Growth_Percent          74 non-null     float64\n",
            " 3   Growth_Annual_Change        74 non-null     float64\n",
            " 4   KT_CO2_x                    74 non-null     float64\n",
            " 5   Metric_TON_PerCapita        74 non-null     float64\n",
            " 6   Elect_frm_Coal_Percent      74 non-null     float64\n",
            " 7   Elect_Annual_Change         74 non-null     float64\n",
            " 8   Energy_Fossil_Use_Percent   74 non-null     float64\n",
            " 9   Fossil_Enr_Annual_Change    74 non-null     float64\n",
            " 10  KT_CO2_y                    74 non-null     float64\n",
            " 11  CO2_Annual_Change           74 non-null     float64\n",
            " 12  Population                  74 non-null     float64\n",
            " 13  Population_Annual_Change    74 non-null     float64\n",
            " 14  percentage_below_poverty    74 non-null     float64\n",
            " 15  poverty_percent_Change      74 non-null     float64\n",
            " 16  Unemployment_Rate           74 non-null     float64\n",
            " 17  Unemployment_Annual_Change  74 non-null     float64\n",
            " 18  year                        74 non-null     int64  \n",
            "dtypes: float64(18), int64(1)\n",
            "memory usage: 11.6 KB\n"
          ],
          "name": "stdout"
        }
      ]
    },
    {
      "cell_type": "code",
      "metadata": {
        "id": "jtNPzzSD1R-g"
      },
      "source": [
        "from sklearn.cluster import KMeans\n",
        "kmeans_df = KMeans(n_clusters=2, init='k-means++', max_iter=300, n_init=10)\n",
        "y_kmeans_df = kmeans_df.fit_predict(df)"
      ],
      "execution_count": 41,
      "outputs": []
    },
    {
      "cell_type": "code",
      "metadata": {
        "colab": {
          "base_uri": "https://localhost:8080/",
          "height": 312
        },
        "id": "xz906wNOPUcx",
        "outputId": "59c974b8-a6fe-4520-b1bc-964664b6b241"
      },
      "source": [
        "plt.scatter(df.values[:, 2], df.values[:, 4], c=y_kmeans_df, s=100, alpha=0.8)\n",
        "plt.title('Kmeans clustering')\n",
        "plt.xlabel('GDP Growth Percent')\n",
        "plt.ylabel('Co2 Emission')\n",
        "plt.legend()\n",
        "plt.show()"
      ],
      "execution_count": 60,
      "outputs": [
        {
          "output_type": "stream",
          "text": [
            "No handles with labels found to put in legend.\n"
          ],
          "name": "stderr"
        },
        {
          "output_type": "display_data",
          "data": {
            "image/png": "[encoded data removed]",
            "text/plain": [
              "<Figure size 432x288 with 1 Axes>"
            ]
          },
          "metadata": {
            "tags": [],
            "needs_background": "light"
          }
        }
      ]
    },
    {
      "cell_type": "markdown",
      "metadata": {
        "id": "AO9FbnOcg4TQ"
      },
      "source": [
        "##TF implemantaion"
      ]
    },
    {
      "cell_type": "code",
      "metadata": {
        "id": "AGaH_sIPQ2um"
      },
      "source": [
        "import tensorflow as tf\n",
        "from sklearn.preprocessing import MinMaxScaler"
      ],
      "execution_count": 44,
      "outputs": []
    },
    {
      "cell_type": "markdown",
      "metadata": {
        "id": "YNHqc5B8ojT5"
      },
      "source": [
        ""
      ]
    },
    {
      "cell_type": "code",
      "metadata": {
        "id": "eQJIYEKMhYkc"
      },
      "source": [
        "dPts= df\n",
        "mms = MinMaxScaler()\n",
        "mms.fit(dPts)\n",
        "data_transformed = mms.transform(dPts)\n",
        "dPts_=dPts.to_numpy()"
      ],
      "execution_count": 45,
      "outputs": []
    },
    {
      "cell_type": "code",
      "metadata": {
        "id": "kAsoP_BRhE5R"
      },
      "source": [
        "def input_fn():\n",
        "  return tf.compat.v1.train.limit_epochs(\n",
        "      tf.convert_to_tensor(dPts_, dtype=tf.float32), num_epochs=1)"
      ],
      "execution_count": 46,
      "outputs": []
    },
    {
      "cell_type": "code",
      "metadata": {
        "colab": {
          "base_uri": "https://localhost:8080/"
        },
        "id": "LjR8lxI_hJFf",
        "outputId": "681b7302-be1c-48b8-c646-6d3677f2158f"
      },
      "source": [
        "tf.compat.v1.logging.set_verbosity(tf.compat.v1.logging.ERROR) \n",
        " \n",
        "num_clusters = 2\n",
        "\n",
        "kmeans = tf.compat.v1.estimator.experimental.KMeans(\n",
        "    num_clusters=num_clusters, use_mini_batch=False)\n",
        "\n",
        "num_iterations = 10\n",
        "previous_centers = None\n",
        "for _ in range(num_iterations):\n",
        "    kmeans.train(input_fn)\n",
        "    cluster_centers = kmeans.cluster_centers()\n",
        "    if previous_centers is not None:\n",
        "        print('delta:', cluster_centers - previous_centers)\n",
        "    previous_centers = cluster_centers\n",
        "    print('score:', kmeans.score(input_fn))\n",
        "print('cluster centers:', cluster_centers)\n",
        "\n",
        "cluster_indices = list(kmeans.predict_cluster_index(input_fn))\n",
        "for i, point in enumerate(dPts_):\n",
        "    cluster_index = cluster_indices[i]\n",
        "    center = cluster_centers[cluster_index]"
      ],
      "execution_count": 47,
      "outputs": [
        {
          "output_type": "stream",
          "text": [
            "score: 1.3002987e+17\n",
            "delta: [[-1.3901943e+04 -1.3479027e+04 -3.4877133e-01  5.3576624e-01\n",
            "  -5.3966850e+05 -7.8249741e-01 -2.9786263e+00  3.4356062e+00\n",
            "   4.0454330e+00 -2.8398067e-01 -1.5436350e+05 -1.0644436e-02\n",
            "  -3.5503328e+07  1.6649336e-01 -1.0243297e-02 -4.1666664e-03\n",
            "   8.1167698e-02 -5.2298680e-03 -1.8500000e+01]\n",
            " [ 1.5873215e+04  1.0361191e+04 -1.9810905e+00 -1.0278358e-01\n",
            "  -7.8360000e+04 -1.0863228e+00 -4.4365768e+00  2.9892194e-01\n",
            "  -2.1063232e-01  1.9155221e-01 -1.1217550e+05 -2.3698567e-01\n",
            "   2.5736800e+07 -3.6961544e-01  1.8910050e-02  7.6923068e-03\n",
            "   1.1958327e+00  3.9241382e-01  9.4998779e+00]]\n",
            "score: 5.1136705e+16\n",
            "delta: [[-8.5335645e+02 -7.6550391e+02 -2.9072762e-03 -9.5319021e-03\n",
            "  -2.8091500e+04 -2.6397705e-03 -7.9189301e-02  1.0461144e-02\n",
            "   2.2276306e-01 -1.8651336e-02 -1.1383500e+04 -5.8723629e-02\n",
            "  -2.0288640e+06  4.4126511e-03 -1.3512373e-03 -6.7028990e-03\n",
            "  -2.4897099e-02  2.5109954e-02 -1.0000000e+00]\n",
            " [-1.7023438e+03 -1.1523984e+03  6.3606501e-02  2.3413122e-02\n",
            "  -1.8652500e+04  6.1508179e-02  3.3288193e-01  2.9005587e-02\n",
            "   9.9334717e-03  2.4531975e-02 -2.2000000e+04  1.2764184e-01\n",
            "  -2.8589440e+06  8.1868172e-03  1.3732910e-04  1.0164835e-02\n",
            "   5.7405472e-02 -4.2315297e-02 -1.0000000e+00]]\n",
            "score: 5.039805e+16\n",
            "delta: [[-4.0600684e+02 -3.7245410e+02 -4.4751167e-03 -8.0083683e-02\n",
            "  -1.1604500e+04  3.3607483e-03 -4.8484802e-02 -1.6754046e-02\n",
            "   1.2860107e-01 -3.6140382e-03 -1.8190000e+03 -1.1985958e-02\n",
            "  -9.9548800e+05  3.5756826e-03 -2.5773048e-04 -2.4154596e-04\n",
            "  -3.5289764e-02 -1.7496914e-02 -5.0000000e-01]\n",
            " [-8.3934375e+02 -5.7216406e+02  3.3050776e-02  1.2687485e-01\n",
            "  -1.3602000e+04  2.0172119e-02  1.5891647e-01  4.7657669e-02\n",
            "  -1.0734558e-02  1.1695176e-03 -1.6460000e+04  2.7218670e-02\n",
            "  -1.4159680e+06  1.7734170e-03 -6.5684319e-04 -6.1576441e-04\n",
            "   5.9888363e-02  2.8962135e-02 -5.0000000e-01]]\n",
            "score: 5.0189132e+16\n",
            "delta: [[-3.9153467e+02 -3.6553223e+02  7.7837706e-02  4.4003427e-02\n",
            "  -1.0116500e+04  5.4054260e-03 -3.6167145e-02  7.7116638e-03\n",
            "   1.3171387e-01  1.0312557e-02 -4.5000000e+02  3.4514666e-02\n",
            "  -9.8502400e+05  3.7382841e-03  5.6018829e-03 -2.5252532e-04\n",
            "  -2.0984650e-02 -2.3831427e-03 -5.0000000e-01]\n",
            " [-8.3167578e+02 -5.6900391e+02 -9.0175390e-02 -6.8916827e-02\n",
            "  -1.5652000e+04  1.6056061e-02  1.2701797e-01  7.4805021e-03\n",
            "  -6.0195923e-03 -1.9575134e-02 -1.7492000e+04 -4.3595791e-02\n",
            "  -1.4032640e+06  1.6551018e-03 -9.2240572e-03 -5.7471171e-04\n",
            "   3.2562256e-02  3.6979765e-03 -5.0000000e-01]]\n",
            "score: 5.0087763e+16\n",
            "delta: [[0. 0. 0. 0. 0. 0. 0. 0. 0. 0. 0. 0. 0. 0. 0. 0. 0. 0. 0.]\n",
            " [0. 0. 0. 0. 0. 0. 0. 0. 0. 0. 0. 0. 0. 0. 0. 0. 0. 0. 0.]]\n",
            "score: 5.0087763e+16\n",
            "delta: [[0. 0. 0. 0. 0. 0. 0. 0. 0. 0. 0. 0. 0. 0. 0. 0. 0. 0. 0.]\n",
            " [0. 0. 0. 0. 0. 0. 0. 0. 0. 0. 0. 0. 0. 0. 0. 0. 0. 0. 0.]]\n",
            "score: 5.0087763e+16\n",
            "delta: [[0. 0. 0. 0. 0. 0. 0. 0. 0. 0. 0. 0. 0. 0. 0. 0. 0. 0. 0.]\n",
            " [0. 0. 0. 0. 0. 0. 0. 0. 0. 0. 0. 0. 0. 0. 0. 0. 0. 0. 0.]]\n",
            "score: 5.0087763e+16\n",
            "delta: [[0. 0. 0. 0. 0. 0. 0. 0. 0. 0. 0. 0. 0. 0. 0. 0. 0. 0. 0.]\n",
            " [0. 0. 0. 0. 0. 0. 0. 0. 0. 0. 0. 0. 0. 0. 0. 0. 0. 0. 0.]]\n",
            "score: 5.0087763e+16\n",
            "delta: [[0. 0. 0. 0. 0. 0. 0. 0. 0. 0. 0. 0. 0. 0. 0. 0. 0. 0. 0.]\n",
            " [0. 0. 0. 0. 0. 0. 0. 0. 0. 0. 0. 0. 0. 0. 0. 0. 0. 0. 0.]]\n",
            "score: 5.0087763e+16\n",
            "cluster centers: [[ 7.0134771e+03  7.8745527e+03  3.3943839e+00 -9.8459180e-03\n",
            "   4.3656005e+06  1.9299429e+01  5.0973534e+01 -1.2297483e-01\n",
            "   9.1621811e+01 -2.7593347e-01  6.0533755e+06  5.3316063e-01\n",
            "   2.1021310e+08  1.1282200e+00  1.4520830e+00 -1.1363637e-02\n",
            "   5.8556857e+00 -1.0724135e-01  1.9685000e+03]\n",
            " [ 4.8751117e+04  4.0824613e+04  2.5067914e+00  8.5875615e-03\n",
            "   5.2747440e+06  1.8590614e+01  4.8917339e+01 -6.8693435e-01\n",
            "   8.5869148e+01 -1.7232144e-01  6.5808885e+06  2.4427906e-01\n",
            "   2.9523392e+08  9.1199988e-01  1.4674999e+00  1.6666666e-02\n",
            "   5.8556890e+00 -1.0724138e-01  2.0054999e+03]]\n"
          ],
          "name": "stdout"
        }
      ]
    },
    {
      "cell_type": "code",
      "metadata": {
        "colab": {
          "base_uri": "https://localhost:8080/"
        },
        "id": "bB7SLOUkhnzY",
        "outputId": "3fad90d3-93c8-4951-d378-dbce56a2e3de"
      },
      "source": [
        "centers = kmeans.cluster_centers()\n",
        "centers"
      ],
      "execution_count": 48,
      "outputs": [
        {
          "output_type": "execute_result",
          "data": {
            "text/plain": [
              "array([[ 7.0134771e+03,  7.8745527e+03,  3.3943839e+00, -9.8459180e-03,\n",
              "         4.3656005e+06,  1.9299429e+01,  5.0973534e+01, -1.2297483e-01,\n",
              "         9.1621811e+01, -2.7593347e-01,  6.0533755e+06,  5.3316063e-01,\n",
              "         2.1021310e+08,  1.1282200e+00,  1.4520830e+00, -1.1363637e-02,\n",
              "         5.8556857e+00, -1.0724135e-01,  1.9685000e+03],\n",
              "       [ 4.8751117e+04,  4.0824613e+04,  2.5067914e+00,  8.5875615e-03,\n",
              "         5.2747440e+06,  1.8590614e+01,  4.8917339e+01, -6.8693435e-01,\n",
              "         8.5869148e+01, -1.7232144e-01,  6.5808885e+06,  2.4427906e-01,\n",
              "         2.9523392e+08,  9.1199988e-01,  1.4674999e+00,  1.6666666e-02,\n",
              "         5.8556890e+00, -1.0724138e-01,  2.0054999e+03]], dtype=float32)"
            ]
          },
          "metadata": {
            "tags": []
          },
          "execution_count": 48
        }
      ]
    },
    {
      "cell_type": "code",
      "metadata": {
        "colab": {
          "base_uri": "https://localhost:8080/"
        },
        "id": "Ux8MwBCelnx3",
        "outputId": "e038fbc7-75c4-432c-e28f-86e15f0bdafc"
      },
      "source": [
        "df.info()"
      ],
      "execution_count": 49,
      "outputs": [
        {
          "output_type": "stream",
          "text": [
            "<class 'pandas.core.frame.DataFrame'>\n",
            "Int64Index: 74 entries, 1094 to 27758\n",
            "Data columns (total 19 columns):\n",
            " #   Column                      Non-Null Count  Dtype  \n",
            "---  ------                      --------------  -----  \n",
            " 0   gdp                         74 non-null     float64\n",
            " 1   percapita                   74 non-null     float64\n",
            " 2   GDP_Growth_Percent          74 non-null     float64\n",
            " 3   Growth_Annual_Change        74 non-null     float64\n",
            " 4   KT_CO2_x                    74 non-null     float64\n",
            " 5   Metric_TON_PerCapita        74 non-null     float64\n",
            " 6   Elect_frm_Coal_Percent      74 non-null     float64\n",
            " 7   Elect_Annual_Change         74 non-null     float64\n",
            " 8   Energy_Fossil_Use_Percent   74 non-null     float64\n",
            " 9   Fossil_Enr_Annual_Change    74 non-null     float64\n",
            " 10  KT_CO2_y                    74 non-null     float64\n",
            " 11  CO2_Annual_Change           74 non-null     float64\n",
            " 12  Population                  74 non-null     float64\n",
            " 13  Population_Annual_Change    74 non-null     float64\n",
            " 14  percentage_below_poverty    74 non-null     float64\n",
            " 15  poverty_percent_Change      74 non-null     float64\n",
            " 16  Unemployment_Rate           74 non-null     float64\n",
            " 17  Unemployment_Annual_Change  74 non-null     float64\n",
            " 18  year                        74 non-null     int64  \n",
            "dtypes: float64(18), int64(1)\n",
            "memory usage: 11.6 KB\n"
          ],
          "name": "stdout"
        }
      ]
    },
    {
      "cell_type": "code",
      "metadata": {
        "colab": {
          "base_uri": "https://localhost:8080/",
          "height": 331
        },
        "id": "IIeBcxpuhu_O",
        "outputId": "c41d9889-f618-49e4-8697-a81298eec1ca"
      },
      "source": [
        "tensor_data=tf.convert_to_tensor(dPts_, dtype=tf.float32)\n",
        "plt.subplots(figsize=(5, 5))\n",
        "\n",
        "plt.scatter(tensor_data[:, 2], tensor_data[:, 4], c=cluster_indices, s=100, alpha=0.5,cmap='viridis')\n",
        "\n",
        "plt.scatter(centers[:, 2], centers[:, 4], c='green', s=400, alpha=0.5);"
      ],
      "execution_count": 50,
      "outputs": [
        {
          "output_type": "display_data",
          "data": {
            "image/png": "[encoded data removed]",
            "text/plain": [
              "<Figure size 360x360 with 1 Axes>"
            ]
          },
          "metadata": {
            "tags": [],
            "needs_background": "light"
          }
        }
      ]
    },
    {
      "cell_type": "code",
      "metadata": {
        "id": "kn3a5xs6hx8a"
      },
      "source": [
        ""
      ],
      "execution_count": 50,
      "outputs": []
    }
  ]
}